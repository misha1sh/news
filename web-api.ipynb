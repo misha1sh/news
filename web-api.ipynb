{
 "cells": [
  {
   "cell_type": "code",
   "execution_count": 1,
   "id": "c087dcb5",
   "metadata": {},
   "outputs": [],
   "source": [
    "!mkdir back"
   ]
  },
  {
   "cell_type": "code",
   "execution_count": 2,
   "id": "6f38cca7",
   "metadata": {},
   "outputs": [],
   "source": [
    "!cd back"
   ]
  },
  {
   "cell_type": "code",
   "execution_count": 1,
   "id": "f4519e65",
   "metadata": {},
   "outputs": [
    {
     "name": "stdout",
     "output_type": "stream",
     "text": [
      "Requirement already satisfied: flask in /opt/anaconda3/lib/python3.8/site-packages (1.1.2)\n",
      "Requirement already satisfied: Werkzeug>=0.15 in /opt/anaconda3/lib/python3.8/site-packages (from flask) (1.0.1)\n",
      "Requirement already satisfied: Jinja2>=2.10.1 in /opt/anaconda3/lib/python3.8/site-packages (from flask) (2.11.3)\n",
      "Requirement already satisfied: click>=5.1 in /opt/anaconda3/lib/python3.8/site-packages (from flask) (7.1.2)\n",
      "Requirement already satisfied: itsdangerous>=0.24 in /opt/anaconda3/lib/python3.8/site-packages (from flask) (1.1.0)\n",
      "Requirement already satisfied: MarkupSafe>=0.23 in /opt/anaconda3/lib/python3.8/site-packages (from Jinja2>=2.10.1->flask) (1.1.1)\n"
     ]
    }
   ],
   "source": [
    "!pip install flask"
   ]
  },
  {
   "cell_type": "code",
   "execution_count": null,
   "id": "f212241d",
   "metadata": {},
   "outputs": [
    {
     "name": "stdout",
     "output_type": "stream",
     "text": [
      " * Serving Flask app \"__main__\" (lazy loading)\n",
      " * Environment: production\n",
      "\u001b[31m   WARNING: This is a development server. Do not use it in a production deployment.\u001b[0m\n",
      "\u001b[2m   Use a production WSGI server instead.\u001b[0m\n",
      " * Debug mode: off\n"
     ]
    },
    {
     "name": "stderr",
     "output_type": "stream",
     "text": [
      " * Running on http://127.0.0.1:5000/ (Press CTRL+C to quit)\n",
      "127.0.0.1 - - [08/Oct/2022 18:13:15] \"\u001b[37mGET / HTTP/1.1\u001b[0m\" 200 -\n",
      "127.0.0.1 - - [08/Oct/2022 18:13:23] \"\u001b[37mGET / HTTP/1.1\u001b[0m\" 200 -\n",
      "127.0.0.1 - - [08/Oct/2022 18:13:26] \"\u001b[37mGET /api/v0/digest/insights HTTP/1.1\u001b[0m\" 200 -\n",
      "127.0.0.1 - - [08/Oct/2022 18:13:27] \"\u001b[37mGET /api/v0/digest/insights HTTP/1.1\u001b[0m\" 200 -\n"
     ]
    }
   ],
   "source": [
    "#!flask/bin/python\n",
    "from flask import Flask\n",
    "import time\n",
    "\n",
    "from flask import Flask,render_template,jsonify\n",
    "import json\n",
    "\n",
    "app = Flask(__name__)\n",
    "\n",
    "\n",
    "\n",
    "digests = [\n",
    "    {\n",
    "        'id': 1,\n",
    "        'profile': 'accounter',\n",
    "        'title': u'Демобилизация',\n",
    "        'description': u'Поезд к дому мчится полечу домой как птица',\n",
    "        'date': u'12.10.2022',\n",
    "        'url': 'www.facebook.com'\n",
    "    },\n",
    "    {\n",
    "        'id': 2,\n",
    "        'profile': 'ceo',\n",
    "        'title': 'ставка ЦБ',\n",
    "        'description': 'Кризис аларм',\n",
    "        'date': '10.01.2021',\n",
    "        'url': 'www.vk.com'\n",
    "    }\n",
    "\n",
    "]\n",
    "\n",
    "trend = {'trends': ['мобилизация', 'Путин', 'Любовь', 'секс', 'наркотики']}\n",
    "insight = {'insights': ['тренды', 'секс']}\n",
    "\n",
    "\n",
    "# create digests for the accounter profile\n",
    "def digest_accounter():\n",
    "    digest = []\n",
    "    for i in digests:\n",
    "        if i['profile'] == 'accounter':\n",
    "            digest = i\n",
    "    return json.dumps(digest, ensure_ascii=False).encode('utf8')\n",
    "\n",
    "def digest_ceo():\n",
    "    digest = []\n",
    "    for i in digests:\n",
    "        if i['profile'] == 'ceo':\n",
    "            digest = i\n",
    "    return json.dumps(digest, ensure_ascii=False).encode('utf8')\n",
    "\n",
    "def trends():\n",
    "    return json.dumps(trend, ensure_ascii=False).encode('utf8')\n",
    "\n",
    "def insights():\n",
    "    return json.dumps(insight, ensure_ascii=False).encode('utf8')\n",
    "\n",
    "\n",
    "\n",
    "\n",
    "@app.route('/')\n",
    "def index():\n",
    "    return \"Hello, World!\"\n",
    "\n",
    "@app.route('/api/v0/digest/accounter', methods=['GET'])\n",
    "def get_digest_accounter():\n",
    "    return digest_accounter()\n",
    "\n",
    "@app.route('/api/v0/digest/ceo', methods=['GET'])\n",
    "def get_digest_ceo():\n",
    "    return digest_ceo()\n",
    "\n",
    "@app.route('/api/v0/digest/trends', methods=['GET'])\n",
    "def get_digest_trends():\n",
    "    return trends()\n",
    "\n",
    "@app.route('/api/v0/digest/insights', methods=['GET'])\n",
    "def get_digest_insights():\n",
    "    return insights()\n",
    "\n",
    "\n",
    "if __name__ == '__main__':\n",
    "    app.run(debug=False)"
   ]
  },
  {
   "cell_type": "code",
   "execution_count": null,
   "id": "9c0968d7",
   "metadata": {},
   "outputs": [],
   "source": []
  }
 ],
 "metadata": {
  "kernelspec": {
   "display_name": "Python 3",
   "language": "python",
   "name": "python3"
  },
  "language_info": {
   "codemirror_mode": {
    "name": "ipython",
    "version": 3
   },
   "file_extension": ".py",
   "mimetype": "text/x-python",
   "name": "python",
   "nbconvert_exporter": "python",
   "pygments_lexer": "ipython3",
   "version": "3.8.8"
  }
 },
 "nbformat": 4,
 "nbformat_minor": 5
}
