{
 "cells": [
  {
   "cell_type": "markdown",
   "metadata": {
    "id": "Kx_mHZLiyNEx"
   },
   "source": [
    "# Парсер новостных текстов с сайтов РБК и Лента.ру"
   ]
  },
  {
   "cell_type": "markdown",
   "metadata": {},
   "source": [
    "## Импорт библиотек и описание классов"
   ]
  },
  {
   "cell_type": "code",
   "execution_count": 1,
   "metadata": {
    "_kg_hide-output": true
   },
   "outputs": [
    {
     "name": "stdout",
     "output_type": "stream",
     "text": [
      "Collecting bs4\n",
      "  Downloading bs4-0.0.1.tar.gz (1.1 kB)\n",
      "Requirement already satisfied: beautifulsoup4 in ./.local/lib/python3.8/site-packages (from bs4) (4.11.1)\n",
      "Requirement already satisfied: soupsieve>1.2 in ./.local/lib/python3.8/site-packages (from beautifulsoup4->bs4) (2.3.2.post1)\n",
      "Building wheels for collected packages: bs4\n",
      "  Building wheel for bs4 (setup.py) ... \u001b[?25ldone\n",
      "\u001b[?25h  Created wheel for bs4: filename=bs4-0.0.1-py3-none-any.whl size=1272 sha256=4cc297f2cb37d555da3978225372e0199185ffdf5b4bfbc4c3fd498c743adf6b\n",
      "  Stored in directory: /home/misha-sh/.cache/pip/wheels/75/78/21/68b124549c9bdc94f822c02fb9aa3578a669843f9767776bca\n",
      "Successfully built bs4\n",
      "Installing collected packages: bs4\n",
      "Successfully installed bs4-0.0.1\n",
      "Collecting openpyxl\n",
      "  Downloading openpyxl-3.0.10-py2.py3-none-any.whl (242 kB)\n",
      "\u001b[K     |████████████████████████████████| 242 kB 2.1 MB/s eta 0:00:01\n",
      "\u001b[?25hCollecting et-xmlfile\n",
      "  Downloading et_xmlfile-1.1.0-py3-none-any.whl (4.7 kB)\n",
      "Installing collected packages: et-xmlfile, openpyxl\n",
      "Successfully installed et-xmlfile-1.1.0 openpyxl-3.0.10\n"
     ]
    }
   ],
   "source": [
    "# Установка библиотек\n",
    "!pip install bs4\n",
    "!pip install openpyxl"
   ]
  },
  {
   "cell_type": "code",
   "execution_count": 19,
   "metadata": {},
   "outputs": [
    {
     "name": "stdout",
     "output_type": "stream",
     "text": [
      "Requirement already satisfied: lxml in ./.local/lib/python3.8/site-packages (4.9.1)\n"
     ]
    }
   ],
   "source": [
    "!pip3 install lxml"
   ]
  },
  {
   "cell_type": "code",
   "execution_count": 2,
   "metadata": {},
   "outputs": [],
   "source": [
    "# Импорт библиотек\n",
    "import requests as rq\n",
    "from bs4 import BeautifulSoup as bs\n",
    "import pandas as pd\n",
    "import numpy as np\n",
    "from datetime import datetime, timedelta\n",
    "from IPython import display"
   ]
  },
  {
   "cell_type": "markdown",
   "metadata": {},
   "source": [
    "Ниже описаны классы для извлечения данных. \n",
    "\n",
    "Используются поисковые движки сайтов, возвращающие по запросу json таблицы с информацией о статьях. \n",
    "\n",
    "При их использовании есть различные ограничения, например, на количество статей в запросе. Так на сайте РБК выдается максимум 100 статей, в то время как на Ленте.ру можно получить сразу 1000. По моим наблюдениям, запросы на Лента.ру ограничены временем, и соответственно, точное ограничение найти не получится. Более того, на Лента.ру сразу выдается текст статьи в json таблице, с РБК приходится дополнительно парсить текст со страниц.  "
   ]
  },
  {
   "cell_type": "markdown",
   "metadata": {},
   "source": [
    "### Парсер для РБК\n",
    "\n"
   ]
  },
  {
   "cell_type": "code",
   "execution_count": 2,
   "metadata": {
    "id": "1xwhXhO0jLNJ"
   },
   "outputs": [],
   "source": [
    "class rbc_parser:\n",
    "    def __init__(self):\n",
    "        pass\n",
    "    \n",
    "    \n",
    "    def _get_url(self, param_dict: dict) -> str:\n",
    "        \"\"\"\n",
    "        Возвращает URL для запроса json таблицы со статьями\n",
    "        \"\"\"\n",
    "        url = 'https://www.rbc.ru/v10/search/ajax/?\\\n",
    "        project={0}&\\\n",
    "        category={1}&\\\n",
    "        dateFrom={2}&\\\n",
    "        dateTo={3}&\\\n",
    "        offset={4}&\\\n",
    "        limit={5}&\\\n",
    "        query={6}&\\\n",
    "        material={7}'.format(param_dict['project'],\n",
    "                            param_dict['category'],\n",
    "                            param_dict['dateFrom'],\n",
    "                            param_dict['dateTo'],\n",
    "                            param_dict['offset'],\n",
    "                            param_dict['limit'],\n",
    "                            param_dict['query'],\n",
    "                            param_dict['material'])\n",
    "        \n",
    "        return url\n",
    "    \n",
    "    \n",
    "    def _get_search_table(self, param_dict: dict,\n",
    "                          includeText: bool = True) -> pd.DataFrame:\n",
    "        \"\"\"\n",
    "        Возвращает pd.DataFrame со списком статей\n",
    "        \n",
    "        includeText: bool\n",
    "        ### Если True, статьи возвращаются с текстами\n",
    "        \"\"\"\n",
    "        url = self._get_url(param_dict)\n",
    "        r = rq.get(url)\n",
    "        search_table = pd.DataFrame(r.json()['items'])\n",
    "        if includeText and not search_table.empty:\n",
    "            get_text = lambda x: self._get_article_data(x['fronturl'])\n",
    "            search_table[['overview', 'text']] = search_table.apply(get_text,\n",
    "                                                                    axis=1).tolist()\n",
    "            \n",
    "        return search_table.sort_values('publish_date_t', ignore_index=True)\n",
    "    \n",
    "    \n",
    "    def _get_article_data(self, url: str):\n",
    "        \"\"\"\n",
    "        Возвращает описание и текст статьи по ссылке\n",
    "        \"\"\"\n",
    "        r = rq.get(url)\n",
    "        soup = bs(r.text, features=\"lxml\") # features=\"lxml\" чтобы не было warning\n",
    "        div_overview = soup.find('div', {'class': 'article__text__overview'})\n",
    "        if div_overview:\n",
    "            overview = div_overview.text.replace('<br />','\\n').strip()\n",
    "        else:\n",
    "            overview = None\n",
    "        p_text = soup.find_all('p')\n",
    "        if p_text:\n",
    "            text = ' '.join(map(lambda x:\n",
    "                                x.text.replace('<br />','\\n').strip(),\n",
    "                                p_text))\n",
    "        else:\n",
    "            text = None\n",
    "        \n",
    "        return overview, text \n",
    "    \n",
    "    def get_articles(self,\n",
    "                     param_dict,\n",
    "                     time_step = 7,\n",
    "                     save_every = 5,\n",
    "                     save_excel = True) -> pd.DataFrame:\n",
    "        \"\"\"\n",
    "        Функция для скачивания статей интервалами через каждые time_step дней\n",
    "        Делает сохранение таблицы через каждые save_every * time_step дней\n",
    "\n",
    "        param_dict: dict\n",
    "        ### Параметры запроса \n",
    "        ###### project - раздел поиска, например, rbcnews\n",
    "        ###### category - категория поиска, например, TopRbcRu_economics\n",
    "        ###### dateFrom - с даты\n",
    "        ###### dateTo - по дату\n",
    "        ###### offset - смещение поисковой выдачи\n",
    "        ###### limit - лимит статей, максимум 100\n",
    "        ###### query - поисковой запрос (ключевое слово), например, РБК\n",
    "\n",
    "        \"\"\"\n",
    "        param_copy = param_dict.copy()\n",
    "        time_step = timedelta(days=time_step)\n",
    "        dateFrom = datetime.strptime(param_copy['dateFrom'], '%d.%m.%Y')\n",
    "        dateTo = datetime.strptime(param_copy['dateTo'], '%d.%m.%Y')\n",
    "        if dateFrom > dateTo:\n",
    "            raise ValueError('dateFrom should be less than dateTo')\n",
    "        \n",
    "        out = pd.DataFrame()\n",
    "        save_counter = 0\n",
    "\n",
    "        while dateFrom <= dateTo:\n",
    "            param_copy['dateTo'] = (dateFrom + time_step).strftime(\"%d.%m.%Y\")\n",
    "            if dateFrom + time_step > dateTo:\n",
    "                param_copy['dateTo'] = dateTo.strftime(\"%d.%m.%Y\")\n",
    "            print('Parsing articles from ' + param_copy['dateFrom'] +  ' to ' + param_copy['dateTo'])\n",
    "            out = out.append(self._get_search_table(param_copy), ignore_index=True)\n",
    "            dateFrom += time_step + timedelta(days=1)\n",
    "            param_copy['dateFrom'] = dateFrom.strftime(\"%d.%m.%Y\")\n",
    "            save_counter += 1\n",
    "            if save_counter == save_every:\n",
    "                display.clear_output(wait=True)\n",
    "                out.to_excel(\"/tmp/checkpoint_table.xlsx\")\n",
    "                print('Checkpoint saved!')\n",
    "                save_counter = 0\n",
    "        \n",
    "        if save_excel:\n",
    "            out.to_excel(\"rbc_{}_{}.xlsx\".format(\n",
    "                param_dict['dateFrom'],\n",
    "                param_dict['dateTo']))\n",
    "        print('Finish')\n",
    "        \n",
    "        return out"
   ]
  },
  {
   "cell_type": "markdown",
   "metadata": {},
   "source": [
    "### Парсер для Лента.ру"
   ]
  },
  {
   "cell_type": "code",
   "execution_count": 3,
   "metadata": {
    "id": "xYqhPr1yRjQY"
   },
   "outputs": [],
   "source": [
    "class lentaRu_parser:\n",
    "    def __init__(self):\n",
    "        pass\n",
    "    \n",
    "    \n",
    "    def _get_url(self, param_dict: dict) -> str:\n",
    "        \"\"\"\n",
    "        Возвращает URL для запроса json таблицы со статьями\n",
    "\n",
    "        url = 'https://lenta.ru/search/v2/process?'\\\n",
    "        + 'from=0&'\\                       # Смещение\n",
    "        + 'size=1000&'\\                    # Кол-во статей\n",
    "        + 'sort=2&'\\                       # Сортировка по дате (2), по релевантности (1)\n",
    "        + 'title_only=0&'\\                 # Точная фраза в заголовке\n",
    "        + 'domain=1&'\\                     # ??\n",
    "        + 'modified%2Cformat=yyyy-MM-dd&'\\ # Формат даты\n",
    "        + 'type=1&'\\                       # Материалы. Все материалы (0). Новость (1)\n",
    "        + 'bloc=4&'\\                       # Рубрика. Экономика (4). Все рубрики (0)\n",
    "        + 'modified%2Cfrom=2020-01-01&'\\\n",
    "        + 'modified%2Cto=2020-11-01&'\\\n",
    "        + 'query='                         # Поисковой запрос\n",
    "        \"\"\"\n",
    "        hasType = int(param_dict['type']) != 0\n",
    "        hasBloc = int(param_dict['bloc']) != 0\n",
    "\n",
    "        url = 'https://lenta.ru/search/v2/process?'\\\n",
    "        + 'from={}&'.format(param_dict['from'])\\\n",
    "        + 'size={}&'.format(param_dict['size'])\\\n",
    "        + 'sort={}&'.format(param_dict['sort'])\\\n",
    "        + 'title_only={}&'.format(param_dict['title_only'])\\\n",
    "        + 'domain={}&'.format(param_dict['domain'])\\\n",
    "        + 'modified%2Cformat=yyyy-MM-dd&'\\\n",
    "        + 'type={}&'.format(param_dict['type']) * hasType\\\n",
    "        + 'bloc={}&'.format(param_dict['bloc']) * hasBloc\\\n",
    "        + 'modified%2Cfrom={}&'.format(param_dict['dateFrom'])\\\n",
    "        + 'modified%2Cto={}&'.format(param_dict['dateTo'])\\\n",
    "        + 'query={}'.format(param_dict['query'])\n",
    "        \n",
    "        return url\n",
    "\n",
    "\n",
    "    def _get_search_table(self, param_dict: dict) -> pd.DataFrame:\n",
    "        \"\"\"\n",
    "        Возвращает pd.DataFrame со списком статей\n",
    "        \"\"\"\n",
    "        url = self._get_url(param_dict)\n",
    "        r = rq.get(url)\n",
    "        search_table = pd.DataFrame(r.json()['matches'])\n",
    "        \n",
    "        return search_table\n",
    "\n",
    "    \n",
    "    def get_articles(self,\n",
    "                     param_dict,\n",
    "                     time_step = 37,\n",
    "                     save_every = 5, \n",
    "                     save_excel = True) -> pd.DataFrame:\n",
    "        \"\"\"\n",
    "        Функция для скачивания статей интервалами через каждые time_step дней\n",
    "        Делает сохранение таблицы через каждые save_every * time_step дней\n",
    "\n",
    "        param_dict: dict\n",
    "        ### Параметры запроса \n",
    "        ###### project - раздел поиска, например, rbcnews\n",
    "        ###### category - категория поиска, например, TopRbcRu_economics\n",
    "        ###### dateFrom - с даты\n",
    "        ###### dateTo - по дату\n",
    "        ###### offset - смещение поисковой выдачи\n",
    "        ###### limit - лимит статей, максимум 100\n",
    "        ###### query - поисковой запрос (ключевое слово), например, РБК\n",
    "\n",
    "        \"\"\"\n",
    "        param_copy = param_dict.copy()\n",
    "        time_step = timedelta(days=time_step)\n",
    "        dateFrom = datetime.strptime(param_copy['dateFrom'], '%Y-%m-%d')\n",
    "        dateTo = datetime.strptime(param_copy['dateTo'], '%Y-%m-%d')\n",
    "        if dateFrom > dateTo:\n",
    "            raise ValueError('dateFrom should be less than dateTo')\n",
    "        \n",
    "        out = pd.DataFrame()\n",
    "        save_counter = 0\n",
    "\n",
    "        while dateFrom <= dateTo:\n",
    "            param_copy['dateTo'] = (dateFrom + time_step).strftime('%Y-%m-%d')\n",
    "            if dateFrom + time_step > dateTo:\n",
    "                param_copy['dateTo'] = dateTo.strftime('%Y-%m-%d')\n",
    "            print('Parsing articles from '\\\n",
    "                  + param_copy['dateFrom'] +  ' to ' + param_copy['dateTo'])\n",
    "            out = out.append(self._get_search_table(param_copy), ignore_index=True)\n",
    "            dateFrom += time_step + timedelta(days=1)\n",
    "            param_copy['dateFrom'] = dateFrom.strftime('%Y-%m-%d')\n",
    "            save_counter += 1\n",
    "            if save_counter == save_every:\n",
    "                display.clear_output(wait=True)\n",
    "                out.to_excel(\"/tmp/checkpoint_table.xlsx\")\n",
    "                print('Checkpoint saved!')\n",
    "                save_counter = 0\n",
    "            \n",
    "        if save_excel:\n",
    "            out.to_excel(\"lenta_{}_{}.xlsx\".format(\n",
    "                param_dict['dateFrom'],\n",
    "                param_dict['dateTo']))\n",
    "        print('Finish')\n",
    "        \n",
    "        return out"
   ]
  },
  {
   "cell_type": "markdown",
   "metadata": {},
   "source": [
    "## Пример выгрузки данных"
   ]
  },
  {
   "cell_type": "markdown",
   "metadata": {},
   "source": [
    "### РБК\n",
    "\n",
    "* __project__ - проекты РБК. Возможные значения: [\"rbcnews\", \"rbctv\", \"rbcstyle\", \"sport\", \"realty\", \"crypto\", \"autonews\", \"quote\", \"bc3\", \"trends\"]\n",
    " \n",
    "* __category__ - рубрики: [\"TopRbcRu_economics\", \"TopRbcRu_auto\", \"TopRbcRu_business\", \"TopRbcRu_money\", \"TopRbcRu_realty\", \"TopRbcRu_society\", \"TopRbcRu_politics\", \"TopRbcRu_own_business\", \"TopRbcRu_specials\", \"TopRbcRu_technology_and_media\", \"TopRbcRu_finances\"]\n",
    "\n",
    "* __material__ - материалы: [\"video\", \"quiz\", \"interview\", \"research\", \"card\", \"opinion\", \"multimedia\", \"short_news\", \"olympics_online\", \"online\", \"investigation\", \"rating\", \"article_specproject\", \"article\", \"story\"]\n",
    "\n",
    "* __dateFrom__ - с даты \n",
    "\n",
    "* __dateTo__ - по дату \n",
    "\n",
    "* __offset__ - смещение поисковой выдачи (от 0 до 100)\n",
    "\n",
    "* __limit__ - лимит запроса, максимум 100 \n",
    "\n",
    "_Чтобы не специфировать параметр, оставляем поле пустым_"
   ]
  },
  {
   "cell_type": "code",
   "execution_count": 4,
   "metadata": {
    "id": "3thQqZuQOMd9",
    "outputId": "8932d6c2-671d-481c-c37c-dc27f63d08d0"
   },
   "outputs": [
    {
     "name": "stdout",
     "output_type": "stream",
     "text": [
      "РБК - param_dict: {'query': 'РБК', 'project': 'rbcnews', 'category': 'TopRbcRu_economics', 'dateFrom': '01.01.2021', 'dateTo': '28.02.2021', 'offset': '0', 'limit': '100', 'material': ''}\n"
     ]
    }
   ],
   "source": [
    "# Задаем параметры запросы и складываем в param_dict\n",
    "use_parser = \"РБК\"\n",
    "\n",
    "query = 'РБК'\n",
    "project = \"rbcnews\"\n",
    "category = \"TopRbcRu_economics\"\n",
    "material = \"\"\n",
    "dateFrom = '2021-01-01'\n",
    "dateTo = \"2021-02-28\"\n",
    "offset = 0\n",
    "limit = 100\n",
    "\n",
    "if use_parser == \"РБК\":\n",
    "    param_dict = {'query'   : query, \n",
    "                  'project' : project,\n",
    "                  'category': category,\n",
    "                  'dateFrom': datetime.\n",
    "                  strptime(dateFrom, '%Y-%m-%d').\n",
    "                  strftime('%d.%m.%Y'),\n",
    "                  'dateTo'  : datetime.\n",
    "                  strptime(dateTo, '%Y-%m-%d').\n",
    "                  strftime('%d.%m.%Y'),\n",
    "                  'offset'  : str(offset),\n",
    "                  'limit'   : str(limit),\n",
    "                  'material': material}\n",
    "\n",
    "print(use_parser, \"- param_dict:\", param_dict)"
   ]
  },
  {
   "cell_type": "code",
   "execution_count": 10,
   "metadata": {
    "id": "isXrJKyHYZzM",
    "outputId": "007020ee-29bf-4297-e042-1a3579c4ed58"
   },
   "outputs": [
    {
     "name": "stdout",
     "output_type": "stream",
     "text": [
      "10\n"
     ]
    },
    {
     "data": {
      "text/plain": [
       "'Нобелевский комитет, приняв решение о награждении премией правозащитного центра «Мемориал» (признан в России иноагентом и ликвидирован), сделал правильный выбор, заявила вдова первого президента России Наина Ельцина. Пресс-релиз с ее оценкой опубликован на сайте Ельцин-центра. «Сегодня стало известно, что Нобелевскую премию мира в числе других получил российский центр «Мемориал». Хотела\\xa0бы от всего сердца поздравить с этой высокой наградой наших правозащитников. Для людей, работающих в «Мемориале», не было задачи важнее, чем защита конституционных прав и свобод людей, независимо от их политических убеждений, должностей или веры»,\\xa0— отметила Ельцина. «Считаю, что Нобелевский комитет сделал очень правильный выбор. И дай Бог, чтобы правозащитники «Мемориала» и в будущем имели возможность работать на благо наших людей»,\\xa0— подчеркнула она.  Кроме того, Ельцина напомнила,\\xa0что «Мемориал» занимался разоблачением преступлений сталинского режима и считал это своей принципиальной задачей. «Тысячи фамилий репрессированных и их трагические истории стали известны только благодаря усилиям правозащитников»,\\xa0— сказала она. Борис Ельцин стал членом «Мемориала» в 1989 году, в год его создания. «Я хорошо помню, как Борис и в личных разговорах, и публично высоко оценивал деятельность этой организации. И это были не просто слова. Первый президент России всегда поддерживал усилия «Мемориала» в восстановлении исторической справедливости»,\\xa0— говорится в пресс-релизе.  7 октября Нобелевский комитет объявил лауреатов премии мира. В этом году ими стали «Мемориал», белорусский правозащитник Алесь Беляцкий и украинский Центр гражданских свобод. Нобелевский комитет объяснил свой выбор желанием воздать должное «трем выдающимся борцам за права человека, демократию и мирное сосуществование в соседних странах\\xa0— Беларуси, России и Украине». Размер Нобелевской премии в этом году составит 10 млн шведских крон (около $0,9 млн). Во время объявления лауреатов премии правозащитники из «Мемориала» были на заседании суда, где рассматривался очередной иск Генпрокуратуры к организации. «Премия очень важна, потому что на том депрессивном фоне, на котором мы в последние месяцы жили и работали,\\xa0— эта премия дает новые моральные силы, моральное одобрение для всех нас, для наших коллег, и не только в «Мемориале». Эту премию мы расцениваем как дань уважения всему правозащитному сообществу. Поможет\\xa0ли она в плане уменьшения давления на нас? Боюсь, что нет»,\\xa0— сказал сопредседатель Центра защиты прав человека «Мемориал» Олег Орлов.  «Мемориал»\\xa0— российская правозащитная организация. Она была учреждена в 1992 году в Москве, а до этого с 1987 года существовала в виде московской одноименной общественной группы. Одним из организаторов и первым почетным председателем «Мемориала» был академик Андрей Сахаров. Правозащитная организация исследовала политические репрессии в СССР.\\n\\r\\nВ 2014 году юрлица «Мемориала» попали в России в реестр НКО-иноагентов. В список иноагентов также вошли региональные отделения центра, а в октябре 2016 года статус иноагента присвоили и международному «Мемориалу».\\n\\r\\nВ декабре 2021 года правозащитный центр и историко-просветительское общество «Мемориал» были ликвидированы по решению судов. Генпрокуратура заявила, что международный «Мемориал», занимавшийся исследованиями репрессий в СССР и восстановлением памяти их жертв, «спекулирует на теме политических репрессий, искажает историческую память, в том числе о Великой Отечественной войне, и создает лживый образ СССР как террористического государства».'"
      ]
     },
     "execution_count": 10,
     "metadata": {},
     "output_type": "execute_result"
    }
   ],
   "source": [
    "# Пример того, как выглядит json таблица запроса по параметрам.\n",
    "# Действует ограничение в 100 статей на 1 запрос (параметром limit)\n",
    "assert use_parser == \"РБК\"\n",
    "parser = rbc_parser()\n",
    "tbl = parser._get_search_table(param_dict,\n",
    "                               includeText = True) # Парсить текст статей\n",
    "print(len(tbl))\n",
    "tbl.head()\n",
    "tbl['text'][0]"
   ]
  },
  {
   "cell_type": "code",
   "execution_count": 12,
   "metadata": {},
   "outputs": [
    {
     "name": "stdout",
     "output_type": "stream",
     "text": [
      "Checkpoint saved!\n",
      "Parsing articles from 10.02.2021 to 17.02.2021\n"
     ]
    },
    {
     "name": "stderr",
     "output_type": "stream",
     "text": [
      "/tmp/ipykernel_5304/2151416731.py:105: FutureWarning: The frame.append method is deprecated and will be removed from pandas in a future version. Use pandas.concat instead.\n",
      "  out = out.append(self._get_search_table(param_copy), ignore_index=True)\n"
     ]
    },
    {
     "name": "stdout",
     "output_type": "stream",
     "text": [
      "Parsing articles from 18.02.2021 to 25.02.2021\n"
     ]
    },
    {
     "name": "stderr",
     "output_type": "stream",
     "text": [
      "/tmp/ipykernel_5304/2151416731.py:105: FutureWarning: The frame.append method is deprecated and will be removed from pandas in a future version. Use pandas.concat instead.\n",
      "  out = out.append(self._get_search_table(param_copy), ignore_index=True)\n"
     ]
    },
    {
     "name": "stdout",
     "output_type": "stream",
     "text": [
      "Parsing articles from 26.02.2021 to 28.02.2021\n",
      "Finish\n",
      "80\n"
     ]
    },
    {
     "name": "stderr",
     "output_type": "stream",
     "text": [
      "/tmp/ipykernel_5304/2151416731.py:105: FutureWarning: The frame.append method is deprecated and will be removed from pandas in a future version. Use pandas.concat instead.\n",
      "  out = out.append(self._get_search_table(param_copy), ignore_index=True)\n"
     ]
    },
    {
     "data": {
      "text/html": [
       "<div>\n",
       "<style scoped>\n",
       "    .dataframe tbody tr th:only-of-type {\n",
       "        vertical-align: middle;\n",
       "    }\n",
       "\n",
       "    .dataframe tbody tr th {\n",
       "        vertical-align: top;\n",
       "    }\n",
       "\n",
       "    .dataframe thead th {\n",
       "        text-align: right;\n",
       "    }\n",
       "</style>\n",
       "<table border=\"1\" class=\"dataframe\">\n",
       "  <thead>\n",
       "    <tr style=\"text-align: right;\">\n",
       "      <th></th>\n",
       "      <th>id</th>\n",
       "      <th>fronturl</th>\n",
       "      <th>publish_date_t</th>\n",
       "      <th>publish_date</th>\n",
       "      <th>title</th>\n",
       "      <th>photo</th>\n",
       "      <th>project</th>\n",
       "      <th>category</th>\n",
       "      <th>opinion_authors</th>\n",
       "      <th>authors</th>\n",
       "      <th>anons</th>\n",
       "      <th>overview</th>\n",
       "      <th>text</th>\n",
       "    </tr>\n",
       "  </thead>\n",
       "  <tbody>\n",
       "    <tr>\n",
       "      <th>0</th>\n",
       "      <td>63404cc59a7947663eaa6bae</td>\n",
       "      <td>https://www.rbc.ru/politics/07/10/2022/63404cc...</td>\n",
       "      <td>1665158767</td>\n",
       "      <td>Fri, 07 Oct 2022 19:06:07 +0300</td>\n",
       "      <td>Росстат перестал публиковать данные о смертнос...</td>\n",
       "      <td>{'url': 'https://s0.rbk.ru/v6_top_pics/resized...</td>\n",
       "      <td>None</td>\n",
       "      <td>Политика</td>\n",
       "      <td>None</td>\n",
       "      <td>[Екатерина Виноградова, Елена Чернышова]</td>\n",
       "      <td>...  публиковать данные о смертности от корон...</td>\n",
       "      <td>Ведомство объяснило это решение «очевидным сни...</td>\n",
       "      <td>Росстат перестал публиковать данные о смертнос...</td>\n",
       "    </tr>\n",
       "    <tr>\n",
       "      <th>1</th>\n",
       "      <td>634041959a794762778cad5a</td>\n",
       "      <td>https://www.rbc.ru/crypto/news/634041959a79476...</td>\n",
       "      <td>1665158925</td>\n",
       "      <td>Fri, 07 Oct 2022 19:08:45 +0300</td>\n",
       "      <td>BNB Chain решит судьбу заблокированных криптоа...</td>\n",
       "      <td>{'url': 'https://s0.rbk.ru/v6_top_pics/resized...</td>\n",
       "      <td>Крипто</td>\n",
       "      <td>None</td>\n",
       "      <td>None</td>\n",
       "      <td>[Анастасия Кузьмичева]</td>\n",
       "      <td>...  Больше новостей о криптовалютах вы найде...</td>\n",
       "      <td>На повестку будут вынесены вопросы о заморозке...</td>\n",
       "      <td>Получайте рассылку с новостями, которые касают...</td>\n",
       "    </tr>\n",
       "    <tr>\n",
       "      <th>2</th>\n",
       "      <td>63404f449a794768137fd32d</td>\n",
       "      <td>https://www.rbc.ru/politics/07/10/2022/63404f4...</td>\n",
       "      <td>1665159151</td>\n",
       "      <td>Fri, 07 Oct 2022 19:12:31 +0300</td>\n",
       "      <td>Как лидеры СНГ приехали на встречу в Санкт-Пет...</td>\n",
       "      <td>{'url': ''}</td>\n",
       "      <td>None</td>\n",
       "      <td>Политика</td>\n",
       "      <td>None</td>\n",
       "      <td>None</td>\n",
       "      <td>В Петербурге прошел неформальный саммит лидер...</td>\n",
       "      <td>В Петербурге прошел неформальный саммит лидеро...</td>\n",
       "      <td></td>\n",
       "    </tr>\n",
       "    <tr>\n",
       "      <th>3</th>\n",
       "      <td>6340315b9a79475c585c07f3</td>\n",
       "      <td>https://www.rbc.ru/politics/07/10/2022/6340315...</td>\n",
       "      <td>1665159391</td>\n",
       "      <td>Fri, 07 Oct 2022 19:16:31 +0300</td>\n",
       "      <td>СПЧ ООН поддержал назначение спецдокладчика по...</td>\n",
       "      <td>{'url': 'https://s0.rbk.ru/v6_top_pics/resized...</td>\n",
       "      <td>None</td>\n",
       "      <td>Политика</td>\n",
       "      <td>None</td>\n",
       "      <td>[Елена Чернышова]</td>\n",
       "      <td>...  и Генеральной ассамблее на ее 78-й сесси...</td>\n",
       "      <td>Совет ООН по правам человека принял проект рез...</td>\n",
       "      <td>Совет ООН по правам человека на 51-й сессии в ...</td>\n",
       "    </tr>\n",
       "    <tr>\n",
       "      <th>4</th>\n",
       "      <td>63404d3c9a794766cf75f120</td>\n",
       "      <td>https://nn.rbc.ru/nn/freenews/63404d3c9a794766...</td>\n",
       "      <td>1665159529</td>\n",
       "      <td>Fri, 07 Oct 2022 19:18:49 +0300</td>\n",
       "      <td>Сервисом «Стать добровольцем» воспользовались ...</td>\n",
       "      <td>{'url': 'https://s0.rbk.ru/v6_top_pics/resized...</td>\n",
       "      <td>None</td>\n",
       "      <td>None</td>\n",
       "      <td>None</td>\n",
       "      <td>None</td>\n",
       "      <td>...  оформлении заявки не возникает», — подче...</td>\n",
       "      <td>None</td>\n",
       "      <td>Сервисом «Стать добровольцем» на Госуслугах во...</td>\n",
       "    </tr>\n",
       "  </tbody>\n",
       "</table>\n",
       "</div>"
      ],
      "text/plain": [
       "                         id  \\\n",
       "0  63404cc59a7947663eaa6bae   \n",
       "1  634041959a794762778cad5a   \n",
       "2  63404f449a794768137fd32d   \n",
       "3  6340315b9a79475c585c07f3   \n",
       "4  63404d3c9a794766cf75f120   \n",
       "\n",
       "                                            fronturl  publish_date_t  \\\n",
       "0  https://www.rbc.ru/politics/07/10/2022/63404cc...      1665158767   \n",
       "1  https://www.rbc.ru/crypto/news/634041959a79476...      1665158925   \n",
       "2  https://www.rbc.ru/politics/07/10/2022/63404f4...      1665159151   \n",
       "3  https://www.rbc.ru/politics/07/10/2022/6340315...      1665159391   \n",
       "4  https://nn.rbc.ru/nn/freenews/63404d3c9a794766...      1665159529   \n",
       "\n",
       "                      publish_date  \\\n",
       "0  Fri, 07 Oct 2022 19:06:07 +0300   \n",
       "1  Fri, 07 Oct 2022 19:08:45 +0300   \n",
       "2  Fri, 07 Oct 2022 19:12:31 +0300   \n",
       "3  Fri, 07 Oct 2022 19:16:31 +0300   \n",
       "4  Fri, 07 Oct 2022 19:18:49 +0300   \n",
       "\n",
       "                                               title  \\\n",
       "0  Росстат перестал публиковать данные о смертнос...   \n",
       "1  BNB Chain решит судьбу заблокированных криптоа...   \n",
       "2  Как лидеры СНГ приехали на встречу в Санкт-Пет...   \n",
       "3  СПЧ ООН поддержал назначение спецдокладчика по...   \n",
       "4  Сервисом «Стать добровольцем» воспользовались ...   \n",
       "\n",
       "                                               photo project  category  \\\n",
       "0  {'url': 'https://s0.rbk.ru/v6_top_pics/resized...    None  Политика   \n",
       "1  {'url': 'https://s0.rbk.ru/v6_top_pics/resized...  Крипто      None   \n",
       "2                                        {'url': ''}    None  Политика   \n",
       "3  {'url': 'https://s0.rbk.ru/v6_top_pics/resized...    None  Политика   \n",
       "4  {'url': 'https://s0.rbk.ru/v6_top_pics/resized...    None      None   \n",
       "\n",
       "  opinion_authors                                   authors  \\\n",
       "0            None  [Екатерина Виноградова, Елена Чернышова]   \n",
       "1            None                    [Анастасия Кузьмичева]   \n",
       "2            None                                      None   \n",
       "3            None                         [Елена Чернышова]   \n",
       "4            None                                      None   \n",
       "\n",
       "                                               anons  \\\n",
       "0   ...  публиковать данные о смертности от корон...   \n",
       "1   ...  Больше новостей о криптовалютах вы найде...   \n",
       "2   В Петербурге прошел неформальный саммит лидер...   \n",
       "3   ...  и Генеральной ассамблее на ее 78-й сесси...   \n",
       "4   ...  оформлении заявки не возникает», — подче...   \n",
       "\n",
       "                                            overview  \\\n",
       "0  Ведомство объяснило это решение «очевидным сни...   \n",
       "1  На повестку будут вынесены вопросы о заморозке...   \n",
       "2  В Петербурге прошел неформальный саммит лидеро...   \n",
       "3  Совет ООН по правам человека принял проект рез...   \n",
       "4                                               None   \n",
       "\n",
       "                                                text  \n",
       "0  Росстат перестал публиковать данные о смертнос...  \n",
       "1  Получайте рассылку с новостями, которые касают...  \n",
       "2                                                     \n",
       "3  Совет ООН по правам человека на 51-й сессии в ...  \n",
       "4  Сервисом «Стать добровольцем» на Госуслугах во...  "
      ]
     },
     "execution_count": 12,
     "metadata": {},
     "output_type": "execute_result"
    }
   ],
   "source": [
    "# Пример работы программы итеративного сбора большого количества текстов статей\n",
    "# Работает, конечно, очень долго :(\n",
    "table = parser.get_articles(param_dict=param_dict,\n",
    "                             time_step = 7, # Шаг - 7 дней, можно больше,\n",
    "                                            # но есть риск отсечения статей в неделях, гдестатей больше 100\n",
    "                             save_every = 5, # Сохранять чекпойнт каждые 5 шагов\n",
    "                             save_excel = True) # Сохранить итоговый файл\n",
    "print(len(table))\n",
    "table.head()"
   ]
  },
  {
   "cell_type": "markdown",
   "metadata": {},
   "source": [
    "### Лента.ру\n",
    "\n",
    "* __query__ - поисковой запрос (ключевое слово)\n",
    "\n",
    "* __offset__ - cмещение поисковой выдачи (от 0 до __size__)\n",
    "\n",
    "* __size__ - количество статей. Ограничено время запроса, точного лимита нет. 1000 работает почти всегда \n",
    "\n",
    "* __sort__ - сортировка по дате: (2) - по убыванию, (3) - по возрастанию; по релевантности (1) \n",
    "\n",
    "* __title_only__ - точная фраза в заголовке (1)\n",
    "\n",
    "* __domain__ - ? \n",
    "\n",
    "* __material__ - материалы: Все материалы (0). Новость (1). [\"0\", \"1\", \"2\", \"3\", \"4\", ...]\n",
    "\n",
    "* __block__ - рубрика: Экономика (4). Все рубрики (0). [\"0\", \"1\", \"2\", \"3\", \"4\", ...]\n",
    "\n",
    "* __dateFrom__ - с даты\n",
    "\n",
    "* __dateTo__ - по дату\n",
    "\n",
    "_Чтобы не специфировать параметр, оставляем поле пустым_"
   ]
  },
  {
   "cell_type": "code",
   "execution_count": 13,
   "metadata": {},
   "outputs": [
    {
     "name": "stdout",
     "output_type": "stream",
     "text": [
      "LentaRu - param_dict: {'query': '', 'from': '0', 'size': '1000', 'dateFrom': '2020-01-01', 'dateTo': '2020-03-31', 'sort': '3', 'title_only': '0', 'type': '0', 'bloc': '4', 'domain': '1'}\n"
     ]
    }
   ],
   "source": [
    "# Задаем тут параметры\n",
    "use_parser = \"LentaRu\"\n",
    "\n",
    "query = ''\n",
    "offset = 0\n",
    "size = 1000\n",
    "sort = \"3\"\n",
    "title_only = \"0\"\n",
    "domain = \"1\"\n",
    "material = \"0\"\n",
    "bloc = \"4\"\n",
    "dateFrom = '2020-01-01'\n",
    "dateTo = \"2020-03-31\"\n",
    "\n",
    "if use_parser == \"LentaRu\":\n",
    "    param_dict = {'query'     : query, \n",
    "                  'from'      : str(offset),\n",
    "                  'size'      : str(size),\n",
    "                  'dateFrom'  : dateFrom,\n",
    "                  'dateTo'    : dateTo,\n",
    "                  'sort'      : sort,\n",
    "                  'title_only': title_only,\n",
    "                  'type'      : material, \n",
    "                  'bloc'      : bloc,\n",
    "                  'domain'    : domain}\n",
    "\n",
    "print(use_parser, \"- param_dict:\", param_dict)"
   ]
  },
  {
   "cell_type": "code",
   "execution_count": 14,
   "metadata": {
    "id": "_P68Sk0BpsOa",
    "outputId": "42443f0c-5e20-4494-e8a4-164a10e14316"
   },
   "outputs": [
    {
     "name": "stdout",
     "output_type": "stream",
     "text": [
      "Parsing articles from 2020-01-01 to 2020-02-07\n"
     ]
    },
    {
     "name": "stderr",
     "output_type": "stream",
     "text": [
      "/tmp/ipykernel_5304/3409529851.py:89: FutureWarning: The frame.append method is deprecated and will be removed from pandas in a future version. Use pandas.concat instead.\n",
      "  out = out.append(self._get_search_table(param_copy), ignore_index=True)\n"
     ]
    },
    {
     "name": "stdout",
     "output_type": "stream",
     "text": [
      "Parsing articles from 2020-02-08 to 2020-03-16\n"
     ]
    },
    {
     "name": "stderr",
     "output_type": "stream",
     "text": [
      "/tmp/ipykernel_5304/3409529851.py:89: FutureWarning: The frame.append method is deprecated and will be removed from pandas in a future version. Use pandas.concat instead.\n",
      "  out = out.append(self._get_search_table(param_copy), ignore_index=True)\n"
     ]
    },
    {
     "name": "stdout",
     "output_type": "stream",
     "text": [
      "Parsing articles from 2020-03-17 to 2020-03-31\n"
     ]
    },
    {
     "name": "stderr",
     "output_type": "stream",
     "text": [
      "/tmp/ipykernel_5304/3409529851.py:89: FutureWarning: The frame.append method is deprecated and will be removed from pandas in a future version. Use pandas.concat instead.\n",
      "  out = out.append(self._get_search_table(param_copy), ignore_index=True)\n"
     ]
    },
    {
     "name": "stdout",
     "output_type": "stream",
     "text": [
      "Finish\n",
      "300\n"
     ]
    },
    {
     "data": {
      "text/html": [
       "<div>\n",
       "<style scoped>\n",
       "    .dataframe tbody tr th:only-of-type {\n",
       "        vertical-align: middle;\n",
       "    }\n",
       "\n",
       "    .dataframe tbody tr th {\n",
       "        vertical-align: top;\n",
       "    }\n",
       "\n",
       "    .dataframe thead th {\n",
       "        text-align: right;\n",
       "    }\n",
       "</style>\n",
       "<table border=\"1\" class=\"dataframe\">\n",
       "  <thead>\n",
       "    <tr style=\"text-align: right;\">\n",
       "      <th></th>\n",
       "      <th>docid</th>\n",
       "      <th>url</th>\n",
       "      <th>title</th>\n",
       "      <th>modified</th>\n",
       "      <th>lastmodtime</th>\n",
       "      <th>type</th>\n",
       "      <th>domain</th>\n",
       "      <th>status</th>\n",
       "      <th>part</th>\n",
       "      <th>bloc</th>\n",
       "      <th>tags</th>\n",
       "      <th>image_url</th>\n",
       "      <th>pubdate</th>\n",
       "      <th>text</th>\n",
       "      <th>rightcol</th>\n",
       "      <th>snippet</th>\n",
       "    </tr>\n",
       "  </thead>\n",
       "  <tbody>\n",
       "    <tr>\n",
       "      <th>0</th>\n",
       "      <td>943747</td>\n",
       "      <td>https://lenta.ru/news/2020/01/01/org/</td>\n",
       "      <td>В России утвердили стандарты органической еды</td>\n",
       "      <td>1577838649</td>\n",
       "      <td>1577838649</td>\n",
       "      <td>1</td>\n",
       "      <td>1</td>\n",
       "      <td>0</td>\n",
       "      <td>0</td>\n",
       "      <td>4</td>\n",
       "      <td>[7, 8]</td>\n",
       "      <td>https://icdn.lenta.ru/images/2019/12/31/13/201...</td>\n",
       "      <td>1577838649</td>\n",
       "      <td>Фото: Rupert Oberhäuser / Globallookpress.com ...</td>\n",
       "      <td>Вступил в силу принятый в 2018 году закон</td>\n",
       "      <td>Фото: Rupert Oberhäuser / ... для производител...</td>\n",
       "    </tr>\n",
       "    <tr>\n",
       "      <th>1</th>\n",
       "      <td>943634</td>\n",
       "      <td>https://lenta.ru/news/2020/01/01/theaters/</td>\n",
       "      <td>Российские театры освободили от налогов</td>\n",
       "      <td>1577840882</td>\n",
       "      <td>1577840883</td>\n",
       "      <td>1</td>\n",
       "      <td>1</td>\n",
       "      <td>0</td>\n",
       "      <td>0</td>\n",
       "      <td>4</td>\n",
       "      <td>[7]</td>\n",
       "      <td>https://icdn.lenta.ru/images/2019/12/30/20/201...</td>\n",
       "      <td>1577840882</td>\n",
       "      <td>Фото: Константин Кокошкин / «Коммерсантъ» Росс...</td>\n",
       "      <td>Обнулить базу удастся при условии строго следо...</td>\n",
       "      <td>Фото: Константин Кокошкин / «Коммерсантъ»... п...</td>\n",
       "    </tr>\n",
       "    <tr>\n",
       "      <th>2</th>\n",
       "      <td>943811</td>\n",
       "      <td>https://lenta.ru/news/2020/01/01/tariff/</td>\n",
       "      <td>Покупать в интернете за границей стало сложнее</td>\n",
       "      <td>1577847420</td>\n",
       "      <td>1577958238</td>\n",
       "      <td>1</td>\n",
       "      <td>1</td>\n",
       "      <td>0</td>\n",
       "      <td>0</td>\n",
       "      <td>4</td>\n",
       "      <td>[7]</td>\n",
       "      <td>https://icdn.lenta.ru/images/2019/12/31/17/201...</td>\n",
       "      <td>1577847420</td>\n",
       "      <td>Фото: Depositphotos Покупать в интернете за гр...</td>\n",
       "      <td>Порог беспошлинного ввоза снижен до 200 евро з...</td>\n",
       "      <td>Фото: Depositphotos Покупать в интернете ..., ...</td>\n",
       "    </tr>\n",
       "    <tr>\n",
       "      <th>3</th>\n",
       "      <td>943816</td>\n",
       "      <td>https://lenta.ru/news/2020/01/01/gas/</td>\n",
       "      <td>На Украине подорожал газ</td>\n",
       "      <td>1577850424</td>\n",
       "      <td>1577850425</td>\n",
       "      <td>1</td>\n",
       "      <td>1</td>\n",
       "      <td>0</td>\n",
       "      <td>0</td>\n",
       "      <td>4</td>\n",
       "      <td>[7, 8, 198]</td>\n",
       "      <td>https://icdn.lenta.ru/images/2019/12/31/18/201...</td>\n",
       "      <td>1577850424</td>\n",
       "      <td>Фото: Sean Gallup / Getty Images Цена на газ д...</td>\n",
       "      <td>Стоимость тысячи кубометров для населения дост...</td>\n",
       "      <td>Фото: Sean Gallup / Getty Images Цена на ...,3...</td>\n",
       "    </tr>\n",
       "    <tr>\n",
       "      <th>4</th>\n",
       "      <td>943729</td>\n",
       "      <td>https://lenta.ru/news/2020/01/01/self/</td>\n",
       "      <td>В России стало больше самозанятых</td>\n",
       "      <td>1577854128</td>\n",
       "      <td>1577854128</td>\n",
       "      <td>1</td>\n",
       "      <td>1</td>\n",
       "      <td>0</td>\n",
       "      <td>0</td>\n",
       "      <td>4</td>\n",
       "      <td>[7]</td>\n",
       "      <td>https://icdn.lenta.ru/images/2019/12/31/11/201...</td>\n",
       "      <td>1577854128</td>\n",
       "      <td>Фото: Олег Харсеев / «Коммерсантъ» В России ст...</td>\n",
       "      <td>Режим распространили на 19 новых регионов</td>\n",
       "      <td>Фото: Олег Харсеев / «Коммерсантъ» В ... распр...</td>\n",
       "    </tr>\n",
       "  </tbody>\n",
       "</table>\n",
       "</div>"
      ],
      "text/plain": [
       "    docid                                         url  \\\n",
       "0  943747       https://lenta.ru/news/2020/01/01/org/   \n",
       "1  943634  https://lenta.ru/news/2020/01/01/theaters/   \n",
       "2  943811    https://lenta.ru/news/2020/01/01/tariff/   \n",
       "3  943816       https://lenta.ru/news/2020/01/01/gas/   \n",
       "4  943729      https://lenta.ru/news/2020/01/01/self/   \n",
       "\n",
       "                                            title    modified  lastmodtime  \\\n",
       "0   В России утвердили стандарты органической еды  1577838649   1577838649   \n",
       "1         Российские театры освободили от налогов  1577840882   1577840883   \n",
       "2  Покупать в интернете за границей стало сложнее  1577847420   1577958238   \n",
       "3                        На Украине подорожал газ  1577850424   1577850425   \n",
       "4               В России стало больше самозанятых  1577854128   1577854128   \n",
       "\n",
       "   type  domain  status  part  bloc         tags  \\\n",
       "0     1       1       0     0     4       [7, 8]   \n",
       "1     1       1       0     0     4          [7]   \n",
       "2     1       1       0     0     4          [7]   \n",
       "3     1       1       0     0     4  [7, 8, 198]   \n",
       "4     1       1       0     0     4          [7]   \n",
       "\n",
       "                                           image_url     pubdate  \\\n",
       "0  https://icdn.lenta.ru/images/2019/12/31/13/201...  1577838649   \n",
       "1  https://icdn.lenta.ru/images/2019/12/30/20/201...  1577840882   \n",
       "2  https://icdn.lenta.ru/images/2019/12/31/17/201...  1577847420   \n",
       "3  https://icdn.lenta.ru/images/2019/12/31/18/201...  1577850424   \n",
       "4  https://icdn.lenta.ru/images/2019/12/31/11/201...  1577854128   \n",
       "\n",
       "                                                text  \\\n",
       "0  Фото: Rupert Oberhäuser / Globallookpress.com ...   \n",
       "1  Фото: Константин Кокошкин / «Коммерсантъ» Росс...   \n",
       "2  Фото: Depositphotos Покупать в интернете за гр...   \n",
       "3  Фото: Sean Gallup / Getty Images Цена на газ д...   \n",
       "4  Фото: Олег Харсеев / «Коммерсантъ» В России ст...   \n",
       "\n",
       "                                            rightcol  \\\n",
       "0          Вступил в силу принятый в 2018 году закон   \n",
       "1  Обнулить базу удастся при условии строго следо...   \n",
       "2  Порог беспошлинного ввоза снижен до 200 евро з...   \n",
       "3  Стоимость тысячи кубометров для населения дост...   \n",
       "4          Режим распространили на 19 новых регионов   \n",
       "\n",
       "                                             snippet  \n",
       "0  Фото: Rupert Oberhäuser / ... для производител...  \n",
       "1  Фото: Константин Кокошкин / «Коммерсантъ»... п...  \n",
       "2  Фото: Depositphotos Покупать в интернете ..., ...  \n",
       "3  Фото: Sean Gallup / Getty Images Цена на ...,3...  \n",
       "4  Фото: Олег Харсеев / «Коммерсантъ» В ... распр...  "
      ]
     },
     "execution_count": 14,
     "metadata": {},
     "output_type": "execute_result"
    }
   ],
   "source": [
    "# Тоже будем собирать итеративно, правда можно ставить time_step побольше, т.к.\n",
    "# больше лимит на запрос статей. И Работает быстрее :)\n",
    "assert use_parser == \"LentaRu\"\n",
    "parser = lentaRu_parser()\n",
    "tbl = parser.get_articles(param_dict=param_dict,\n",
    "                         time_step = 37,\n",
    "                         save_every = 5, \n",
    "                         save_excel = True)\n",
    "print(len(tbl.index))\n",
    "tbl.head()"
   ]
  },
  {
   "cell_type": "code",
   "execution_count": null,
   "metadata": {},
   "outputs": [],
   "source": [
    "core-date-format date"
   ]
  },
  {
   "cell_type": "code",
   "execution_count": null,
   "metadata": {},
   "outputs": [],
   "source": [
    "<div class=\"article__bar first\">\\n                <div class=\"article__status\">\\n                                        <span class=\"status__block\">\\n                        <core-date-format date=\""
   ]
  },
  {
   "cell_type": "code",
   "execution_count": 35,
   "metadata": {},
   "outputs": [
    {
     "data": {
      "text/plain": [
       "'<!DOCTYPE HTML>\\n<html lang=\"ru\" xmlns:fb=\"http://ogp.me/ns/fb#\" xmlns:og=\"http://ogp.me/ns#\">\\n<head>\\n    <title>Добровольные страховые взносы самозанятых будут снижаться, если бизнесмен не ходит на больничный</title>\\n    <link title=\"Клерк.ру — практическая помощь бухгалтеру\" type=\"application/rss+xml\" rel=\"alternate\"\\n          href=\"https://www.klerk.ru/xml/index.xml\"/>\\n    <link rel=\"search\" href=\"/service/opensearch.xml\" title=\"Клерк.Ру\" type=\"application/opensearchdescription+xml\"/>\\n    <link rel=\"image_src\" href=\"//www.klerk.ru/img/og/clean_site.png\"/>\\n            <link rel=\"canonical\" href=\"/buh/news/537015/\" />        <meta charset=\"utf-8\"/>\\n    <!--[if IE]>\\n    <meta http-equiv=\"X-UA-Compatible\" content=\"IE=edge,chrome=1\"/><![endif]-->\\n    <meta name=\"viewport\" content=\"width=device-width, initial-scale=1.0, maximum-scale=1.0, user-scalable=no\"/>\\n\\n    <meta name=\"description\"\\n          content=\"Минтруд разработал параметры добровольного страхования самозанятых на случай временной нетрудоспособности. Надо будет платить около 15 тыс. руб. в год, чтобы иметь право на оплату больничных.\">\\n            <meta name=\"news_keywords\"\\n              content=\"\" />    <meta name=\"mailru-verification\" content=\"63a469313f472589\"/>\\n    <meta property=\"og:image\"\\n      content=\"https://www.klerk.ru/yindex.php/og?id=537015&entity=news&1\"/>\\n<meta property=\"og:image:width\" content=\"1200\">\\n<meta property=\"og:image:height\" content=\"627\">\\n<meta property=\"og:title\"\\n      content=\"Добровольные страховые взносы самозанятых будут снижаться, если бизнесмен не ходит на больничный\"/>\\n<meta property=\"og:description\"\\n      content=\"Минтруд разработал параметры добровольного страхования самозанятых на случай временной нетрудоспособности. Надо будет платить около 15 тыс. руб. в год, чтобы иметь право на оплату больничных.\"/>\\n<meta property=\"og:type\" content=\"article\"/>\\n<meta property=\"og:url\"\\n      content=\"https://www.klerk.ru/buh/news/537015/\"/>\\n<meta property=\"og:updated_time\"\\n      content=\"1665175528\"/>\\n<meta property=\"og:site_name\" content=\"Клерк\"/>\\n\\n<meta name=\"twitter:card\" content=\"summary_large_image\">\\n<meta name=\"twitter:title\"\\n      content=\"Добровольные страховые взносы самозанятых будут снижаться, если бизнесмен не ходит на больничный\">\\n<meta name=\"twitter:description\"\\n      content=\"Минтруд разработал параметры добровольного страхования самозанятых на случай временной нетрудоспособности. Надо будет платить около 15 тыс. руб. в год, чтобы иметь право на оплату больничных.\">\\n<meta name=\"twitter:image\"\\n      content=\"https://www.klerk.ru/yindex.php/og?id=537015&entity=news\">\\n<meta name=\"twitter:site\" content=\"@klerk_ru\">\\n<meta name=\"twitter:creator\" content=\"@klerk_ru\">\\n\\n    <meta property=\"fb:pages\" content=\"115964055094828\"/>\\n\\n    <!-- Content-Security-Policy -->\\n    <!-- <meta http-equiv=\"Content-Security-Policy\" content=\"\\n        default-src \\'self\\' *;\\n        script-src \\'self\\' * \\'unsafe-eval\\' \\'unsafe-inline\\';\\n        connect-src \\'self\\' *;\\n        img-src \\'self\\' *;\\n        style-src \\'self\\' * \\'unsafe-inline\\';\\n    \"> -->\\n\\n    <link rel=\"icon\" href=\"https://img.klerk.ru/favicon.ico\" type=\"image/x-icon\">\\n    <link rel=\"apple-touch-icon\" sizes=\"57x57\" href=\"https://img.klerk.ru/img/favicon/apple-touch-icon-57x57.png\"/>\\n    <link rel=\"apple-touch-icon\" sizes=\"60x60\" href=\"https://img.klerk.ru/img/favicon/apple-touch-icon-60x60.png\"/>\\n    <link rel=\"apple-touch-icon\" sizes=\"72x72\" href=\"https://img.klerk.ru/img/favicon/apple-touch-icon-72x72.png\"/>\\n    <link rel=\"apple-touch-icon\" sizes=\"76x76\" href=\"https://img.klerk.ru/img/favicon/apple-touch-icon-76x76.png\"/>\\n    <link rel=\"apple-touch-icon\" sizes=\"114x114\" href=\"https://img.klerk.ru/img/favicon/apple-touch-icon-114x114.png\"/>\\n    <link rel=\"apple-touch-icon\" sizes=\"120x120\" href=\"https://img.klerk.ru/img/favicon/apple-touch-icon-120x120.png\"/>\\n    <link rel=\"apple-touch-icon\" sizes=\"144x144\" href=\"https://img.klerk.ru/img/favicon/apple-touch-icon-144x144.png\"/>\\n    <link rel=\"apple-touch-icon\" sizes=\"152x152\" href=\"https://img.klerk.ru/img/favicon/apple-touch-icon-152x152.png\"/>\\n    <link rel=\"apple-touch-icon\" sizes=\"180x180\" href=\"https://img.klerk.ru/img/favicon/apple-touch-icon-180x180.png\"/>\\n        <link href=\\'/frontendcompiled/main.a41077a35f48b4875997.css\\' rel=\\'stylesheet\\' type=\\'text/css\\' />\\n    <link href=\"/html2016/styles/style_tools.css?v5\" rel=\"stylesheet\" type=\"text/css\"/>\\n\\n    <script src=\"/html5/js/jquery/jquery-1.8.1.min.js\"></script>\\n\\n    <!-- End Google Tag Manager -->\\n    <script type=\"text/javascript\">\\n        fb_app_id = 111067065633348;\\n    </script>\\n\\n    <!-- 88a72c462c647db8 -->\\n    <script type=\"application/ld+json\">\\n{ \"@context\" : \"http://schema.org\",\\n  \"@type\" : \"Organization\",\\n  \"name\" : \"Клерк.ру\",\\n  \"url\" : \"https://www.klerk.ru\",\\n  \"logo\": \"https://www.klerk.ru/img/klerk-logo.png\",\\n  \"sameAs\" : [\\n  \\t\"https://www.facebook.com/klerkru/\",\\n    \"https://twitter.com/klerk_ru\"\\n  ]\\n}\\n</script>\\n    \\n    <script>\\n        var request = new XMLHttpRequest();\\n        request.open(\\'POST\\', \\'/yindex.php/v4/document/view/?documentId=537015\\', true);\\n        request.send();\\n    </script>\\n\\n\\n    <script>\\n        var request = new XMLHttpRequest();\\n        request.open(\\'POST\\', \\'https://www.klerk.ru/ajax/viewevent/\\', true);\\n        request.send(\\'hkSYv8FCmUCgSKGYi2bmyryNfS5CEs/+dI9X9MewD3EvnPBgMSSTK05sMsjFbEQeiBbowXW+VK8j7Xnx+HOYNkLCmsKhHFfwOheoiJZL6rqra+M+bQt5YBW1c6WJ+xT6swJFiCzohlLsZ7BDrZfc9z5St2XsK6aF/i/bpCyJmhItsanM4fMGCmdpq9y9+Foo+quG/U29CMj0njjRi9nlMexCbnUxWfZmytdD1+L6X6hlHtenNqmuTMraGCJm0ggV41aVLKkyv3KWIIphIDnZYUlwKIyfLHye2WAFyDIywb4x8Cz3EHojbGQIqh5WKZF2IvAB0cBM8sszNZBbOvvPNefeKO/34fBVwtjHzdPZBLHMF6dgCeYHfdRJXiVy7/C1RBqEXF8xuV4eepp4JjLYhwoa13cRRfDzrc+xctGsgNq4OcDVIYQo3PbrVGsHyQTW+bindxUts5zlX+c7HXOHJ63PoIG+NHnuNCDl2HWpr+nMFNA8gEx8qvmj/mBSmiu1rh7cpR1RYM3V/3kR6bSqKCI4YX4TfESSqeD9BC6viExhmCORR7sl488SuW60AGT2WNskn/yRoghV0dEZLedoK3sjqQ6GXl/hUjUwVLbhHRA2oZJqr/9oj2lhy0MAVByzBAeV/kOHj2PfeahS/4UpghhDTM0HrDV1C1E4QMADz9bPQ7T0RlQvOf48+obfjeYP1gTKEdBTF26St1p+7hbHrzQGUiFwBCYbrxiS0LU9YhTH5a/ciSV1gDGjLZO3cdHJkUwq5eqDYy7fUxknh6v92XdmjdSaMrhcnVV/9Fy9LhueP9moM2nl1XShaXwkcK1KLhXeGue4rYCXbMdkpdn5vsGjIhZNCIcroFRW2LKU0VIzpPC0VFGlDGzNLxhoislicWObI9E7/egW/EdEZdQEqvgsCGxuIOCwNtKL+jGKumbznWZevyhHK2ciMsnw\\');\\n    </script>\\n\\n                            <script>window.yaContextCb = window.yaContextCb || []</script>\\n    <script src=\"https://yandex.ru/ads/system/context.js\" async></script>\\n            <script>\\n        fetch (\\'/yindex.php/cdp/api/get-uuid-cookie\\')\\n    </script>\\n        <script src=\"https://yastatic.net/s3/passport-sdk/autofill/v1/sdk-suggest-latest.js\"></script>\\n        <script src=\"https://accounts.google.com/gsi/client\" async defer></script>\\n    <link href=\"/dev.css?026\" rel=\"stylesheet\" type=\"text/css\"/>\\n</head>\\n    <body class=\"loading  body-new\">\\n<div id=\"new-login\">\\n    <new-login></new-login>\\n</div>\\n<script>\\n  window.$$state = {\"currentUser\":{\"id\":null,\"login\":null,\"name\":\"\",\"display_name\":\"\",\"avatar\":\"https:\\\\/\\\\/www.klerk.ru\\\\/images\\\\/noavatar.webp\",\"url\":\"\\\\/user\\\\/\\\\/\",\"email_confirmed\":null,\"phone_confirmed\":null,\"banned\":false,\"isAdmin\":false,\"city\":null,\"last_activity\":null},\"ownedBrands\":[],\"ownedBlogs\":[],\"subscribedBlogs\":[],\"onlineUsers\":[86247,2096169,205636,2111177,2052904,36707,2114799,1095540,1974520,1016559,2114782,1978919,3,2111197,346653,1952433,2075693,2021491,2114777,2000456,188986,2094009,2092814,2111140,2114797,2114795,1981225,2114796,1972553,2036100,2114794,2059024,1957439,1036065,1323341,1397451,146576],\"learnMarketing\":{\"nearestWebinar\":{\"title\":\"\\\\u0414\\\\u0435\\\\u0439\\\\u0441\\\\u0442\\\\u0432\\\\u0438\\\\u044f \\\\u0440\\\\u0430\\\\u0431\\\\u043e\\\\u0442\\\\u043e\\\\u0434\\\\u0430\\\\u0442\\\\u0435\\\\u043b\\\\u044f \\\\u0432 \\\\u043d\\\\u0435\\\\u0441\\\\u0442\\\\u0430\\\\u043d\\\\u0434\\\\u0430\\\\u0440\\\\u0442\\\\u043d\\\\u044b\\\\u0445 \\\\u0441\\\\u0438\\\\u0442\\\\u0443\\\\u0430\\\\u0446\\\\u0438\\\\u044f\\\\u0445. \\\\u041d\\\\u0435\\\\u0441\\\\u0447\\\\u0430\\\\u0441\\\\u0442\\\\u043d\\\\u044b\\\\u0435 \\\\u0441\\\\u043b\\\\u0443\\\\u0447\\\\u0430\\\\u0438 \\\\u043d\\\\u0430 \\\\u043f\\\\u0440\\\\u043e\\\\u0438\\\\u0437\\\\u0432\\\\u043e\\\\u0434\\\\u0441\\\\u0442\\\\u0432\\\\u0435\",\"starts\":\"2022-10-10 11:00:00\",\"url\":\"\\\\/learn\\\\/event\\\\/48760\\\\/\"},\"underArticleBlockShow\":4,\"html\":\"<article class=\\\\\"advertising-text-block\\\\\"> <div class=\\\\\"advertising-text-block__info\\\\\" style=\\\\\"background-color: #B47BCB; display: flex;flex-direction: column;align-items: center;border: 3px solid #905E96;color: #000000;\\\\\"><div class=\\\\\"advertising-text-block__text\\\\\"><div class=\\\\\"advertising-text-block__text-wrap\\\\\" style=\\\\\"padding-left: 8px; padding-right: 8px;\\\\\"><h3 class=\\\\\"advertising-text-block__title\\\\\" style=\\\\\"font-size: 22px; line-height: 30px; margin-top: 0px;\\\\\">\\\\r\\\\n\\\\u0411\\\\u0443\\\\u0445\\\\u0433\\\\u0430\\\\u043b\\\\u0442\\\\u0435\\\\u0440\\\\u044b, \\\\u043f\\\\u0435\\\\u0440\\\\u0435\\\\u0443\\\\u0447\\\\u0438\\\\u0432\\\\u0430\\\\u0439\\\\u0442\\\\u0435\\\\u0441\\\\u044c \\\\u043d\\\\u0430 \\\\u043c\\\\u0430\\\\u0440\\\\u043a\\\\u0435\\\\u0442\\\\u043e\\\\u043b\\\\u043e\\\\u0433\\\\u043e\\\\u0432 \\\\u0438 \\\\u0437\\\\u0430\\\\u0440\\\\u0430\\\\u0431\\\\u0430\\\\u0442\\\\u044b\\\\u0432\\\\u0430\\\\u0439\\\\u0442\\\\u0435 \\\\u043e\\\\u0442 70 000 \\\\u0440\\\\u0443\\\\u0431\\\\u043b\\\\u0435\\\\u0439!\\\\r\\\\n<\\\\/h3>\\\\r\\\\n<p class=\\\\\"advertising-text-block__description\\\\\">\\\\r\\\\n\\\\u041e\\\\u0441\\\\u0432\\\\u043e\\\\u0439\\\\u0442\\\\u0435 \\\\u0430\\\\u043a\\\\u0442\\\\u0443\\\\u0430\\\\u043b\\\\u044c\\\\u043d\\\\u0443\\\\u044e \\\\u0438 \\\\u043f\\\\u0440\\\\u0438\\\\u0431\\\\u044b\\\\u043b\\\\u044c\\\\u043d\\\\u0443\\\\u044e \\\\u043f\\\\u0440\\\\u043e\\\\u0444\\\\u0435\\\\u0441\\\\u0441\\\\u0438\\\\u044e \\\\u0432 2023 \\\\u0433\\\\u043e\\\\u0434\\\\u0443. \\\\u041c\\\\u0430\\\\u0440\\\\u043a\\\\u0435\\\\u0442\\\\u043e\\\\u043b\\\\u043e\\\\u0433\\\\u0438 \\\\u043d\\\\u0443\\\\u0436\\\\u043d\\\\u044b \\\\u043a\\\\u0430\\\\u0436\\\\u0434\\\\u043e\\\\u043c\\\\u0443 \\\\u0431\\\\u0438\\\\u0437\\\\u043d\\\\u0435\\\\u0441\\\\u0443 \\\\u2014 \\\\u0432\\\\u044b \\\\u0431\\\\u0443\\\\u0434\\\\u0435\\\\u0442\\\\u0435 \\\\u043f\\\\u0440\\\\u0438\\\\u043d\\\\u043e\\\\u0441\\\\u0438\\\\u0442\\\\u044c \\\\u0434\\\\u043e\\\\u0445\\\\u043e\\\\u0434 \\\\u0438 \\\\u0441\\\\u0442\\\\u0430\\\\u043d\\\\u0435\\\\u0442\\\\u0435 \\\\u0446\\\\u0435\\\\u043d\\\\u043d\\\\u044b\\\\u043c \\\\u0441\\\\u043e\\\\u0442\\\\u0440\\\\u0443\\\\u0434\\\\u043d\\\\u0438\\\\u043a\\\\u043e\\\\u043c.\\\\r\\\\n<\\\\/p>\\\\r\\\\n <p class=\\\\\"advertising-text-block__description\\\\\">\\\\r\\\\n<p class=\\\\\"advertising-text-block__description\\\\\">\\\\r\\\\n\\\\u041c\\\\u044b \\\\u0432\\\\u044b\\\\u043f\\\\u0443\\\\u0441\\\\u0442\\\\u0438\\\\u043b\\\\u0438 \\\\u043d\\\\u043e\\\\u0432\\\\u044b\\\\u0439 \\\\u043a\\\\u0443\\\\u0440\\\\u0441 \\\\u043f\\\\u0440\\\\u043e\\\\u0444\\\\u043f\\\\u0435\\\\u0440\\\\u0435\\\\u043f\\\\u043e\\\\u0434\\\\u0433\\\\u043e\\\\u0442\\\\u043e\\\\u0432\\\\u043a\\\\u0438 \\\\u0438 \\\\u0437\\\\u0430 \\\\u0434\\\\u0432\\\\u0430 \\\\u043c\\\\u0435\\\\u0441\\\\u044f\\\\u0446\\\\u0430 \\\\u0441\\\\u0434\\\\u0435\\\\u043b\\\\u0430\\\\u0435\\\\u043c \\\\u0438\\\\u0437 \\\\u0432\\\\u0430\\\\u0441 \\\\u043c\\\\u0430\\\\u0440\\\\u043a\\\\u0435\\\\u0442\\\\u043e\\\\u043b\\\\u043e\\\\u0433\\\\u0430. \\\\u041a\\\\u043e\\\\u0440\\\\u043e\\\\u0442\\\\u043a\\\\u043e \\\\u043e \\\\u0442\\\\u043e\\\\u043c, \\\\u0447\\\\u0442\\\\u043e \\\\u0431\\\\u0443\\\\u0434\\\\u0435\\\\u0442\\\\u0435 \\\\u0443\\\\u043c\\\\u0435\\\\u0442\\\\u044c:\\\\r\\\\n<\\\\/p>\\\\r\\\\n <p class=\\\\\"advertising-text-block__description\\\\\">\\\\r\\\\n    &#8226; \\\\u0430\\\\u043d\\\\u0430\\\\u043b\\\\u0438\\\\u0437\\\\u0438\\\\u0440\\\\u043e\\\\u0432\\\\u0430\\\\u0442\\\\u044c \\\\u0446\\\\u0435\\\\u043b\\\\u0435\\\\u0432\\\\u0443\\\\u044e \\\\u0430\\\\u0443\\\\u0434\\\\u0438\\\\u0442\\\\u043e\\\\u0440\\\\u0438\\\\u044e \\\\u0438 \\\\u043a\\\\u043e\\\\u043d\\\\u043a\\\\u0443\\\\u0440\\\\u0435\\\\u043d\\\\u0442\\\\u043e\\\\u0432; <br\\\\/>\\\\r\\\\n    &#8226; \\\\u0440\\\\u0430\\\\u0437\\\\u0440\\\\u0430\\\\u0431\\\\u0430\\\\u0442\\\\u044b\\\\u0432\\\\u0430\\\\u0442\\\\u044c \\\\u043c\\\\u0430\\\\u0440\\\\u043a\\\\u0435\\\\u0442\\\\u0438\\\\u043d\\\\u0433\\\\u043e\\\\u0432\\\\u0443\\\\u044e \\\\u0441\\\\u0442\\\\u0440\\\\u0430\\\\u0442\\\\u0435\\\\u0433\\\\u0438\\\\u044e; <br\\\\/>\\\\r\\\\n    &#8226; \\\\u0441\\\\u0442\\\\u0440\\\\u043e\\\\u0438\\\\u0442\\\\u044c \\\\u043f\\\\u0440\\\\u043e\\\\u0434\\\\u0443\\\\u043a\\\\u0442\\\\u043e\\\\u0432\\\\u044b\\\\u0435 \\\\u0433\\\\u0438\\\\u043f\\\\u043e\\\\u0442\\\\u0435\\\\u0437\\\\u044b. <br\\\\/>\\\\r\\\\n <\\\\/p>\\\\r\\\\n<p class=\\\\\"advertising-text-block__description\\\\\">\\\\r\\\\n\\\\u041f\\\\u043e \\\\u0432\\\\u044b\\\\u0433\\\\u043e\\\\u0434\\\\u043d\\\\u043e\\\\u0439 \\\\u0446\\\\u0435\\\\u043d\\\\u0435 \\\\u043a\\\\u0443\\\\u0440\\\\u0441 \\\\u0441\\\\u0442\\\\u043e\\\\u0438\\\\u0442 49 990\\\\u20bd. \\\\u0412\\\\u044b \\\\u043f\\\\u043e\\\\u043b\\\\u0443\\\\u0447\\\\u0438\\\\u0442\\\\u0435 \\\\u043a\\\\u0440\\\\u0430\\\\u0441\\\\u043d\\\\u044b\\\\u0439 \\\\u0434\\\\u0438\\\\u043f\\\\u043b\\\\u043e\\\\u043c \\\\u0441 \\\\u0432\\\\u043d\\\\u0435\\\\u0441\\\\u0435\\\\u043d\\\\u0438\\\\u0435\\\\u043c \\\\u0432 \\\\u0424\\\\u0418\\\\u0421 \\\\u0424\\\\u0420\\\\u0414\\\\u041e. <strong><a style=\\\\\"color: #316FEE;text-decoration:underline;\\\\\" href=\\\\\"https:\\\\/\\\\/edu.klerk.ru\\\\/marketer\\\\/?utm_source=klerk&utm_medium=post_27&utm_campaign=kpkUnderArticle&utm_content=kpk_mrket&utm_term=05_10_2022\\\\\">\\\\u0421\\\\u043c\\\\u043e\\\\u0442\\\\u0440\\\\u0438\\\\u0442\\\\u0435 \\\\u043f\\\\u0440\\\\u043e\\\\u0433\\\\u0440\\\\u0430\\\\u043c\\\\u043c\\\\u0443 \\\\u043a\\\\u0443\\\\u0440\\\\u0441\\\\u0430 \\\\u0437\\\\u0434\\\\u0435\\\\u0441\\\\u044c<\\\\/a><\\\\/strong> \\\\u0438\\\\u043b\\\\u0438 \\\\u0437\\\\u0430\\\\u043f\\\\u043e\\\\u043b\\\\u043d\\\\u044f\\\\u0439\\\\u0442\\\\u0435 \\\\u0444\\\\u043e\\\\u0440\\\\u043c\\\\u0443 \\\\u043d\\\\u0438\\\\u0436\\\\u0435 \\\\u2014 \\\\u0440\\\\u0430\\\\u0441\\\\u0441\\\\u043a\\\\u0430\\\\u0436\\\\u0435\\\\u043c \\\\u0431\\\\u043e\\\\u043b\\\\u044c\\\\u0448\\\\u0435. \\\\r\\\\n<\\\\/div><\\\\/div>\\\\r\\\\n<lead-form style=\\\\\"width:100%;\\\\\" partner=\\\\\"lead_klerk\\\\\" product=\\\\\"learn_article\\\\\" :additional-data=\\\\\"{bitrix: \\'\\\\u043b\\\\u0438\\\\u0434-\\\\u0444\\\\u043e\\\\u0440\\\\u043c\\\\u0430 \\\\u043f\\\\u043e\\\\u0434 \\\\u0441\\\\u0442\\\\u0430\\\\u0442\\\\u044c\\\\u0435\\\\u0439 \\\\u00ab\\\\u0417\\\\u0430\\\\u044f\\\\u0432\\\\u043a\\\\u0430 - \\\\u041a\\\\u041f\\\\u041a \\\\u00ab\\\\u0418\\\\u043d\\\\u0442\\\\u0435\\\\u0440\\\\u043d\\\\u0435\\\\u0442-\\\\u043c\\\\u0430\\\\u0440\\\\u043a\\\\u0435\\\\u0442\\\\u043e\\\\u043b\\\\u043e\\\\u0433 \\\\u0441 \\\\u043d\\\\u0443\\\\u043b\\\\u044f\\\\u00bb\\\\u00bb\\'}\\\\\"><\\\\/lead-form>\\\\r\\\\n\\\\r\\\\n    <\\\\/div>\\\\r\\\\n  <\\\\/article>\\\\r\\\\n\"},\"materialCounters\":{\"news\":34,\"articles\":11,\"blogs\":15,\"documents\":8,\"blanks\":0,\"comments\":205,\"registrations\":395,\"paywalls\":1,\"brandOffers\":0,\"journals\":6,\"consultations\":20,\"messages\":22,\"courses\":0,\"webinars\":1,\"education\":0,\"forum\":4,\"klerkEvents\":445,\"tribunePosts\":10,\"mailSubscriptions\":350238,\"vacancies\":0}}\\n</script>\\n<div id=\"fb-root\"></div>\\n\\n    <!-- Rating@Mail.ru counter -->\\n    <script type=\"text/javascript\">\\n        var _tmr = window._tmr || (window._tmr = []);\\n        _tmr.push({id: \"268208\", type: \"pageView\", start: (new Date()).getTime()});\\n        (function (d, w, id) {\\n            if (d.getElementById(id)) return;\\n            var ts = d.createElement(\"script\");\\n            ts.type = \"text/javascript\";\\n            ts.async = true;\\n            ts.id = id;\\n            ts.src = \"https://top-fwz1.mail.ru/js/code.js\";\\n            var f = function () {\\n                var s = d.getElementsByTagName(\"script\")[0];\\n                s.parentNode.insertBefore(ts, s);\\n            };\\n            if (w.opera == \"[object Opera]\") {\\n                d.addEventListener(\"DOMContentLoaded\", f, false);\\n            } else {\\n                f();\\n            }\\n        })(document, window, \"topmailru-code\");\\n    </script>\\n    <noscript>\\n        <div>\\n            <img src=\"https://top-fwz1.mail.ru/counter?id=268208;js=na\" style=\"border:0;position:absolute;left:-9999px;\"\\n                 alt=\"Top.Mail.Ru\"/>\\n        </div>\\n    </noscript>\\n    <!-- //Rating@Mail.ru counter -->\\n\\n<div id=\"aboveHeader\">\\n    <above-header></above-header>\\n</div>\\n<header id=\"header\" class=\"header\">\\n    <topnav >\\n        <div class=\"header-sidenav slot\" slot=\"usernav\">\\n    <usernav\\n            structure-id=\"\"\\n            template-id=\"170\"\\n            block-template-id=\"170\"\\n            topic=\"1\"\\n    >\\n    </usernav>\\n</div>            </topnav>\\n        <flash-message>\\n        <template slot=\"iconForSuccess\">\\n            <svg>\\n                <use xlink:href=\"#confirm\"></use>\\n            </svg>\\n        </template>\\n        <template slot=\"iconForError\">\\n            <svg>\\n                <use xlink:href=\"#cross\"></use>\\n            </svg>\\n        </template>\\n    </flash-message>\\n        \\n    </header><div class=\"page\">\\n        <nav class=\"page__sidenav\" id=\"sidebar\">     <div class=\"universal-block-wrapper\"\\n     style=\" ; flex-grow: 1; \">\\n    <sidebar ></sidebar>\\n</div>\\n  </nav>\\n  <div class=\"page__container\">\\n    <main>\\n      <div class=\"container--full-width jumbotron\">\\n  <div id=\"top\">\\n  </div>\\n</div>      <div class=\"container flex-container\">\\n        <section class=\"main__content main__content--wide\">\\n          <style>\\n    .article__event {\\n        margin-top: 24px;\\n    }\\n\\n    .article__event .learn__link-subscribe {\\n        width: 109px;\\n        line-height: 14px;\\n        font-size: 14px;\\n        border-radius: 2px;\\n        display: flex;\\n        margin-right: 16px;\\n    }\\n\\n    .article__event-type {\\n        font-size: 13px;\\n        font-style: normal;\\n        font-weight: 400;\\n        line-height: 16px;\\n        text-align: left;\\n        color: #999999;\\n    }\\n\\n    .article__event-image {\\n        width: 186px;\\n        height: 104px;\\n        border-radius: 4px;\\n        justify-content: center;\\n        object-fit: cover;\\n        flex-shrink: 0;\\n    }\\n\\n    .article__event-mg-8 {\\n        margin-bottom: 8px;\\n    }\\n\\n    .article__event .course__footer {\\n        display: flex;\\n        margin-top: auto;\\n    }\\n\\n    .article__event .course__footer {\\n        display: flex;\\n        margin-top: auto;\\n    }\\n\\n    .article__event .course__footer-info {\\n        display: flex;\\n    }\\n\\n    .article__event .course__price, .article__event .price {\\n        display: flex;\\n        -ms-flex-align: center;\\n        align-items: center;\\n    }\\n\\n    .article__event-mg-8\\n    .article__event .price__old-price {\\n        font-size: 13px;\\n        line-height: 16px;\\n        text-decoration: line-through;\\n        display: flex;\\n        align-self: center;\\n        align-items: center;\\n    }\\n\\n    .article__event .price__old-price svg {\\n        height: 16px;\\n        width: 16px;\\n        padding-right: 8px;\\n    }\\n\\n    .article__event .price__new-price {\\n        padding-left: 8px;\\n        color: #ff4464;\\n        font-weight: 500;\\n        font-size: 13px;\\n        line-height: 16px;\\n        text-decoration: line-through;\\n    }\\n\\n    .article__event .price__discount {\\n        background: #ff2f58;\\n        border-radius: 0 4px 4px 0;\\n        margin-left: 8px;\\n        padding: 2px;\\n        font-weight: 900;\\n        font-size: 11px;\\n        line-height: 12px;\\n        color: #fff;\\n    }\\n\\n    @media screen and (max-width: 375px) {\\n        .article__event .article__event-image {\\n            width: 100%;\\n            height: auto;\\n        }\\n\\n        .article__event .promotion__card {\\n            display: block !important;\\n        }\\n\\n        .article__event .learn__link-subscribe {\\n            width: 90px;\\n        }\\n    }\\n</style>\\n      \\n  <ul class=\"breadcrumbs breadcrumbs__events\" itemscope=\"itemscope\" itemtype=\"https://schema.org/BreadcrumbList\">\\n          <li class=\"breadcrumb\" itemprop=\"itemListElement\" itemscope=\"itemscope\" itemtype=\"https://schema.org/ListItem\">\\n                  <a itemprop=\"item\" href=\"/\" class=\"breadcrumb__link\">\\n              <span itemprop=\"name\">\\n                  Главная\\n              </span>\\n          </a>\\n                          <span class=\"breadcrumb__arrow\">&rarr;</span>\\n                  <meta itemprop=\"position\" content=\"1\">\\n      </li>\\n          <li class=\"breadcrumb\" itemprop=\"itemListElement\" itemscope=\"itemscope\" itemtype=\"https://schema.org/ListItem\">\\n                  <a itemprop=\"item\" href=\"/buh/\" class=\"breadcrumb__link\">\\n              <span itemprop=\"name\">\\n                  Бухгалтеру\\n              </span>\\n          </a>\\n                          <span class=\"breadcrumb__arrow\">&rarr;</span>\\n                  <meta itemprop=\"position\" content=\"2\">\\n      </li>\\n          <li class=\"breadcrumb\" itemprop=\"itemListElement\" itemscope=\"itemscope\" itemtype=\"https://schema.org/ListItem\">\\n                  <a itemprop=\"item\" href=\"/buh/news/\" class=\"breadcrumb__link\">\\n              <span itemprop=\"name\">\\n                  Новости для бухгалтера\\n              </span>\\n          </a>\\n                          <meta itemprop=\"position\" content=\"3\">\\n      </li>\\n      </ul>\\n<article class=\"article\"  id=\"app-vue\">\\n    <div data-placement=\"8\" class=\"promoTop-promotion__main\"></div>\\n      <script type=\"application/ld+json\">\\n    {\"@context\":\"http:\\\\/\\\\/schema.org\",\"@type\":\"News\",\"mainEntityOfPage\":{\"@type\":\"WebPage\",\"@id\":\"\\\\/buh\\\\/news\\\\/537015\\\\/\"},\"headline\":\"\\\\u0414\\\\u043e\\\\u0431\\\\u0440\\\\u043e\\\\u0432\\\\u043e\\\\u043b\\\\u044c\\\\u043d\\\\u044b\\\\u0435 \\\\u0441\\\\u0442\\\\u0440\\\\u0430\\\\u0445\\\\u043e\\\\u0432\\\\u044b\\\\u0435 \\\\u0432\\\\u0437\\\\u043d\\\\u043e\\\\u0441\\\\u044b \\\\u0441\\\\u0430\\\\u043c\\\\u043e\\\\u0437\\\\u0430\\\\u043d\\\\u044f\\\\u0442\\\\u044b\\\\u0445 \\\\u0431\\\\u0443\\\\u0434\\\\u0443\\\\u0442 \\\\u0441\\\\u043d\\\\u0438\\\\u0436\\\\u0430\\\\u0442\\\\u044c\\\\u0441\\\\u044f, \\\\u0435\\\\u0441\\\\u043b\\\\u0438 \\\\u0431\\\\u0438\\\\u0437\\\\u043d\\\\u0435\\\\u0441\\\\u043c\\\\u0435\\\\u043d \\\\u043d\\\\u0435 \\\\u0445\\\\u043e\\\\u0434\\\\u0438\\\\u0442 \\\\u043d\\\\u0430 \\\\u0431\\\\u043e\\\\u043b\\\\u044c\\\\u043d\\\\u0438\\\\u0447\\\\u043d\\\\u044b\\\\u0439\",\"image\":[],\"datePublished\":\"2022-10-06T13:42:00Z\",\"dateModified\":\"2022-10-06T13:37:24Z\",\"author\":{\"@type\":\"Organization\",\"name\":\"\\\\u041a\\\\u043b\\\\u0435\\\\u0440\\\\u043a.\\\\u0440\\\\u0443\",\"logo\":{\"@type\":\"ImageObject\",\"url\":\"https:\\\\/\\\\/www.klerk.ru\\\\/img\\\\/klerk-logo.png\"}},\"publisher\":{\"@type\":\"Organization\",\"name\":\"\\\\u041a\\\\u043b\\\\u0435\\\\u0440\\\\u043a.\\\\u0440\\\\u0443\",\"logo\":{\"@type\":\"ImageObject\",\"url\":\"https:\\\\/\\\\/www.klerk.ru\\\\/img\\\\/klerk-logo.png\"}},\"description\":\"\\\\u041c\\\\u0438\\\\u043d\\\\u0442\\\\u0440\\\\u0443\\\\u0434 \\\\u0440\\\\u0430\\\\u0437\\\\u0440\\\\u0430\\\\u0431\\\\u043e\\\\u0442\\\\u0430\\\\u043b \\\\u043f\\\\u0430\\\\u0440\\\\u0430\\\\u043c\\\\u0435\\\\u0442\\\\u0440\\\\u044b \\\\u0434\\\\u043e\\\\u0431\\\\u0440\\\\u043e\\\\u0432\\\\u043e\\\\u043b\\\\u044c\\\\u043d\\\\u043e\\\\u0433\\\\u043e \\\\u0441\\\\u0442\\\\u0440\\\\u0430\\\\u0445\\\\u043e\\\\u0432\\\\u0430\\\\u043d\\\\u0438\\\\u044f \\\\u0441\\\\u0430\\\\u043c\\\\u043e\\\\u0437\\\\u0430\\\\u043d\\\\u044f\\\\u0442\\\\u044b\\\\u0445 \\\\u043d\\\\u0430 \\\\u0441\\\\u043b\\\\u0443\\\\u0447\\\\u0430\\\\u0439 \\\\u0432\\\\u0440\\\\u0435\\\\u043c\\\\u0435\\\\u043d\\\\u043d\\\\u043e\\\\u0439 \\\\u043d\\\\u0435\\\\u0442\\\\u0440\\\\u0443\\\\u0434\\\\u043e\\\\u0441\\\\u043f\\\\u043e\\\\u0441\\\\u043e\\\\u0431\\\\u043d\\\\u043e\\\\u0441\\\\u0442\\\\u0438. \\\\u041d\\\\u0430\\\\u0434\\\\u043e \\\\u0431\\\\u0443\\\\u0434\\\\u0435\\\\u0442 \\\\u043f\\\\u043b\\\\u0430\\\\u0442\\\\u0438\\\\u0442\\\\u044c \\\\u043e\\\\u043a\\\\u043e\\\\u043b\\\\u043e 15 \\\\u0442\\\\u044b\\\\u0441. \\\\u0440\\\\u0443\\\\u0431. \\\\u0432 \\\\u0433\\\\u043e\\\\u0434, \\\\u0447\\\\u0442\\\\u043e\\\\u0431\\\\u044b \\\\u0438\\\\u043c\\\\u0435\\\\u0442\\\\u044c \\\\u043f\\\\u0440\\\\u0430\\\\u0432\\\\u043e \\\\u043d\\\\u0430 \\\\u043e\\\\u043f\\\\u043b\\\\u0430\\\\u0442\\\\u0443 \\\\u0431\\\\u043e\\\\u043b\\\\u044c\\\\u043d\\\\u0438\\\\u0447\\\\u043d\\\\u044b\\\\u0445.\"}\\n  </script>\\n                                        <header class=\"article__header\">\\n    <div class=\"article__top\">\\n                            <div class=\"article__bar first\">\\n                <div class=\"article__status\">\\n                                        <span class=\"status__block\">\\n                        <core-date-format date=\"2022-10-06 16:42:00\"></core-date-format>\\n                    </span>\\n                    <div class=\"title-rubric-blog-header\">\\n                                                    <a href=\"/rubricator/samozanyatie/\" class=\"rubric-link\">\\n                                <span class=\"rubric-title\">Самозанятые</span>\\n                            </a>\\n                                            </div>\\n                </div>\\n            </div>\\n                        </div>\\n                <h1>Добровольные страховые взносы самозанятых будут снижаться, если бизнесмен не ходит на больничный</h1>\\n                    <p class=\"article__resume\">Минтруд разработал параметры добровольного страхования самозанятых на случай временной нетрудоспособности. Надо будет платить около 15 тыс. руб. в год, чтобы иметь право на оплату больничных.</p>\\n                        <div class=\"article__bar\">\\n        <section class=\"article__actions\">\\n    <div class=\"actions__common top\">\\n        <comments-button :count=\"0\" href=\"#comments\"></comments-button>\\n        <like :docid=\"537015\"\\n              :topicid=\"1\"\\n              :count=\"0\"\\n              :amilike=\"0\"\\n              :canilike=\"1\"\\n              :entity-id=\"8118358\"\\n              ></like>\\n        <favorite class=\"article__favourite\"\\n                  :entity-id=\"8118358\"\\n                  :added=\"0\"\\n                  :total=\"0\"\\n        ></favorite>\\n        <base-share page-url=\"https://www.klerk.ru/buh/news/537015/\"></base-share>\\n        <a href=\"https://www.klerk.ru/print/537015\" class=\"actions__print\">\\n            <svg>\\n                <use xlink:href=\\'#print-2\\'></use>\\n            </svg>\\n            <span class=\"actions__print-tooltip\">Версия для печати</span>\\n        </a>\\n    </div>\\n    <div class=\"actions__common\">\\n                    <span class=\"status__block\">\\n            <span class=\"stats-block\" title=\"Просмотры\">\\n              <span class=\"stat\">\\n                <svg>\\n                  <use xlink:href=\"#eye\"></use>\\n                </svg>\\n                    <core-count-format count=\"557\"></core-count-format>\\n              </span>\\n            </span>\\n          </span>\\n                            <span class=\"status__block\">\\n            <span class=\"stats-block\" title=\"Дочитывания\">\\n              <span class=\"stat\">\\n                <svg>\\n                  <use xlink:href=\"#double-ok\"></use>\\n                </svg>\\n                    <core-count-format count=\"75\"></core-count-format>\\n              </span>\\n            </span>\\n          </span>\\n            </div>\\n</section>\\n    </div>\\n</header>\\n        <div class=\"article__wrapper\">\\n            <section class=\"article__body\">\\n                                                                                    <div class=\"article__content \"\\n                     v-watch=\" { conditions: { timer: 15000, scroll: 100 }, meta: { statistic: \\'hasBeenRead\\', id: 537015 } } \">\\n                                            <p>\\r\\tРазмер ежемесячного взноса будут рассчитывать исходя из\\xa0<strong>базовой величины страхуемого дохода</strong>. В\\xa02023 году страховой взнос будет 1247\\xa0руб.</p><blockquote><p>\\r\\t\\tПри этом после 18\\xa0месяцев непрерывной уплаты страховых взносов без страховых случаев размер взноса уменьшится на\\xa010%, а\\xa0после 24\\xa0месяцев\\xa0— на\\xa030%.</p></blockquote><p>\\r\\tТакже для самозанятых предусмотрена возможность <strong>«заморозки взноса»</strong> на\\xa01\\xa0месяц, <a href=\"https://t.me/mintrudrf/373\"  target=\"_blank\" rel=\"nofollow\">сообщает</a> Минтруд.</p><p>\\r\\tБольничный будет оплачивать СФР в\\xa0проактивном порядке.</p><p>\\r\\tПодключиться к\\xa0новой программе можно будет через приложение «Мой налог».</p><p>\\r\\tВ\\xa0первый год за\\xa0месяц болезни пособие составит:</p><ul><li>\\r\\t\\t22,7\\xa0тыс. руб. при стаже более 8\\xa0лет;</li><li>\\r\\t\\t18,1\\xa0тыс. руб. при стаже от\\xa05\\xa0до\\xa08\\xa0лет;</li><li>\\r\\t\\t13,6\\xa0тыс. руб. при стаже до\\xa05\\xa0лет.</li></ul>\\n                                                                                    <div class=\"papersheet__divider\"></div>\\n                                                                <div class=\"papersheet__divider\"></div>\\n                                                                                        </div>\\n                                    <footer class=\"article__footer\">\\n    <div class=\"singleNews__bottomSource\">\\n        <div class=\"sourceLink sourceLinkFlex\">\\n                    <ul class=\"newsTagsList\">\\n                                    <li><a class=\"tag--inline\" href=\"/tags/%D0%BE%D0%BF%D0%BB%D0%B0%D1%82%D0%B0+%D0%B1%D0%BE%D0%BB%D1%8C%D0%BD%D0%B8%D1%87%D0%BD%D1%8B%D1%85/\">оплата больничных</a></li>\\n                                    <li><a class=\"tag--inline\" href=\"/tags/%D0%B4%D0%BE%D0%B1%D1%80%D0%BE%D0%B2%D0%BE%D0%BB%D1%8C%D0%BD%D0%BE%D0%B5+%D1%81%D1%82%D1%80%D0%B0%D1%85%D0%BE%D0%B2%D0%B0%D0%BD%D0%B8%D0%B5/\">добровольное страхование</a></li>\\n                                    <li><a class=\"tag--inline\" href=\"/tags/%D1%81%D0%B0%D0%BC%D0%BE%D0%B7%D0%B0%D0%BD%D1%8F%D1%82%D1%8B%D0%B5/\">самозанятые</a></li>\\n                            </ul>\\n                                    </div>\\n    <section class=\"article__authors article__block\">\\n  </section>\\n      <div class=\"authors__source sourceLink\">\\n    <div class=\"categoryName\">\\n      <a href=\"/sources/352/\">Источник:</a>\\n    </div>\\n     «<a href=\"//www.klerk.ru/about/klerk/\">Клерк</a>»\\n  </div>\\n            <div class=\"sourceLink\">\\n        <div class=\"categoryName\"><a href=\"/rubricator/\">Рубрика</a>:</div>\\n                    <a href=\"/rubricator/samozanyatie/\">Самозанятые</a>            </div>\\n    </div>\\n    <section class=\"article__actions\">\\n    <div class=\"actions__common bottom\">\\n        <comments-button :count=\"0\" href=\"#comments\"></comments-button>\\n        <like :docid=\"537015\"\\n              :topicid=\"1\"\\n              :count=\"0\"\\n              :amilike=\"0\"\\n              :canilike=\"1\"\\n              :entity-id=\"8118358\"\\n              ></like>\\n        <favorite class=\"article__favourite\"\\n                  :entity-id=\"8118358\"\\n                  :added=\"0\"\\n                  :total=\"0\"\\n        ></favorite>\\n        <base-share page-url=\"https://www.klerk.ru/buh/news/537015/\"></base-share>\\n        <a href=\"https://www.klerk.ru/print/537015\" class=\"actions__print\">\\n            <svg>\\n                <use xlink:href=\\'#print-2\\'></use>\\n            </svg>\\n            <span class=\"actions__print-tooltip\">Версия для печати</span>\\n        </a>\\n    </div>\\n    <div class=\"actions__common\">\\n                    <span class=\"status__block\">\\n            <span class=\"stats-block\" title=\"Просмотры\">\\n              <span class=\"stat\">\\n                <svg>\\n                  <use xlink:href=\"#eye\"></use>\\n                </svg>\\n                    <core-count-format count=\"557\"></core-count-format>\\n              </span>\\n            </span>\\n          </span>\\n                            <span class=\"status__block\">\\n            <span class=\"stats-block\" title=\"Дочитывания\">\\n              <span class=\"stat\">\\n                <svg>\\n                  <use xlink:href=\"#double-ok\"></use>\\n                </svg>\\n                    <core-count-format count=\"75\"></core-count-format>\\n              </span>\\n            </span>\\n          </span>\\n            </div>\\n</section>\\n    </footer>                            </section>\\n        </div>\\n        <div class=\"plr3\">\\n            <footer>\\n                            </footer>\\n        </div>\\n                            <div class=\"article__content\" style=\"margin-top: 32px;\">\\n                <article class=\"advertising-text-block\"> <div class=\"advertising-text-block__info\" style=\"background-color: #B47BCB; display: flex;flex-direction: column;align-items: center;border: 3px solid #905E96;color: #000000;\"><div class=\"advertising-text-block__text\"><div class=\"advertising-text-block__text-wrap\" style=\"padding-left: 8px; padding-right: 8px;\"><h3 class=\"advertising-text-block__title\" style=\"font-size: 22px; line-height: 30px; margin-top: 0px;\">\\r\\nБухгалтеры, переучивайтесь на маркетологов и зарабатывайте от 70 000 рублей!\\r\\n</h3>\\r\\n<p class=\"advertising-text-block__description\">\\r\\nОсвойте актуальную и прибыльную профессию в 2023 году. Маркетологи нужны каждому бизнесу — вы будете приносить доход и станете ценным сотрудником.\\r\\n</p>\\r\\n <p class=\"advertising-text-block__description\">\\r\\n<p class=\"advertising-text-block__description\">\\r\\nМы выпустили новый курс профпереподготовки и за два месяца сделаем из вас маркетолога. Коротко о том, что будете уметь:\\r\\n</p>\\r\\n <p class=\"advertising-text-block__description\">\\r\\n    &#8226; анализировать целевую аудиторию и конкурентов; <br/>\\r\\n    &#8226; разрабатывать маркетинговую стратегию; <br/>\\r\\n    &#8226; строить продуктовые гипотезы. <br/>\\r\\n </p>\\r\\n<p class=\"advertising-text-block__description\">\\r\\nПо выгодной цене курс стоит 49 990₽. Вы получите красный диплом с внесением в ФИС ФРДО. <strong><a style=\"color: #316FEE;text-decoration:underline;\" href=\"https://edu.klerk.ru/marketer/?utm_source=klerk&utm_medium=post_27&utm_campaign=kpkUnderArticle&utm_content=kpk_mrket&utm_term=05_10_2022\">Смотрите программу курса здесь</a></strong> или заполняйте форму ниже — расскажем больше. \\r\\n</div></div>\\r\\n<lead-form style=\"width:100%;\" partner=\"lead_klerk\" product=\"learn_article\" :additional-data=\"{bitrix: \\'лид-форма под статьей «Заявка - КПК «Интернет-маркетолог с нуля»»\\'}\"></lead-form>\\r\\n\\r\\n    </div>\\r\\n  </article>\\r\\n\\n            </div>\\n            </article>\\n           <div class=\"universal-block-wrapper\"\\n     style=\" ; flex-grow: 1; \">\\n    <!--comments-->\\n<section class=\"container\" id=\"comments\">\\n           <comments\\n               entity=\"8118358\"\\n                      >\\n       </comments>\\n   </section>\\n            <div class=\"container\" style=\"margin-top:18px\">\\n            <div data-placement=\"91\" class=\"promotion\"></div>\\n        </div>\\n    \\n</div><div class=\"universal-block-wrapper\"\\n     style=\" ; flex-grow: 1; \">\\n    <div id=\"recommendations\" class=\"main__content recommendations__feed feed\">\\n    \\n<article class=\"feed-item feed-item--imageAndIntro feed-item--blog-post\" id=\"article_537153\">\\n\\t\\t\\t<div class=\"feed-item-header__wrapper\">\\n    <div class=\"feed-item__header\">\\n                                    <div class=\"feed-item__blog visually-hidden\">\\n                <a class=\"blog__link\" href=\"/blogs/Klerk_invest/\" title=\"Клерк.Инвестиции\">\\n                    <img class=\"blog__avatar\"\\n                         src=\"https://i.klerk.ru/gmqT061kLctENzrEDbQsRQkeM-ShGPNfpLbWHG4wiuU/rs:fit/w:16/h:16/q:100/aHR0cHM6Ly93d3cu/a2xlcmsucnUvdWdj/L2NvbXBhbnlMb2dv/LzY0MGZkOTYyNDhh/YzlkZTU2NTliOTlk/YTk2ZTY5ODVmLnBu/Zw.webp\"\\n                         alt=\"Клерк.Инвестиции - автор блога на klerk.ru\">\\n                    <span class=\"blog__title\">Клерк.Инвестиции</span>\\n                </a>\\n            </div>\\n            <about-pop-up\\n                    :id=\"1204\"\\n                    title=\"Клерк.Инвестиции\"\\n                                                                                    description=\"&lt;p&gt;Блог призван нести свет в царство фондовых рынков, финансовых инструментов. Крипту тоже не оставляем без внимания. &lt;br&gt;Подписывайтесь, будет классно!&lt;/p&gt;\"\\n                    avatar=\"https://i.klerk.ru/R8W3xZT1Kb24pWbns3k2vC43vhHA8fJWbQPxX3dhzB0/rs:fill/w:32/h:32/q:100/aHR0cHM6Ly93d3cu/a2xlcmsucnUvdWdj/L2NvbXBhbnlMb2dv/LzY0MGZkOTYyNDhh/YzlkZTU2NTliOTlk/YTk2ZTY5ODVmLnBu/Zw.webp\"\\n                                            :is-company=\"true\"\\n                                                    url=\"/company/1204/\"\\n                                                        >\\n            </about-pop-up>\\n                            <base-dont-miss :blog-id=\"737851\"\\n                                                            ></base-dont-miss>\\n                <div class=\"feed-item__stats\">\\n  <span class=\"stats-block\">\\n      <core-date-format date=\"2022-10-07 19:41:00\"></core-date-format>\\n  </span>\\n</div>\\n  <span class=\"stats-block stats-block__rubric\">\\n    <a class=\"feed-item__rubric\" href=\"/rubricator/investitsii/\">Инвестиции</a>\\n  </span>\\n    </div>\\n                            <div class=\"new-blog-header-items\">\\n                    </div>\\n    </div>\\n<div class=\"feed-item__link-target\">\\n    <div class=\"feed-item__headline\">\\n                <h2 class=\"\">\\n                            <a class=\"feed-item__link\" href=\"/blogs/Klerk_invest/537153/\">Инвестобзор от «Клерка»: всё важное по инвестициям за неделю. Заседание ОПЕК+, новые санкции, изменения для клиентов брокера Тинькофф, рекорд по вложениям в ПИФы</a>\\n            </h2>\\n</div>\\n            <div class=\"feed-item__content\">\\n            <p>Неделя была неспокойной, было много крупных новостей. Собрали для вас наиболее важные.</p>\\n        </div>\\n                        <div class=\"feed-item__cover\">\\n        <img\\n                                    src=\"https://i.klerk.ru/WhbhZBO7wm5sa4j63JELQQg2E_o7FXRQGyCucmw-AcY/rs:fill/w:700/h:394/q:100/aHR0cHM6Ly93d3cu/a2xlcmsucnUvaW1n/L3BiL29yaWdpbmFs/L1BseXVzaWlpaW1p/bnVzaWlvcGxhdGlp/cG9pUVJpa29kdV8y/MzU3LmpwZw.webp\"\\n                                alt=\"Инвестобзор от «Клерка»: всё важное по инвестициям за неделю. Заседание ОПЕК+, новые санкции, изменения для клиентов брокера Тинькофф, рекорд по вложениям в ПИФы\"\\n                width=\"100%\"\\n                height=\"100%\"\\n                loading=\"lazy\"\\n        />\\n    </div>\\n    </div>\\n<div class=\"feed-item__footer\">\\n    <div class=\"feed-item__footer-stat\">\\n        <div>\\n                        <comments-button :count=\"0\" href=\"/blogs/Klerk_invest/537153/#comments\"></comments-button>\\n            <like :docid=\"537153\"\\n                :topicid=\"10000\"\\n                :count=\"0\"\\n                :amilike=\"0\"\\n                :canilike=\"1\"\\n                :entity-id=\"8119091\"\\n                ></like>\\n                            <favorite class=\"article__favourite\"\\n                          :entity-id=\"8119091\"\\n                          :added=\"0\"\\n                          :total=\"0\"\\n                ></favorite>\\n                        <base-share page-url=\"www.klerk.ru/blogs/Klerk_invest/537153/\"></base-share>\\n        </div>\\n        <div>\\n                            <span class=\"stats-block\" title=\"Просмотры\">\\n                    <span class=\"stat\">\\n                        <svg>\\n                            <use xlink:href=\"#eye\"></use>\\n                        </svg>\\n                        <core-count-format count=\"164\"></core-count-format>\\n                    </span>\\n                </span>\\n                    </div>\\n    </div>\\n</div>\\n\\t</article>\\n\\n\\n<article class=\"feed-item feed-item--normal\" id=\"article_537149\">\\n\\t\\t\\t    <div class=\"feed-item-header__wrapper\">\\n    <div class=\"feed-item__header\">\\n                                                                        <div class=\"feed-item__stats\">\\n  <span class=\"stats-block\">\\n      <core-date-format date=\"2022-10-07 19:33:00\"></core-date-format>\\n  </span>\\n</div>\\n  <span class=\"stats-block stats-block__rubric\">\\n    <a class=\"feed-item__rubric\" href=\"/rubricator/egais/\">ЕГАИС</a>\\n  </span>\\n    </div>\\n        </div>\\n<div class=\"feed-item__link-target\">\\n    <div class=\"feed-item__headline\">\\n                <h2 class=\"feed-item-h2 \">\\n                            <a class=\"feed-item__link feed-item-link__check-article\"\\n               href=\"/buh/news/537149/\">После смерти ИП сведения об обороте алкоголя в его бизнесе не фиксируют в ЕГАИС</a>\\n            </h2>\\n</div>\\n            <div class=\"feed-item__content\">\\n            <p>В случае смерти регистрация в качестве ИП утрачивает силу. Поэтому все операции бизнесмена в ЕГАИС сразу прекращаются.</p>\\n        </div>\\n        </div>\\n<div class=\"feed-item__footer\">\\n    <div class=\"feed-item__footer-stat\">\\n        <div>\\n                        <comments-button :count=\"0\" href=\"/buh/news/537149/#comments\"></comments-button>\\n            <like :docid=\"537149\"\\n                :topicid=\"1\"\\n                :count=\"0\"\\n                :amilike=\"0\"\\n                :canilike=\"1\"\\n                :entity-id=\"8119060\"\\n                ></like>\\n                            <favorite class=\"article__favourite\"\\n                          :entity-id=\"8119060\"\\n                          :added=\"0\"\\n                          :total=\"0\"\\n                ></favorite>\\n                        <base-share page-url=\"www.klerk.ru/buh/news/537149/\"></base-share>\\n        </div>\\n        <div>\\n                            <span class=\"stats-block\" title=\"Просмотры\">\\n                    <span class=\"stat\">\\n                        <svg>\\n                            <use xlink:href=\"#eye\"></use>\\n                        </svg>\\n                        <core-count-format count=\"215\"></core-count-format>\\n                    </span>\\n                </span>\\n                    </div>\\n    </div>\\n</div>\\n\\t</article>\\n\\n\\n    <div class=\"feed__header feed__header_secondary feed__header_has-btn\">\\n        <h2 class=\"feed__caption\"><a href=\"/learn/catalog/refresher-courses\">Повышение квалификации</a></h2>\\n    </div>\\n    <div class=\"feed-item feed__header_secondary\">\\n        <last-events mode=\"block_kpk\"></last-events>\\n    </div>\\n\\n\\n<article class=\"feed-item feed-item--normal\" id=\"article_537147\">\\n\\t\\t\\t    <div class=\"feed-item-header__wrapper\">\\n    <div class=\"feed-item__header\">\\n                                                                        <div class=\"feed-item__stats\">\\n  <span class=\"stats-block\">\\n      <core-date-format date=\"2022-10-07 18:57:00\"></core-date-format>\\n  </span>\\n</div>\\n  <span class=\"stats-block stats-block__rubric\">\\n    <a class=\"feed-item__rubric\" href=\"/rubricator/nalogi-vznosy-poshlini/\">Налоги, взносы, пошлины</a>\\n  </span>\\n    </div>\\n        </div>\\n<div class=\"feed-item__link-target\">\\n    <div class=\"feed-item__headline\">\\n                <h2 class=\"feed-item-h2 \">\\n                            <a class=\"feed-item__link feed-item-link__check-article\"\\n               href=\"/buh/news/537147/\">Порядок сверки расчетов по налогам отменили. Но провести сверку все равно можно</a>\\n            </h2>\\n</div>\\n            <div class=\"feed-item__content\">\\n            <p>В НК не прописаны основания, по которым налоговики могут отказать компании в проведении сверки расчетов.</p>\\n        </div>\\n        </div>\\n<div class=\"feed-item__footer\">\\n    <div class=\"feed-item__footer-stat\">\\n        <div>\\n                        <comments-button :count=\"0\" href=\"/buh/news/537147/#comments\"></comments-button>\\n            <like :docid=\"537147\"\\n                :topicid=\"1\"\\n                :count=\"0\"\\n                :amilike=\"0\"\\n                :canilike=\"1\"\\n                :entity-id=\"8119083\"\\n                ></like>\\n                            <favorite class=\"article__favourite\"\\n                          :entity-id=\"8119083\"\\n                          :added=\"0\"\\n                          :total=\"0\"\\n                ></favorite>\\n                        <base-share page-url=\"www.klerk.ru/buh/news/537147/\"></base-share>\\n        </div>\\n        <div>\\n                            <span class=\"stats-block\" title=\"Просмотры\">\\n                    <span class=\"stat\">\\n                        <svg>\\n                            <use xlink:href=\"#eye\"></use>\\n                        </svg>\\n                        <core-count-format count=\"275\"></core-count-format>\\n                    </span>\\n                </span>\\n                    </div>\\n    </div>\\n</div>\\n\\t</article>\\n\\n    <div data-placement=\"1\" class=\"promotion\"\\n         data-rubrics=\"\"></div>\\n\\n<article class=\"feed-item feed-item--imageAndIntro feed-item--blog-post\" id=\"article_536952\">\\n\\t\\t\\t<div class=\"feed-item-header__wrapper\">\\n    <div class=\"feed-item__header\">\\n                                    <div class=\"feed-item__blog visually-hidden\">\\n                <a class=\"blog__link\" href=\"/blogs/rocketwork/\" title=\"Рокет Ворк\">\\n                    <img class=\"blog__avatar\"\\n                         src=\"https://i.klerk.ru/Ad1jxJpOxegU56WCTjWZIfbO_L4w0LYGUOanFCNyqtw/rs:fit/w:16/h:16/q:100/aHR0cHM6Ly93d3cu/a2xlcmsucnUvdWdj/L2NvbXBhbnlMb2dv/LzlhYTZlOWYyMWFh/ZThkZDQ4ZWUwY2Ux/OWNiNDY5OWZkLmpw/Zw.webp\"\\n                         alt=\"Рокет Ворк - автор блога на klerk.ru\">\\n                    <span class=\"blog__title\">Рокет Ворк</span>\\n                </a>\\n            </div>\\n            <about-pop-up\\n                    :id=\"750\"\\n                    title=\"Рокет Ворк\"\\n                                            :varificate=\"true\"                                        description=\"Платформа для работы с внештатными исполнителями. На нашей платформе бизнесам просто и удобно сотрудничать с самозанятыми, индивидуальными предпринимателями, исполнителями по договорам ГПХ. Мы берём на себя весь цикл взаимодействия: подбор исполнителя, оформление всех необходимых документов, расчёты, в том числе массовые, уплату налогов и сборов. \"\\n                    avatar=\"https://i.klerk.ru/fiQ2H6qKMIUA7N9Y0oqEKiclDC7NIJSyIj5LCjY5R_c/rs:fill/w:32/h:32/q:100/aHR0cHM6Ly93d3cu/a2xlcmsucnUvdWdj/L2NvbXBhbnlMb2dv/LzlhYTZlOWYyMWFh/ZThkZDQ4ZWUwY2Ux/OWNiNDY5OWZkLmpw/Zw.webp\"\\n                                            :is-company=\"true\"\\n                                                    url=\"/company/750/\"\\n                                                        >\\n            </about-pop-up>\\n                            <base-dont-miss :blog-id=\"282\"\\n                                                            ></base-dont-miss>\\n                <div class=\"feed-item__stats\">\\n  <span class=\"stats-block\">\\n      <core-date-format date=\"2022-10-07 18:44:00\"></core-date-format>\\n  </span>\\n</div>\\n  <span class=\"stats-block stats-block__rubric\">\\n    <a class=\"feed-item__rubric\" href=\"/rubricator/kadrovyj-uchet/\">Кадровый учет</a>\\n  </span>\\n    </div>\\n                            <div class=\"new-blog-header-items\">\\n                    </div>\\n    </div>\\n<div class=\"feed-item__link-target\">\\n    <div class=\"feed-item__headline\">\\n                <h2 class=\"\">\\n                            <a class=\"feed-item__link\" href=\"/blogs/rocketwork/536952/\">Как восстановить кадровый учет</a>\\n            </h2>\\n</div>\\n            <div class=\"feed-item__content\">\\n            <p>Персонал — очень важный ресурс для компании. А его учет должен быть достоверным и регулярным. Бывает, по разным причинам бизнес игнорирует кадровый учет, что приводит к негативным последствиям. Расскажем, как восстановить кадровый документооборот в компании.</p>\\n        </div>\\n                        <div class=\"feed-item__cover\">\\n        <img\\n                                    src=\"https://i.klerk.ru/371oxWhCLVJZCQ6SKwAf8EaJGCWUwkMsNfbHgXB-X1w/rs:fill/w:700/h:394/q:100/aHR0cHM6Ly93d3cu/a2xlcmsucnUvdWdj/L2Jsb2dQb3N0L2Yz/MTYyYWE3Yzk3YTZm/NmZmZDRjOTJlNDFj/ZDNjMzdlLmpwZw.webp\"\\n                                alt=\"Как восстановить кадровый учет\"\\n                width=\"100%\"\\n                height=\"100%\"\\n                loading=\"lazy\"\\n        />\\n    </div>\\n    </div>\\n<div class=\"feed-item__footer\">\\n    <div class=\"feed-item__footer-stat\">\\n        <div>\\n                        <comments-button :count=\"0\" href=\"/blogs/rocketwork/536952/#comments\"></comments-button>\\n            <like :docid=\"536952\"\\n                :topicid=\"10000\"\\n                :count=\"1\"\\n                :amilike=\"0\"\\n                :canilike=\"1\"\\n                :entity-id=\"8118063\"\\n                ></like>\\n                            <favorite class=\"article__favourite\"\\n                          :entity-id=\"8118063\"\\n                          :added=\"0\"\\n                          :total=\"0\"\\n                ></favorite>\\n                        <base-share page-url=\"www.klerk.ru/blogs/rocketwork/536952/\"></base-share>\\n        </div>\\n        <div>\\n                            <span class=\"stats-block\" title=\"Просмотры\">\\n                    <span class=\"stat\">\\n                        <svg>\\n                            <use xlink:href=\"#eye\"></use>\\n                        </svg>\\n                        <core-count-format count=\"199\"></core-count-format>\\n                    </span>\\n                </span>\\n                    </div>\\n    </div>\\n</div>\\n\\t</article>\\n\\n\\n    <last-vacancies></last-vacancies>\\n\\n\\n<article class=\"feed-item feed-item--normal\" id=\"article_537141\">\\n\\t\\t\\t    <div class=\"feed-item-header__wrapper\">\\n    <div class=\"feed-item__header\">\\n                                                                        <div class=\"feed-item__stats\">\\n  <span class=\"stats-block\">\\n      <core-date-format date=\"2022-10-07 18:29:00\"></core-date-format>\\n  </span>\\n</div>\\n  <span class=\"stats-block stats-block__rubric\">\\n    <a class=\"feed-item__rubric\" href=\"/rubricator/elektronnyj-dokumentooborot-elektronnaja-otchetnost/\">ЭДО</a>\\n  </span>\\n    </div>\\n        </div>\\n<div class=\"feed-item__link-target\">\\n    <div class=\"feed-item__headline\">\\n                <h2 class=\"feed-item-h2 \">\\n                            <a class=\"feed-item__link feed-item-link__check-article\"\\n               href=\"/buh/news/537141/\">С 1 марта 2023 года можно будет оформлять электронные договоры фрахтования</a>\\n            </h2>\\n</div>\\n            <div class=\"feed-item__content\">\\n            <p>У договора фрахтования появится электронный формат.</p>\\n        </div>\\n        </div>\\n<div class=\"feed-item__footer\">\\n    <div class=\"feed-item__footer-stat\">\\n        <div>\\n                        <comments-button :count=\"0\" href=\"/buh/news/537141/#comments\"></comments-button>\\n            <like :docid=\"537141\"\\n                :topicid=\"1\"\\n                :count=\"0\"\\n                :amilike=\"0\"\\n                :canilike=\"1\"\\n                :entity-id=\"8119039\"\\n                ></like>\\n                            <favorite class=\"article__favourite\"\\n                          :entity-id=\"8119039\"\\n                          :added=\"0\"\\n                          :total=\"0\"\\n                ></favorite>\\n                        <base-share page-url=\"www.klerk.ru/buh/news/537141/\"></base-share>\\n        </div>\\n        <div>\\n                            <span class=\"stats-block\" title=\"Просмотры\">\\n                    <span class=\"stat\">\\n                        <svg>\\n                            <use xlink:href=\"#eye\"></use>\\n                        </svg>\\n                        <core-count-format count=\"205\"></core-count-format>\\n                    </span>\\n                </span>\\n                    </div>\\n    </div>\\n</div>\\n\\t</article>\\n\\n\\n    <div class=\"feed__header feed__header_secondary feed__header_has-btn\">\\n        <h2 class=\"feed__caption\"><a href=\"/event/\">Мероприятия</a></h2>\\n        <a href=\"https://klerk.info/event/?utm_source=klerk&utm_campaign=eventsBlock&utm_content=button\" class=\"feed__events-btn\">Разместить</a>\\n    </div>\\n    <div class=\"feed-item feed__header_secondary\">\\n        <last-events mode=\"block\"></last-events>\\n    </div>\\n\\n\\n<article class=\"feed-item feed-item--imageAndIntro feed-item--blog-post\" id=\"article_537152\">\\n\\t\\t\\t<div class=\"feed-item-header__wrapper\">\\n    <div class=\"feed-item__header\">\\n                                    <div class=\"feed-item__blog visually-hidden\">\\n                <a class=\"blog__link\" href=\"/tribune/aleksandr42/\" title=\"Александр42\">\\n                    <img class=\"blog__avatar\"\\n                         src=\"https://i.klerk.ru/vbPl7ymPxtVyQg2Y8q87q24jwGvUG8YIPPjKYIaiSus/rs:fit/w:16/h:16/q:100/aHR0cHM6Ly93d3cu/a2xlcmsucnUvdWdj/L3VzZXJBdmF0YXIv/NTQ5ZWQ5NzJjZDBl/YjdjYTBhOWY5Y2Yy/YWM1YjE4YTcuanBl/Zw.webp\"\\n                         alt=\"Александр42 - автор блога на klerk.ru\">\\n                    <span class=\"blog__title\">Александр42</span>\\n                </a>\\n            </div>\\n            <about-pop-up\\n                    :id=\"1992113\"\\n                    title=\"Александр42\"\\n                                        description=\"\"\\n                    avatar=\"https://i.klerk.ru/D1F81rzoby-rjvSJ5iVkAR6gil8sD36z6fzzBaok77Q/rs:fill/w:32/h:32/q:100/aHR0cHM6Ly93d3cu/a2xlcmsucnUvdWdj/L3VzZXJBdmF0YXIv/NTQ5ZWQ5NzJjZDBl/YjdjYTBhOWY5Y2Yy/YWM1YjE4YTcuanBl/Zw.webp\"\\n                                            name=\"Александр @42\"\\n                        url=\"/user/1992113/\"\\n                                >\\n            </about-pop-up>\\n                            <base-dont-miss :blog-id=\"352\"\\n                                                :is-commercial=\"false\"            ></base-dont-miss>\\n                <div class=\"feed-item__stats\">\\n  <span class=\"stats-block\">\\n      <core-date-format date=\"2022-10-07 18:15:00\"></core-date-format>\\n  </span>\\n</div>\\n  <span class=\"stats-block stats-block__rubric\">\\n    <a class=\"feed-item__rubric\" href=\"/rubricator/obshchestvo/\">Общество</a>\\n  </span>\\n    </div>\\n                            <div class=\"new-blog-header-items\">\\n                    </div>\\n    </div>\\n<div class=\"feed-item__link-target\">\\n    <div class=\"feed-item__headline\">\\n                <h2 class=\"\">\\n                            <a class=\"feed-item__link\" href=\"/tribune/aleksandr42/537152/\">«Дачная амнистия» продлена до 2031 г. Порядок оформления земли в собственность упростили</a>\\n            </h2>\\n</div>\\n            <div class=\"feed-item__content\">\\n            <p>Изменение земельного законодательства, а также законов о государственной регистрации недвижимости, которые вступали постепенно в силу позволяют теперь значительно проще и дешевле оформить права собственности на земельные участки в ряде случаев</p>\\n        </div>\\n                        <div class=\"feed-item__cover\">\\n        <img\\n                                    src=\"https://i.klerk.ru/P6mF83Myy6ciEABrIF-yVMJNodz3c7ihLeaTX8COYGI/rs:fill/w:700/h:394/q:100/aHR0cHM6Ly93d3cu/a2xlcmsucnUvaW1n/L3BiL29yaWdpbmFs/LzE5NzZkOTc0YTUy/MmMyY2NhNWJjN2Y1/MzI1ZjY3YTliaXdh/aWZ1MnhpcGhvdG9p/bm9pc2UxaXNjYWxl/aXR0YWkxXzk1NzAu/cG5n.webp\"\\n                                alt=\"«Дачная амнистия» продлена до 2031 г. Порядок оформления земли в собственность упростили\"\\n                width=\"100%\"\\n                height=\"100%\"\\n                loading=\"lazy\"\\n        />\\n    </div>\\n    </div>\\n<div class=\"feed-item__footer\">\\n    <div class=\"feed-item__footer-stat\">\\n        <div>\\n                        <comments-button :count=\"0\" href=\"/tribune/aleksandr42/537152/#comments\"></comments-button>\\n            <like :docid=\"537152\"\\n                :topicid=\"10000\"\\n                :count=\"1\"\\n                :amilike=\"0\"\\n                :canilike=\"1\"\\n                :entity-id=\"8119069\"\\n                ></like>\\n                            <favorite class=\"article__favourite\"\\n                          :entity-id=\"8119069\"\\n                          :added=\"0\"\\n                          :total=\"2\"\\n                ></favorite>\\n                        <base-share page-url=\"www.klerk.ru/tribune/aleksandr42/537152/\"></base-share>\\n        </div>\\n        <div>\\n                            <span class=\"stats-block\" title=\"Просмотры\">\\n                    <span class=\"stat\">\\n                        <svg>\\n                            <use xlink:href=\"#eye\"></use>\\n                        </svg>\\n                        <core-count-format count=\"208\"></core-count-format>\\n                    </span>\\n                </span>\\n                    </div>\\n    </div>\\n</div>\\n\\t</article>\\n\\n    <div data-placement=\"1\" class=\"promotion\"\\n         data-rubrics=\"\"></div>\\n\\n<article class=\"feed-item feed-item--normal\" id=\"article_537128\">\\n\\t\\t\\t    <div class=\"feed-item-header__wrapper\">\\n    <div class=\"feed-item__header\">\\n                                                                        <div class=\"feed-item__stats\">\\n  <span class=\"stats-block\">\\n      <core-date-format date=\"2022-10-07 17:55:00\"></core-date-format>\\n  </span>\\n</div>\\n  <span class=\"stats-block stats-block__rubric\">\\n    <a class=\"feed-item__rubric\" href=\"/rubricator/obshchestvo/\">Общество</a>\\n  </span>\\n    </div>\\n        </div>\\n<div class=\"feed-item__link-target\">\\n    <div class=\"feed-item__headline\">\\n                <h2 class=\"feed-item-h2 \">\\n                            <a class=\"feed-item__link feed-item-link__check-article\"\\n               href=\"/buh/news/537128/\">Получить новую профессию можно еще год. Программу бесплатного переобучения продлили</a>\\n            </h2>\\n</div>\\n            <div class=\"feed-item__content\">\\n            <p>Пройти переобучение по национальному проекту «Демография» в 2023 году смогут еще 138 тыс. человек.</p>\\n        </div>\\n        </div>\\n<div class=\"feed-item__footer\">\\n    <div class=\"feed-item__footer-stat\">\\n        <div>\\n                        <comments-button :count=\"0\" href=\"/buh/news/537128/#comments\"></comments-button>\\n            <like :docid=\"537128\"\\n                :topicid=\"1\"\\n                :count=\"0\"\\n                :amilike=\"0\"\\n                :canilike=\"1\"\\n                :entity-id=\"8119021\"\\n                ></like>\\n                            <favorite class=\"article__favourite\"\\n                          :entity-id=\"8119021\"\\n                          :added=\"0\"\\n                          :total=\"0\"\\n                ></favorite>\\n                        <base-share page-url=\"www.klerk.ru/buh/news/537128/\"></base-share>\\n        </div>\\n        <div>\\n                            <span class=\"stats-block\" title=\"Просмотры\">\\n                    <span class=\"stat\">\\n                        <svg>\\n                            <use xlink:href=\"#eye\"></use>\\n                        </svg>\\n                        <core-count-format count=\"298\"></core-count-format>\\n                    </span>\\n                </span>\\n                    </div>\\n    </div>\\n</div>\\n\\t</article>\\n\\n\\n<article class=\"feed-item feed-item--imageAndIntro feed-item--blog-post\" id=\"article_536484\">\\n\\t\\t\\t<div class=\"feed-item-header__wrapper\">\\n    <div class=\"feed-item__header\">\\n                                    <div class=\"feed-item__blog visually-hidden\">\\n                <a class=\"blog__link\" href=\"/blogs/klerk/\" title=\"Клерк\">\\n                    <img class=\"blog__avatar\"\\n                         src=\"https://i.klerk.ru/42zKgiGuzJJRNwG8w3B5aJLKXyBs2NgRJHUhhKuZvJU/rs:fit/w:16/h:16/q:100/aHR0cHM6Ly93d3cu/a2xlcmsucnUvdWdj/L2NvbXBhbnlMb2dv/LzQ2ZGM3NGY4ZDhl/YzRlZGMyODMzN2E1/NzYxMTg4YzliLnBu/Zw.webp\"\\n                         alt=\"Клерк - автор блога на klerk.ru\">\\n                    <span class=\"blog__title\">Клерк</span>\\n                </a>\\n            </div>\\n            <about-pop-up\\n                    :id=\"1\"\\n                    title=\"Клерк\"\\n                                            :varificate=\"true\"                                        description=\"«Клерк» — крупнейший сайт для бухгалтеров. Мы не берем денег за статьи, новости или скачивание документов. Мы делаем все, чтобы сделать работу бухгалтеров проще.\"\\n                    avatar=\"https://i.klerk.ru/Tk4xjW43jZGst5yCt-zKMyenkVd1N_ELtDZyUs6GWz8/rs:fill/w:32/h:32/q:100/aHR0cHM6Ly93d3cu/a2xlcmsucnUvdWdj/L2NvbXBhbnlMb2dv/LzQ2ZGM3NGY4ZDhl/YzRlZGMyODMzN2E1/NzYxMTg4YzliLnBu/Zw.webp\"\\n                                            :is-company=\"true\"\\n                                                    url=\"/blogs/klerk/\"\\n                                                        >\\n            </about-pop-up>\\n                            <base-dont-miss :blog-id=\"1\"\\n                                                            ></base-dont-miss>\\n                <div class=\"feed-item__stats\">\\n  <span class=\"stats-block\">\\n      <core-date-format date=\"2022-10-07 17:50:00\"></core-date-format>\\n  </span>\\n</div>\\n  <span class=\"stats-block stats-block__rubric\">\\n    <a class=\"feed-item__rubric\" href=\"/rubricator/fsbu-arenda/\">ФСБУ Аренда</a>\\n  </span>\\n    </div>\\n                            <div class=\"new-blog-header-items\">\\n                    </div>\\n    </div>\\n<div class=\"feed-item__link-target\">\\n    <div class=\"feed-item__headline\">\\n                <h2 class=\"\">\\n                            <a class=\"feed-item__link\" href=\"/blogs/klerk/536484/\">При какой аренде вам нужно следовать ФСБУ 25/2018 «Аренда»</a>\\n            </h2>\\n</div>\\n            <div class=\"feed-item__content\">\\n            <p>Снова поговорим о самом ненавистном и сложном для бухгалтеров ФСБУ. Разберемся, когда его нужно применять, а когда можно обойтись без него и не ломать себе голову.</p>\\n        </div>\\n                        <div class=\"feed-item__cover\">\\n        <img\\n                                    src=\"https://i.klerk.ru/R1K4JKfMJv5x_RbGU1NK1NB5wW6BjvTlO_g0p9Y7Sdw/rs:fill/w:700/h:394/q:100/aHR0cHM6Ly93d3cu/a2xlcmsucnUvdWdj/L2Jsb2dQb3N0LzVi/ZGQ3NjA2MDljNjIw/ODM0NjJjZmRiYjVk/MDgxZWUyLmpwZw.webp\"\\n                                alt=\"При какой аренде вам нужно следовать ФСБУ 25/2018 «Аренда»\"\\n                width=\"100%\"\\n                height=\"100%\"\\n                loading=\"lazy\"\\n        />\\n    </div>\\n    </div>\\n<div class=\"feed-item__footer\">\\n    <div class=\"feed-item__footer-stat\">\\n        <div>\\n                        <comments-button :count=\"0\" href=\"/blogs/klerk/536484/#comments\"></comments-button>\\n            <like :docid=\"536484\"\\n                :topicid=\"10000\"\\n                :count=\"0\"\\n                :amilike=\"0\"\\n                :canilike=\"1\"\\n                :entity-id=\"8115054\"\\n                ></like>\\n                            <favorite class=\"article__favourite\"\\n                          :entity-id=\"8115054\"\\n                          :added=\"0\"\\n                          :total=\"1\"\\n                ></favorite>\\n                        <base-share page-url=\"www.klerk.ru/blogs/klerk/536484/\"></base-share>\\n        </div>\\n        <div>\\n                            <span class=\"stats-block\" title=\"Просмотры\">\\n                    <span class=\"stat\">\\n                        <svg>\\n                            <use xlink:href=\"#eye\"></use>\\n                        </svg>\\n                        <core-count-format count=\"1324\"></core-count-format>\\n                    </span>\\n                </span>\\n                    </div>\\n    </div>\\n</div>\\n\\t</article>\\n\\n\\n<article class=\"feed-item feed-item--normal\" id=\"article_537137\">\\n\\t\\t\\t    <div class=\"feed-item-header__wrapper\">\\n    <div class=\"feed-item__header\">\\n                                                                        <div class=\"feed-item__stats\">\\n  <span class=\"stats-block\">\\n      <core-date-format date=\"2022-10-07 17:33:00\"></core-date-format>\\n  </span>\\n</div>\\n  <span class=\"stats-block stats-block__rubric\">\\n    <a class=\"feed-item__rubric\" href=\"/rubricator/ndfl/\">НДФЛ</a>\\n  </span>\\n    </div>\\n        </div>\\n<div class=\"feed-item__link-target\">\\n    <div class=\"feed-item__headline\">\\n                <h2 class=\"feed-item-h2 \">\\n                            <a class=\"feed-item__link feed-item-link__check-article\"\\n               href=\"/buh/news/537137/\">Штраф за неуплату НДФЛ можно снизить или вообще добиться его отмены</a>\\n            </h2>\\n</div>\\n            <div class=\"feed-item__content\">\\n            <p>За опоздание с уплатой НДФЛ налоговики начислят не только пени, но и штраф. Бухгалтеры дают совет как его снизить.</p>\\n        </div>\\n        </div>\\n<div class=\"feed-item__footer\">\\n    <div class=\"feed-item__footer-stat\">\\n        <div>\\n                        <comments-button :count=\"0\" href=\"/buh/news/537137/#comments\"></comments-button>\\n            <like :docid=\"537137\"\\n                :topicid=\"1\"\\n                :count=\"1\"\\n                :amilike=\"0\"\\n                :canilike=\"1\"\\n                :entity-id=\"8119019\"\\n                ></like>\\n                            <favorite class=\"article__favourite\"\\n                          :entity-id=\"8119019\"\\n                          :added=\"0\"\\n                          :total=\"1\"\\n                ></favorite>\\n                        <base-share page-url=\"www.klerk.ru/buh/news/537137/\"></base-share>\\n        </div>\\n        <div>\\n                            <span class=\"stats-block\" title=\"Просмотры\">\\n                    <span class=\"stat\">\\n                        <svg>\\n                            <use xlink:href=\"#eye\"></use>\\n                        </svg>\\n                        <core-count-format count=\"476\"></core-count-format>\\n                    </span>\\n                </span>\\n                    </div>\\n    </div>\\n</div>\\n\\t</article>\\n\\n    <div data-placement=\"1\" class=\"promotion\"\\n         data-rubrics=\"\"></div>\\n\\n<article class=\"feed-item feed-item--normal\" id=\"article_537122\">\\n\\t\\t\\t    <div class=\"feed-item-header__wrapper\">\\n    <div class=\"feed-item__header\">\\n                                                                        <div class=\"feed-item__stats\">\\n  <span class=\"stats-block\">\\n      <core-date-format date=\"2022-10-07 17:11:00\"></core-date-format>\\n  </span>\\n</div>\\n  <span class=\"stats-block stats-block__rubric\">\\n    <a class=\"feed-item__rubric\" href=\"/rubricator/bankrotstvo/\">Банкротство</a>\\n  </span>\\n    </div>\\n        </div>\\n<div class=\"feed-item__link-target\">\\n    <div class=\"feed-item__headline\">\\n                <h2 class=\"feed-item-h2 \">\\n                            <a class=\"feed-item__link feed-item-link__check-article\"\\n               href=\"/buh/news/537122/\">Кредиторы начали подавать уведомления о банкротстве должников. За 5 дней подали уже 2500 сообщений</a>\\n            </h2>\\n</div>\\n            <div class=\"feed-item__content\">\\n            <p>После истечения срока моратория на банкротство количество обращений кредиторов с намерением обанкротить своих должников резко возросло.</p>\\n        </div>\\n        </div>\\n<div class=\"feed-item__footer\">\\n    <div class=\"feed-item__footer-stat\">\\n        <div>\\n                        <comments-button :count=\"0\" href=\"/buh/news/537122/#comments\"></comments-button>\\n            <like :docid=\"537122\"\\n                :topicid=\"1\"\\n                :count=\"0\"\\n                :amilike=\"0\"\\n                :canilike=\"1\"\\n                :entity-id=\"8119049\"\\n                ></like>\\n                            <favorite class=\"article__favourite\"\\n                          :entity-id=\"8119049\"\\n                          :added=\"0\"\\n                          :total=\"0\"\\n                ></favorite>\\n                        <base-share page-url=\"www.klerk.ru/buh/news/537122/\"></base-share>\\n        </div>\\n        <div>\\n                            <span class=\"stats-block\" title=\"Просмотры\">\\n                    <span class=\"stat\">\\n                        <svg>\\n                            <use xlink:href=\"#eye\"></use>\\n                        </svg>\\n                        <core-count-format count=\"308\"></core-count-format>\\n                    </span>\\n                </span>\\n                    </div>\\n    </div>\\n</div>\\n\\t</article>\\n\\n\\n    <div class=\"text-center\">\\n        <a href=\"/\" class=\"recommendations__button rounded-full\">\\n            Читать еще\\n        </a>\\n    </div>\\n</div>\\n</div>         </section>\\n      </div>\\n      <div id=\"scroll-to-top\"><scroll-to-top></scroll-to-top></div>\\n    </main>\\n  </div>\\n  <aside class=\"activity-feed offset-top\">\\n  <div class=\"universal-block-wrapper\"\\n     style=\" ; flex-grow: 1; \">\\n    <div id=\"activity\">\\n    <div class=\"activity-feed__header\">\\n        <a href=\"//www.klerk.ru/comments/\" class=\"relative activity-feed__rootlink\">\\n            Мнения\\n                            <span class=\"notice-new notice-new--accent\">\\n\\t\\t\\t\\t\\t205\\n\\t\\t\\t\\t</span>\\n                    </a>\\n    </div>\\n    <noindex>\\n        <vue-scrollbar class=\"activity-feed__scrollzone klerk-scrollbar klerk-scrollbar--left\" v-once>\\n            <div class=\"activity-feed__body\">\\n                <div class=\"activity-feed__item-list\">\\n                    \\n            <div id=\"activitySite910378\" class=\"activity-item\">\\n        <div class=\"activity-item__header user online\">\\n                                                    <user-activity-small\\n                avatar=\"https://i.klerk.ru/5ME7kR5fbnMbgEwNxBNd1Vg1qlMeKh0B7lWLfJNmO0s/rs:fill/w:56/h:56/q:100/aHR0cHM6Ly93d3cu/a2xlcmsucnUvdWdj/L3VzZXJBdmF0YXIv/YXZhLnBuZw.webp\"\\n                :user-id=\"2114782\"\\n                :company-id=\"0\"\\n                item-author-url=\"/user/2114782/\"\\n                item-author-display-name=\"Ledivbelom\"\\n                item-author-name=\"\"\\n                item-platform=\"\"\\n                item-date=\"2022-10-07 22:39:59\"\\n            ></user-activity-small>\\n        </div>\\n        <a href=\"https://www.klerk.ru/buh/articles/503033/#comment__910378\">\\n            <div class=\"activity-item__message\">\\n                Очень хотелось бы узнать ,как прошло судебное заседание?...\\n            </div>\\n            <div class=\"activity-item__source\" >\\n                                    Кто теперь может не платить за вывоз мусора: новые...\\n                            </div>\\n        </a>\\n    </div>\\n            <webinar-live></webinar-live>\\n    \\n            <div id=\"activitySite910377\" class=\"activity-item\">\\n        <div class=\"activity-item__header user online\">\\n                                                    <user-activity-small\\n                avatar=\"https://i.klerk.ru/vmcA1alT9ZmnIaXrZehHIgAn0W5_ZORMj-IAtuyaaTc/rs:fill/w:56/h:56/q:100/aHR0cHM6Ly93d3cu/a2xlcmsucnUvdWdj/L3NvY2lhbEF2YXRh/ci84M2RiM2JjMmI1/NmNhMzI0ZjhmNmM3/NDdjMjUyNThmZS5q/cGVn.webp\"\\n                :user-id=\"2114789\"\\n                :company-id=\"0\"\\n                item-author-url=\"/user/2114789/\"\\n                item-author-display-name=\"ole9suprun\"\\n                item-author-name=\"\"\\n                item-platform=\"\"\\n                item-date=\"2022-10-07 22:31:39\"\\n            ></user-activity-small>\\n        </div>\\n        <a href=\"https://www.klerk.ru/blogs/blackbuh/519438/#comment__910377\">\\n            <div class=\"activity-item__message\">\\n                Ну ВБ считается крупнейшим отечественным маркетплейсом, хотя у меня с ним о...\\n            </div>\\n            <div class=\"activity-item__source\" >\\n                                    Почему онлайн-продавцы помешались на WildBerries? ...\\n                            </div>\\n        </a>\\n    </div>\\n    \\n            <div id=\"activitySite910376\" class=\"activity-item\">\\n        <div class=\"activity-item__header user \">\\n                                                    <user-activity-small\\n                avatar=\"https://i.klerk.ru/n4V_tmvV2KNsQYPHCrOPnzCWOxVRKtvpRvEFFnZqUyU/rs:fill/w:56/h:56/q:100/aHR0cHM6Ly93d3cu/a2xlcmsucnUvdWdj/L3NvY2lhbEF2YXRh/ci9mYTQxNWRmNGZm/ZmUwZDFlMzczZTg5/MWY4MmNmMTYxNy5q/cGVn.webp\"\\n                :user-id=\"2097979\"\\n                :company-id=\"0\"\\n                item-author-url=\"/user/2097979/\"\\n                item-author-display-name=\"Мария Башмакова\"\\n                item-author-name=\"Мария Башмакова\"\\n                item-platform=\"\"\\n                item-date=\"2022-10-07 22:15:44\"\\n            ></user-activity-small>\\n        </div>\\n        <a href=\"https://www.klerk.ru/tribune/2097979/536779/#comment__910376\">\\n            <div class=\"activity-item__message\">\\n                Спасибо\\n            </div>\\n            <div class=\"activity-item__source\" >\\n                                    Что делать, если прислали повестку\\n                            </div>\\n        </a>\\n    </div>\\n    \\n            <div id=\"activitySite910375\" class=\"activity-item\">\\n        <div class=\"activity-item__header user \">\\n                                                    <user-activity-small\\n                avatar=\"https://i.klerk.ru/2q8vCA6mxbdq3oiLjkvz035dA2Td6-Pi__U_9sW4Yrc/rs:fill/w:56/h:56/q:100/aHR0cHM6Ly93d3cu/a2xlcmsucnUvdWdj/L3VzZXJBdmF0YXIv/NDNjODI1NzBkMDAx/NDUxYzFlOTE2Zjdj/MDQ3MzAwYWUuanBl/Zw.webp\"\\n                :user-id=\"3\"\\n                :company-id=\"0\"\\n                item-author-url=\"/user/3/\"\\n                item-author-display-name=\"ToT\"\\n                item-author-name=\"Борис Мальцев\"\\n                item-platform=\"\"\\n                item-date=\"2022-10-07 21:35:44\"\\n            ></user-activity-small>\\n        </div>\\n        <a href=\"https://www.klerk.ru/tribune/2114567/537114/#comment__910375\">\\n            <div class=\"activity-item__message\">\\n                Воу! Подписался на блог ) \\n            </div>\\n            <div class=\"activity-item__source\" >\\n                                    Все способы легального вывода денег из России: дет...\\n                            </div>\\n        </a>\\n    </div>\\n    \\n            <div id=\"activitySite910374\" class=\"activity-item\">\\n        <div class=\"activity-item__header user \">\\n                                                    <user-activity-small\\n                avatar=\"https://i.klerk.ru/Bwi5goe58O8oFhCuEgsqpfi0T3gkL9fvpV5nB6_EQGw/rs:fill/w:56/h:56/q:100/aHR0cHM6Ly93d3cu/a2xlcmsucnUvdWdj/L3VzZXJBdmF0YXIv/NTQ5ZWQ5NzJjZDBl/YjdjYTBhOWY5Y2Yy/YWM1YjE4YTcuanBl/Zw.webp\"\\n                :user-id=\"1992113\"\\n                :company-id=\"0\"\\n                item-author-url=\"/user/1992113/\"\\n                item-author-display-name=\"Александр42\"\\n                item-author-name=\"Александр @42\"\\n                item-platform=\"\"\\n                item-date=\"2022-10-07 21:18:18\"\\n            ></user-activity-small>\\n        </div>\\n        <a href=\"https://www.klerk.ru/tribune/aleksandr42/535643/#comment__910374\">\\n            <div class=\"activity-item__message\">\\n                В другой ветке я чётко ответил на этот вопрос. С моим ответом согласились  ...\\n            </div>\\n            <div class=\"activity-item__source\" >\\n                                    Мобилизация или призыв: что делать?\\n                            </div>\\n        </a>\\n    </div>\\n    \\n            <div id=\"activitySite910373\" class=\"activity-item\">\\n        <div class=\"activity-item__header user \">\\n                                                    <user-activity-small\\n                avatar=\"https://i.klerk.ru/Bwi5goe58O8oFhCuEgsqpfi0T3gkL9fvpV5nB6_EQGw/rs:fill/w:56/h:56/q:100/aHR0cHM6Ly93d3cu/a2xlcmsucnUvdWdj/L3VzZXJBdmF0YXIv/NTQ5ZWQ5NzJjZDBl/YjdjYTBhOWY5Y2Yy/YWM1YjE4YTcuanBl/Zw.webp\"\\n                :user-id=\"1992113\"\\n                :company-id=\"0\"\\n                item-author-url=\"/user/1992113/\"\\n                item-author-display-name=\"Александр42\"\\n                item-author-name=\"Александр @42\"\\n                item-platform=\"\"\\n                item-date=\"2022-10-07 20:59:11\"\\n            ></user-activity-small>\\n        </div>\\n        <a href=\"https://www.klerk.ru/blogs/klerk/535926/#comment__910373\">\\n            <div class=\"activity-item__message\">\\n                Громадное спасибо!)))\\n            </div>\\n            <div class=\"activity-item__source\" >\\n                                    В «Трибуне» обсуждают мобилизацию, секреты сотрудн...\\n                            </div>\\n        </a>\\n    </div>\\n    \\n            <div id=\"activitySite910372\" class=\"activity-item\">\\n        <div class=\"activity-item__header user \">\\n                                                    <user-activity-small\\n                avatar=\"https://i.klerk.ru/tbEYHpwR69PuI_ty6qI_hGe7lKjKG2O8NZNAKVlnqU0/rs:fill/w:56/h:56/q:100/aHR0cHM6Ly9pbWcu/a2xlcmsucnUvdWdj/L3VzZXJBdmF0YXIv/YXZhLnBuZw.webp\"\\n                :user-id=\"1967202\"\\n                :company-id=\"0\"\\n                item-author-url=\"/user/1967202/\"\\n                item-author-display-name=\"r.v.boeva\"\\n                item-author-name=\"\"\\n                item-platform=\"1\"\\n                item-date=\"2022-10-07 20:34:33\"\\n            ></user-activity-small>\\n        </div>\\n        <a href=\"https://www.klerk.ru/learn/cabinet/event/48593/6142/#comment__910372\">\\n            <div class=\"activity-item__message\">\\n                НДС с реализации 353 333,33 руб. (1400 т.р.*20/120= 233 333,33 + 720 т.р.*2...\\n            </div>\\n            <div class=\"activity-item__source\" style=\"max-height: none;\" >\\n                                    Все про НДС: от нуля до сложных моментов\\n                            </div>\\n        </a>\\n    </div>\\n    \\n            <div id=\"activitySite910371\" class=\"activity-item\">\\n        <div class=\"activity-item__header user \">\\n                                                    <user-activity-small\\n                avatar=\"https://i.klerk.ru/5ME7kR5fbnMbgEwNxBNd1Vg1qlMeKh0B7lWLfJNmO0s/rs:fill/w:56/h:56/q:100/aHR0cHM6Ly93d3cu/a2xlcmsucnUvdWdj/L3VzZXJBdmF0YXIv/YXZhLnBuZw.webp\"\\n                :user-id=\"2101414\"\\n                :company-id=\"0\"\\n                item-author-url=\"/user/2101414/\"\\n                item-author-display-name=\"Lazarus\"\\n                item-author-name=\"\"\\n                item-platform=\"\"\\n                item-date=\"2022-10-07 20:18:10\"\\n            ></user-activity-small>\\n        </div>\\n        <a href=\"https://www.klerk.ru/tribune/2097979/536779/#comment__910371\">\\n            <div class=\"activity-item__message\">\\n                Очень приятно \\n            </div>\\n            <div class=\"activity-item__source\" >\\n                                    Что делать, если прислали повестку\\n                            </div>\\n        </a>\\n    </div>\\n    \\n            <div id=\"activitySite910370\" class=\"activity-item\">\\n        <div class=\"activity-item__header user \">\\n                                                    <user-activity-small\\n                avatar=\"https://i.klerk.ru/LY9OUpHskh6v-R9PbiG2GCXuJJ2JKQsK_WIvQ0BwHvE/rs:fill/w:56/h:56/q:100/aHR0cHM6Ly93d3cu/a2xlcmsucnUvdWdj/L3VzZXJBdmF0YXIv/ZDlkZGI2OWM4Y2Q3/ZGY4OTZhNDMxYzQ1/YmFiNDIzOTMuanBn.webp\"\\n                :user-id=\"133833\"\\n                :company-id=\"0\"\\n                item-author-url=\"/user/133833/\"\\n                item-author-display-name=\"mizeri\"\\n                item-author-name=\"Елена Балаклицкая\"\\n                item-platform=\"\"\\n                item-date=\"2022-10-07 20:01:34\"\\n            ></user-activity-small>\\n        </div>\\n        <a href=\"https://www.klerk.ru/buh/articles/536906/#comment__910370\">\\n            <div class=\"activity-item__message\">\\n                Кроме Битрикса ни с чем работать не приходилось, не с чем сравнивать. Но у ...\\n            </div>\\n            <div class=\"activity-item__source\" >\\n                                    Обзор CRM-систем для бизнеса 2022-2023. Интерфейс,...\\n                            </div>\\n        </a>\\n    </div>\\n    \\n            <div id=\"activitySite910368\" class=\"activity-item\">\\n        <div class=\"activity-item__header user \">\\n                                                    <user-activity-small\\n                avatar=\"https://i.klerk.ru/LY9OUpHskh6v-R9PbiG2GCXuJJ2JKQsK_WIvQ0BwHvE/rs:fill/w:56/h:56/q:100/aHR0cHM6Ly93d3cu/a2xlcmsucnUvdWdj/L3VzZXJBdmF0YXIv/ZDlkZGI2OWM4Y2Q3/ZGY4OTZhNDMxYzQ1/YmFiNDIzOTMuanBn.webp\"\\n                :user-id=\"133833\"\\n                :company-id=\"0\"\\n                item-author-url=\"/user/133833/\"\\n                item-author-display-name=\"mizeri\"\\n                item-author-name=\"Елена Балаклицкая\"\\n                item-platform=\"\"\\n                item-date=\"2022-10-07 19:26:15\"\\n            ></user-activity-small>\\n        </div>\\n        <a href=\"https://www.klerk.ru/tribune/2030383/534905/#comment__910368\">\\n            <div class=\"activity-item__message\">\\n                Поздравляем! Вы стали нашим победителем и получаете в подарок Клерк.Премиум...\\n            </div>\\n            <div class=\"activity-item__source\" >\\n                                    Какие законы вступают в силу с 1 октября 2022 года...\\n                            </div>\\n        </a>\\n    </div>\\n    \\n            <div id=\"activitySite910367\" class=\"activity-item\">\\n        <div class=\"activity-item__header user \">\\n                                                    <user-activity-small\\n                avatar=\"https://i.klerk.ru/LY9OUpHskh6v-R9PbiG2GCXuJJ2JKQsK_WIvQ0BwHvE/rs:fill/w:56/h:56/q:100/aHR0cHM6Ly93d3cu/a2xlcmsucnUvdWdj/L3VzZXJBdmF0YXIv/ZDlkZGI2OWM4Y2Q3/ZGY4OTZhNDMxYzQ1/YmFiNDIzOTMuanBn.webp\"\\n                :user-id=\"133833\"\\n                :company-id=\"0\"\\n                item-author-url=\"/user/133833/\"\\n                item-author-display-name=\"mizeri\"\\n                item-author-name=\"Елена Балаклицкая\"\\n                item-platform=\"\"\\n                item-date=\"2022-10-07 19:24:22\"\\n            ></user-activity-small>\\n        </div>\\n        <a href=\"https://www.klerk.ru/tribune/fa/536659/#comment__910367\">\\n            <div class=\"activity-item__message\">\\n                Поздравляем! Ваш пост вошел в редакционный обзор\\xa010 самых интересных постов...\\n            </div>\\n            <div class=\"activity-item__source\" >\\n                                    Учет расходов на ремонты по ФСБУ в картинках\\n                            </div>\\n        </a>\\n    </div>\\n    \\n            <div id=\"activitySite910366\" class=\"activity-item\">\\n        <div class=\"activity-item__header user \">\\n                                                    <user-activity-small\\n                avatar=\"https://i.klerk.ru/LY9OUpHskh6v-R9PbiG2GCXuJJ2JKQsK_WIvQ0BwHvE/rs:fill/w:56/h:56/q:100/aHR0cHM6Ly93d3cu/a2xlcmsucnUvdWdj/L3VzZXJBdmF0YXIv/ZDlkZGI2OWM4Y2Q3/ZGY4OTZhNDMxYzQ1/YmFiNDIzOTMuanBn.webp\"\\n                :user-id=\"133833\"\\n                :company-id=\"0\"\\n                item-author-url=\"/user/133833/\"\\n                item-author-display-name=\"mizeri\"\\n                item-author-name=\"Елена Балаклицкая\"\\n                item-platform=\"\"\\n                item-date=\"2022-10-07 19:24:16\"\\n            ></user-activity-small>\\n        </div>\\n        <a href=\"https://www.klerk.ru/tribune/2084671/536869/#comment__910366\">\\n            <div class=\"activity-item__message\">\\n                Поздравляем! Ваш пост вошел в редакционный обзор\\xa010 самых интересных постов...\\n            </div>\\n            <div class=\"activity-item__source\" >\\n                                    Важные изменения в отчетности по сотрудникам — физ...\\n                            </div>\\n        </a>\\n    </div>\\n    \\n            <div id=\"activitySite910365\" class=\"activity-item\">\\n        <div class=\"activity-item__header user \">\\n                                                    <user-activity-small\\n                avatar=\"https://i.klerk.ru/LY9OUpHskh6v-R9PbiG2GCXuJJ2JKQsK_WIvQ0BwHvE/rs:fill/w:56/h:56/q:100/aHR0cHM6Ly93d3cu/a2xlcmsucnUvdWdj/L3VzZXJBdmF0YXIv/ZDlkZGI2OWM4Y2Q3/ZGY4OTZhNDMxYzQ1/YmFiNDIzOTMuanBn.webp\"\\n                :user-id=\"133833\"\\n                :company-id=\"0\"\\n                item-author-url=\"/user/133833/\"\\n                item-author-display-name=\"mizeri\"\\n                item-author-name=\"Елена Балаклицкая\"\\n                item-platform=\"\"\\n                item-date=\"2022-10-07 19:24:08\"\\n            ></user-activity-small>\\n        </div>\\n        <a href=\"https://www.klerk.ru/tribune/2082073/536509/#comment__910365\">\\n            <div class=\"activity-item__message\">\\n                Поздравляем! Ваш пост вошел в редакционный обзор\\xa010 самых интересных постов...\\n            </div>\\n            <div class=\"activity-item__source\" >\\n                                    Что такое прибыль бизнеса?\\n                            </div>\\n        </a>\\n    </div>\\n    \\n            <div id=\"activitySite910364\" class=\"activity-item\">\\n        <div class=\"activity-item__header user \">\\n                                                    <user-activity-small\\n                avatar=\"https://i.klerk.ru/LY9OUpHskh6v-R9PbiG2GCXuJJ2JKQsK_WIvQ0BwHvE/rs:fill/w:56/h:56/q:100/aHR0cHM6Ly93d3cu/a2xlcmsucnUvdWdj/L3VzZXJBdmF0YXIv/ZDlkZGI2OWM4Y2Q3/ZGY4OTZhNDMxYzQ1/YmFiNDIzOTMuanBn.webp\"\\n                :user-id=\"133833\"\\n                :company-id=\"0\"\\n                item-author-url=\"/user/133833/\"\\n                item-author-display-name=\"mizeri\"\\n                item-author-name=\"Елена Балаклицкая\"\\n                item-platform=\"\"\\n                item-date=\"2022-10-07 19:24:00\"\\n            ></user-activity-small>\\n        </div>\\n        <a href=\"https://www.klerk.ru/tribune/2093525/536575/#comment__910364\">\\n            <div class=\"activity-item__message\">\\n                Поздравляем! Ваш пост вошел в редакционный обзор\\xa010 самых интересных постов...\\n            </div>\\n            <div class=\"activity-item__source\" >\\n                                    Итоги 15 месяцев инвестиций. 1,413 млн рублей\\n                            </div>\\n        </a>\\n    </div>\\n    \\n            <div id=\"activitySite910363\" class=\"activity-item\">\\n        <div class=\"activity-item__header user \">\\n                                                    <user-activity-small\\n                avatar=\"https://i.klerk.ru/LY9OUpHskh6v-R9PbiG2GCXuJJ2JKQsK_WIvQ0BwHvE/rs:fill/w:56/h:56/q:100/aHR0cHM6Ly93d3cu/a2xlcmsucnUvdWdj/L3VzZXJBdmF0YXIv/ZDlkZGI2OWM4Y2Q3/ZGY4OTZhNDMxYzQ1/YmFiNDIzOTMuanBn.webp\"\\n                :user-id=\"133833\"\\n                :company-id=\"0\"\\n                item-author-url=\"/user/133833/\"\\n                item-author-display-name=\"mizeri\"\\n                item-author-name=\"Елена Балаклицкая\"\\n                item-platform=\"\"\\n                item-date=\"2022-10-07 19:23:51\"\\n            ></user-activity-small>\\n        </div>\\n        <a href=\"https://www.klerk.ru/tribune/buhonin/536594/#comment__910363\">\\n            <div class=\"activity-item__message\">\\n                Поздравляем! Ваш пост вошел в редакционный обзор\\xa010 самых интересных постов...\\n            </div>\\n            <div class=\"activity-item__source\" >\\n                                    Хороший специалист, уникальный специалист… Главное...\\n                            </div>\\n        </a>\\n    </div>\\n    \\n            <div id=\"activitySite910362\" class=\"activity-item\">\\n        <div class=\"activity-item__header user \">\\n                                                    <user-activity-small\\n                avatar=\"https://i.klerk.ru/LY9OUpHskh6v-R9PbiG2GCXuJJ2JKQsK_WIvQ0BwHvE/rs:fill/w:56/h:56/q:100/aHR0cHM6Ly93d3cu/a2xlcmsucnUvdWdj/L3VzZXJBdmF0YXIv/ZDlkZGI2OWM4Y2Q3/ZGY4OTZhNDMxYzQ1/YmFiNDIzOTMuanBn.webp\"\\n                :user-id=\"133833\"\\n                :company-id=\"0\"\\n                item-author-url=\"/user/133833/\"\\n                item-author-display-name=\"mizeri\"\\n                item-author-name=\"Елена Балаклицкая\"\\n                item-platform=\"\"\\n                item-date=\"2022-10-07 19:23:42\"\\n            ></user-activity-small>\\n        </div>\\n        <a href=\"https://www.klerk.ru/tribune/1984962/536603/#comment__910362\">\\n            <div class=\"activity-item__message\">\\n                Поздравляем! Ваш пост вошел в редакционный обзор\\xa010 самых интересных постов...\\n            </div>\\n            <div class=\"activity-item__source\" >\\n                                    Отчетность за 3 квартал 2022г. - Как мы сдавали ее...\\n                            </div>\\n        </a>\\n    </div>\\n    \\n            <div id=\"activitySite910361\" class=\"activity-item\">\\n        <div class=\"activity-item__header user \">\\n                                                    <user-activity-small\\n                avatar=\"https://i.klerk.ru/LY9OUpHskh6v-R9PbiG2GCXuJJ2JKQsK_WIvQ0BwHvE/rs:fill/w:56/h:56/q:100/aHR0cHM6Ly93d3cu/a2xlcmsucnUvdWdj/L3VzZXJBdmF0YXIv/ZDlkZGI2OWM4Y2Q3/ZGY4OTZhNDMxYzQ1/YmFiNDIzOTMuanBn.webp\"\\n                :user-id=\"133833\"\\n                :company-id=\"0\"\\n                item-author-url=\"/user/133833/\"\\n                item-author-display-name=\"mizeri\"\\n                item-author-name=\"Елена Балаклицкая\"\\n                item-platform=\"\"\\n                item-date=\"2022-10-07 19:23:35\"\\n            ></user-activity-small>\\n        </div>\\n        <a href=\"https://www.klerk.ru/tribune/2108671/536745/#comment__910361\">\\n            <div class=\"activity-item__message\">\\n                Поздравляем! Ваш пост вошел в редакционный обзор\\xa010 самых интересных постов...\\n            </div>\\n            <div class=\"activity-item__source\" >\\n                                    Как найти работу финансовому директору? Часть 2. Р...\\n                            </div>\\n        </a>\\n    </div>\\n    \\n            <div id=\"activitySite910360\" class=\"activity-item\">\\n        <div class=\"activity-item__header user \">\\n                                                    <user-activity-small\\n                avatar=\"https://i.klerk.ru/LY9OUpHskh6v-R9PbiG2GCXuJJ2JKQsK_WIvQ0BwHvE/rs:fill/w:56/h:56/q:100/aHR0cHM6Ly93d3cu/a2xlcmsucnUvdWdj/L3VzZXJBdmF0YXIv/ZDlkZGI2OWM4Y2Q3/ZGY4OTZhNDMxYzQ1/YmFiNDIzOTMuanBn.webp\"\\n                :user-id=\"133833\"\\n                :company-id=\"0\"\\n                item-author-url=\"/user/133833/\"\\n                item-author-display-name=\"mizeri\"\\n                item-author-name=\"Елена Балаклицкая\"\\n                item-platform=\"\"\\n                item-date=\"2022-10-07 19:23:26\"\\n            ></user-activity-small>\\n        </div>\\n        <a href=\"https://www.klerk.ru/tribune/2097979/536779/#comment__910360\">\\n            <div class=\"activity-item__message\">\\n                Поздравляем! Ваш пост вошел в редакционный обзор\\xa010 самых интересных постов...\\n            </div>\\n            <div class=\"activity-item__source\" >\\n                                    Что делать, если прислали повестку\\n                            </div>\\n        </a>\\n    </div>\\n    \\n            <div id=\"activitySite910359\" class=\"activity-item\">\\n        <div class=\"activity-item__header user \">\\n                                                    <user-activity-small\\n                avatar=\"https://i.klerk.ru/LY9OUpHskh6v-R9PbiG2GCXuJJ2JKQsK_WIvQ0BwHvE/rs:fill/w:56/h:56/q:100/aHR0cHM6Ly93d3cu/a2xlcmsucnUvdWdj/L3VzZXJBdmF0YXIv/ZDlkZGI2OWM4Y2Q3/ZGY4OTZhNDMxYzQ1/YmFiNDIzOTMuanBn.webp\"\\n                :user-id=\"133833\"\\n                :company-id=\"0\"\\n                item-author-url=\"/user/133833/\"\\n                item-author-display-name=\"mizeri\"\\n                item-author-name=\"Елена Балаклицкая\"\\n                item-platform=\"\"\\n                item-date=\"2022-10-07 19:23:12\"\\n            ></user-activity-small>\\n        </div>\\n        <a href=\"https://www.klerk.ru/tribune/1963286/536576/#comment__910359\">\\n            <div class=\"activity-item__message\">\\n                Поздравляем! Ваш пост вошел в редакционный обзор\\xa010 самых интересных постов...\\n            </div>\\n            <div class=\"activity-item__source\" >\\n                                    Как не пострадать от бывшей (бывшего)\\n                            </div>\\n        </a>\\n    </div>\\n    \\n            <div id=\"activitySite910358\" class=\"activity-item\">\\n        <div class=\"activity-item__header user \">\\n                                                    <user-activity-small\\n                avatar=\"https://i.klerk.ru/LY9OUpHskh6v-R9PbiG2GCXuJJ2JKQsK_WIvQ0BwHvE/rs:fill/w:56/h:56/q:100/aHR0cHM6Ly93d3cu/a2xlcmsucnUvdWdj/L3VzZXJBdmF0YXIv/ZDlkZGI2OWM4Y2Q3/ZGY4OTZhNDMxYzQ1/YmFiNDIzOTMuanBn.webp\"\\n                :user-id=\"133833\"\\n                :company-id=\"0\"\\n                item-author-url=\"/user/133833/\"\\n                item-author-display-name=\"mizeri\"\\n                item-author-name=\"Елена Балаклицкая\"\\n                item-platform=\"\"\\n                item-date=\"2022-10-07 19:23:06\"\\n            ></user-activity-small>\\n        </div>\\n        <a href=\"https://www.klerk.ru/tribune/yuzvakmax/536749/#comment__910358\">\\n            <div class=\"activity-item__message\">\\n                Поздравляем! Ваш пост вошел в редакционный обзор\\xa010 самых интересных постов...\\n            </div>\\n            <div class=\"activity-item__source\" >\\n                                    В Госдуме предложили новые основания для освобожде...\\n                            </div>\\n        </a>\\n    </div>\\n    \\n            <div id=\"activitySite910357\" class=\"activity-item\">\\n        <div class=\"activity-item__header user \">\\n                                                    <user-activity-small\\n                avatar=\"https://i.klerk.ru/2q8vCA6mxbdq3oiLjkvz035dA2Td6-Pi__U_9sW4Yrc/rs:fill/w:56/h:56/q:100/aHR0cHM6Ly93d3cu/a2xlcmsucnUvdWdj/L3VzZXJBdmF0YXIv/NDNjODI1NzBkMDAx/NDUxYzFlOTE2Zjdj/MDQ3MzAwYWUuanBl/Zw.webp\"\\n                :user-id=\"3\"\\n                :company-id=\"0\"\\n                item-author-url=\"/user/3/\"\\n                item-author-display-name=\"ToT\"\\n                item-author-name=\"Борис Мальцев\"\\n                item-platform=\"\"\\n                item-date=\"2022-10-07 18:24:17\"\\n            ></user-activity-small>\\n        </div>\\n        <a href=\"https://www.klerk.ru/tribune/tot/537040/#comment__910357\">\\n            <div class=\"activity-item__message\">\\n                Да тоже надеюсь. Интересно же посмотреть на результат ) Хотя бы 5 минут )))...\\n            </div>\\n            <div class=\"activity-item__source\" >\\n                                    Учет строительства в бухгалтерии Клерка за третий ...\\n                            </div>\\n        </a>\\n    </div>\\n    \\n            <div id=\"activitySite910356\" class=\"activity-item\">\\n        <div class=\"activity-item__header user \">\\n                                                    <user-activity-small\\n                avatar=\"https://i.klerk.ru/2q8vCA6mxbdq3oiLjkvz035dA2Td6-Pi__U_9sW4Yrc/rs:fill/w:56/h:56/q:100/aHR0cHM6Ly93d3cu/a2xlcmsucnUvdWdj/L3VzZXJBdmF0YXIv/NDNjODI1NzBkMDAx/NDUxYzFlOTE2Zjdj/MDQ3MzAwYWUuanBl/Zw.webp\"\\n                :user-id=\"3\"\\n                :company-id=\"0\"\\n                item-author-url=\"/user/3/\"\\n                item-author-display-name=\"ToT\"\\n                item-author-name=\"Борис Мальцев\"\\n                item-platform=\"\"\\n                item-date=\"2022-10-07 18:23:45\"\\n            ></user-activity-small>\\n        </div>\\n        <a href=\"https://www.klerk.ru/tribune/tot/537040/#comment__910356\">\\n            <div class=\"activity-item__message\">\\n                Раскусил )\\n            </div>\\n            <div class=\"activity-item__source\" >\\n                                    Учет строительства в бухгалтерии Клерка за третий ...\\n                            </div>\\n        </a>\\n    </div>\\n    \\n            <div id=\"activitySite910355\" class=\"activity-item\">\\n        <div class=\"activity-item__header user \">\\n                                                    <user-activity-small\\n                avatar=\"https://i.klerk.ru/Bwi5goe58O8oFhCuEgsqpfi0T3gkL9fvpV5nB6_EQGw/rs:fill/w:56/h:56/q:100/aHR0cHM6Ly93d3cu/a2xlcmsucnUvdWdj/L3VzZXJBdmF0YXIv/NTQ5ZWQ5NzJjZDBl/YjdjYTBhOWY5Y2Yy/YWM1YjE4YTcuanBl/Zw.webp\"\\n                :user-id=\"1992113\"\\n                :company-id=\"0\"\\n                item-author-url=\"/user/1992113/\"\\n                item-author-display-name=\"Александр42\"\\n                item-author-name=\"Александр @42\"\\n                item-platform=\"\"\\n                item-date=\"2022-10-07 18:20:35\"\\n            ></user-activity-small>\\n        </div>\\n        <a href=\"https://www.klerk.ru/tribune/aleksandr42/537124/#comment__910355\">\\n            <div class=\"activity-item__message\">\\n                Зато жизненная!)))\\n            </div>\\n            <div class=\"activity-item__source\" >\\n                                    Новые правила ГК РФ об обороте недвижимости\\n                            </div>\\n        </a>\\n    </div>\\n    \\n            <div id=\"activitySite910354\" class=\"activity-item\">\\n        <div class=\"activity-item__header user \">\\n                                                    <user-activity-small\\n                avatar=\"https://i.klerk.ru/LY9OUpHskh6v-R9PbiG2GCXuJJ2JKQsK_WIvQ0BwHvE/rs:fill/w:56/h:56/q:100/aHR0cHM6Ly93d3cu/a2xlcmsucnUvdWdj/L3VzZXJBdmF0YXIv/ZDlkZGI2OWM4Y2Q3/ZGY4OTZhNDMxYzQ1/YmFiNDIzOTMuanBn.webp\"\\n                :user-id=\"133833\"\\n                :company-id=\"0\"\\n                item-author-url=\"/user/133833/\"\\n                item-author-display-name=\"mizeri\"\\n                item-author-name=\"Елена Балаклицкая\"\\n                item-platform=\"\"\\n                item-date=\"2022-10-07 17:39:38\"\\n            ></user-activity-small>\\n        </div>\\n        <a href=\"https://www.klerk.ru/tribune/1984962/536603/#comment__910354\">\\n            <div class=\"activity-item__message\">\\n                На всякий случай напомню, что в нашем рейтинге есть возможность оставлять о...\\n            </div>\\n            <div class=\"activity-item__source\" >\\n                                    Отчетность за 3 квартал 2022г. - Как мы сдавали ее...\\n                            </div>\\n        </a>\\n    </div>\\n    \\n            <div id=\"activitySite910353\" class=\"activity-item\">\\n        <div class=\"activity-item__header user \">\\n                                                    <user-activity-small\\n                avatar=\"https://i.klerk.ru/BaBJDKAn3F2nqsq_s3jqNdYprWvq9eGve_f1NXHwDUc/rs:fill/w:56/h:56/q:100/aHR0cHM6Ly93d3cu/a2xlcmsucnUvdWdj/L3VzZXJBdmF0YXIv/YmJhMWJmMTRhNTZk/OGIwNGEzODBhOWJi/MmZhMGU3MDAuanBn.webp\"\\n                :user-id=\"1024094\"\\n                :company-id=\"0\"\\n                item-author-url=\"/user/1024094/\"\\n                item-author-display-name=\"Arhimed0\"\\n                item-author-name=\"\"\\n                item-platform=\"\"\\n                item-date=\"2022-10-07 16:59:16\"\\n            ></user-activity-small>\\n        </div>\\n        <a href=\"https://www.klerk.ru/buh/news/536893/#comment__910353\">\\n            <div class=\"activity-item__message\">\\n                ааааа, ну извините, унученька....\\n            </div>\\n            <div class=\"activity-item__source\" >\\n                                    Новые регионы России планируют сделать свободной э...\\n                            </div>\\n        </a>\\n    </div>\\n    \\n            <div id=\"activitySite910352\" class=\"activity-item\">\\n        <div class=\"activity-item__header user \">\\n                                                    <user-activity-small\\n                avatar=\"https://i.klerk.ru/5ME7kR5fbnMbgEwNxBNd1Vg1qlMeKh0B7lWLfJNmO0s/rs:fill/w:56/h:56/q:100/aHR0cHM6Ly93d3cu/a2xlcmsucnUvdWdj/L3VzZXJBdmF0YXIv/YXZhLnBuZw.webp\"\\n                :user-id=\"2005988\"\\n                :company-id=\"0\"\\n                item-author-url=\"/user/2005988/\"\\n                item-author-display-name=\"SS-20\"\\n                item-author-name=\"\"\\n                item-platform=\"\"\\n                item-date=\"2022-10-07 16:54:32\"\\n            ></user-activity-small>\\n        </div>\\n        <a href=\"https://www.klerk.ru/buh/news/536893/#comment__910352\">\\n            <div class=\"activity-item__message\">\\n                Коллега, человеческие свойства, которые должны бы воспринимать Ваши мысли -...\\n            </div>\\n            <div class=\"activity-item__source\" >\\n                                    Новые регионы России планируют сделать свободной э...\\n                            </div>\\n        </a>\\n    </div>\\n    \\n            <div id=\"activitySite910351\" class=\"activity-item\">\\n        <div class=\"activity-item__header user \">\\n                                                    <user-activity-small\\n                avatar=\"https://i.klerk.ru/tbEYHpwR69PuI_ty6qI_hGe7lKjKG2O8NZNAKVlnqU0/rs:fill/w:56/h:56/q:100/aHR0cHM6Ly9pbWcu/a2xlcmsucnUvdWdj/L3VzZXJBdmF0YXIv/YXZhLnBuZw.webp\"\\n                :user-id=\"2050521\"\\n                :company-id=\"0\"\\n                item-author-url=\"/user/2050521/\"\\n                item-author-display-name=\"fressigran@\"\\n                item-author-name=\"\"\\n                item-platform=\"\"\\n                item-date=\"2022-10-07 16:39:29\"\\n            ></user-activity-small>\\n        </div>\\n        <a href=\"https://www.klerk.ru/buh/news/536893/#comment__910351\">\\n            <div class=\"activity-item__message\">\\n                воще-то я сильфида, ну могу быть и вилисой) 😜\\n            </div>\\n            <div class=\"activity-item__source\" >\\n                                    Новые регионы России планируют сделать свободной э...\\n                            </div>\\n        </a>\\n    </div>\\n    \\n            <div id=\"activitySite910350\" class=\"activity-item\">\\n        <div class=\"activity-item__header user \">\\n                                                    <user-activity-small\\n                avatar=\"https://i.klerk.ru/3VNppm5M0cgU9hYvcJihS9SCqDqvWIj0Zzwa76D79Cs/rs:fill/w:56/h:56/q:100/aHR0cHM6Ly93d3cu/a2xlcmsucnUvdWdj/L3VzZXJBdmF0YXIv/YjE3MjJkYWIyNWU1/OGIxNTZjODVkOTUx/YmQyZGZkZDkucG5n.webp\"\\n                :user-id=\"1951111\"\\n                :company-id=\"0\"\\n                item-author-url=\"/user/1951111/\"\\n                item-author-display-name=\"VikaV2193\"\\n                item-author-name=\"Виктория\"\\n                item-platform=\"\"\\n                item-date=\"2022-10-07 16:38:08\"\\n            ></user-activity-small>\\n        </div>\\n        <a href=\"https://www.klerk.ru/buh/news/536893/#comment__910350\">\\n            <div class=\"activity-item__message\">\\n                В любом случае Ваша мотивация выше ))\\n            </div>\\n            <div class=\"activity-item__source\" >\\n                                    Новые регионы России планируют сделать свободной э...\\n                            </div>\\n        </a>\\n    </div>\\n    \\n            <div id=\"activitySite910349\" class=\"activity-item\">\\n        <div class=\"activity-item__header user \">\\n                                                    <user-activity-small\\n                avatar=\"https://i.klerk.ru/BaBJDKAn3F2nqsq_s3jqNdYprWvq9eGve_f1NXHwDUc/rs:fill/w:56/h:56/q:100/aHR0cHM6Ly93d3cu/a2xlcmsucnUvdWdj/L3VzZXJBdmF0YXIv/YmJhMWJmMTRhNTZk/OGIwNGEzODBhOWJi/MmZhMGU3MDAuanBn.webp\"\\n                :user-id=\"1024094\"\\n                :company-id=\"0\"\\n                item-author-url=\"/user/1024094/\"\\n                item-author-display-name=\"Arhimed0\"\\n                item-author-name=\"\"\\n                item-platform=\"\"\\n                item-date=\"2022-10-07 16:35:08\"\\n            ></user-activity-small>\\n        </div>\\n        <a href=\"https://www.klerk.ru/buh/news/536893/#comment__910349\">\\n            <div class=\"activity-item__message\">\\n                договорились, парниша\\n            </div>\\n            <div class=\"activity-item__source\" >\\n                                    Новые регионы России планируют сделать свободной э...\\n                            </div>\\n        </a>\\n    </div>\\n    \\n            <div id=\"activitySite910348\" class=\"activity-item\">\\n        <div class=\"activity-item__header user \">\\n                                                    <user-activity-small\\n                avatar=\"https://i.klerk.ru/BaBJDKAn3F2nqsq_s3jqNdYprWvq9eGve_f1NXHwDUc/rs:fill/w:56/h:56/q:100/aHR0cHM6Ly93d3cu/a2xlcmsucnUvdWdj/L3VzZXJBdmF0YXIv/YmJhMWJmMTRhNTZk/OGIwNGEzODBhOWJi/MmZhMGU3MDAuanBn.webp\"\\n                :user-id=\"1024094\"\\n                :company-id=\"0\"\\n                item-author-url=\"/user/1024094/\"\\n                item-author-display-name=\"Arhimed0\"\\n                item-author-name=\"\"\\n                item-platform=\"\"\\n                item-date=\"2022-10-07 16:34:27\"\\n            ></user-activity-small>\\n        </div>\\n        <a href=\"https://www.klerk.ru/buh/news/536893/#comment__910348\">\\n            <div class=\"activity-item__message\">\\n                не сказать что уж очень так волнует. Но при этом и нельзя сказать что совсе...\\n            </div>\\n            <div class=\"activity-item__source\" >\\n                                    Новые регионы России планируют сделать свободной э...\\n                            </div>\\n        </a>\\n    </div>\\n    \\n            <div id=\"activitySite910347\" class=\"activity-item\">\\n        <div class=\"activity-item__header user \">\\n                                                    <user-activity-small\\n                avatar=\"https://i.klerk.ru/tbEYHpwR69PuI_ty6qI_hGe7lKjKG2O8NZNAKVlnqU0/rs:fill/w:56/h:56/q:100/aHR0cHM6Ly9pbWcu/a2xlcmsucnUvdWdj/L3VzZXJBdmF0YXIv/YXZhLnBuZw.webp\"\\n                :user-id=\"2050521\"\\n                :company-id=\"0\"\\n                item-author-url=\"/user/2050521/\"\\n                item-author-display-name=\"fressigran@\"\\n                item-author-name=\"\"\\n                item-platform=\"\"\\n                item-date=\"2022-10-07 16:28:30\"\\n            ></user-activity-small>\\n        </div>\\n        <a href=\"https://www.klerk.ru/buh/news/536893/#comment__910347\">\\n            <div class=\"activity-item__message\">\\n                А вы не отвечайте, если к вам не относится, дедуля\\n            </div>\\n            <div class=\"activity-item__source\" >\\n                                    Новые регионы России планируют сделать свободной э...\\n                            </div>\\n        </a>\\n    </div>\\n    \\n            <div id=\"activitySite910346\" class=\"activity-item\">\\n        <div class=\"activity-item__header user \">\\n                                                    <user-activity-small\\n                avatar=\"https://i.klerk.ru/3VNppm5M0cgU9hYvcJihS9SCqDqvWIj0Zzwa76D79Cs/rs:fill/w:56/h:56/q:100/aHR0cHM6Ly93d3cu/a2xlcmsucnUvdWdj/L3VzZXJBdmF0YXIv/YjE3MjJkYWIyNWU1/OGIxNTZjODVkOTUx/YmQyZGZkZDkucG5n.webp\"\\n                :user-id=\"1951111\"\\n                :company-id=\"0\"\\n                item-author-url=\"/user/1951111/\"\\n                item-author-display-name=\"VikaV2193\"\\n                item-author-name=\"Виктория\"\\n                item-platform=\"\"\\n                item-date=\"2022-10-07 16:22:48\"\\n            ></user-activity-small>\\n        </div>\\n        <a href=\"https://www.klerk.ru/buh/news/536893/#comment__910346\">\\n            <div class=\"activity-item__message\">\\n                Так это Вас волнует. Мне все равно кто куда заезжает - выезжает....\\n            </div>\\n            <div class=\"activity-item__source\" >\\n                                    Новые регионы России планируют сделать свободной э...\\n                            </div>\\n        </a>\\n    </div>\\n    \\n            <div id=\"activitySite910345\" class=\"activity-item\">\\n        <div class=\"activity-item__header user \">\\n                                                    <user-activity-small\\n                avatar=\"https://i.klerk.ru/BaBJDKAn3F2nqsq_s3jqNdYprWvq9eGve_f1NXHwDUc/rs:fill/w:56/h:56/q:100/aHR0cHM6Ly93d3cu/a2xlcmsucnUvdWdj/L3VzZXJBdmF0YXIv/YmJhMWJmMTRhNTZk/OGIwNGEzODBhOWJi/MmZhMGU3MDAuanBn.webp\"\\n                :user-id=\"1024094\"\\n                :company-id=\"0\"\\n                item-author-url=\"/user/1024094/\"\\n                item-author-display-name=\"Arhimed0\"\\n                item-author-name=\"\"\\n                item-platform=\"\"\\n                item-date=\"2022-10-07 16:21:25\"\\n            ></user-activity-small>\\n        </div>\\n        <a href=\"https://www.klerk.ru/buh/news/536893/#comment__910345\">\\n            <div class=\"activity-item__message\">\\n                ну, позвоните, задайте...\\n            </div>\\n            <div class=\"activity-item__source\" >\\n                                    Новые регионы России планируют сделать свободной э...\\n                            </div>\\n        </a>\\n    </div>\\n    \\n            <div id=\"activitySite910344\" class=\"activity-item\">\\n        <div class=\"activity-item__header user \">\\n                                                    <user-activity-small\\n                avatar=\"https://i.klerk.ru/3VNppm5M0cgU9hYvcJihS9SCqDqvWIj0Zzwa76D79Cs/rs:fill/w:56/h:56/q:100/aHR0cHM6Ly93d3cu/a2xlcmsucnUvdWdj/L3VzZXJBdmF0YXIv/YjE3MjJkYWIyNWU1/OGIxNTZjODVkOTUx/YmQyZGZkZDkucG5n.webp\"\\n                :user-id=\"1951111\"\\n                :company-id=\"0\"\\n                item-author-url=\"/user/1951111/\"\\n                item-author-display-name=\"VikaV2193\"\\n                item-author-name=\"Виктория\"\\n                item-platform=\"\"\\n                item-date=\"2022-10-07 16:20:27\"\\n            ></user-activity-small>\\n        </div>\\n        <a href=\"https://www.klerk.ru/buh/news/536893/#comment__910344\">\\n            <div class=\"activity-item__message\">\\n                Это вопрос надо не здешним обитателям задавать, а тем людям которым нужен М...\\n            </div>\\n            <div class=\"activity-item__source\" >\\n                                    Новые регионы России планируют сделать свободной э...\\n                            </div>\\n        </a>\\n    </div>\\n    \\n            <div id=\"activitySite910343\" class=\"activity-item\">\\n        <div class=\"activity-item__header user \">\\n                                                    <user-activity-small\\n                avatar=\"https://i.klerk.ru/BaBJDKAn3F2nqsq_s3jqNdYprWvq9eGve_f1NXHwDUc/rs:fill/w:56/h:56/q:100/aHR0cHM6Ly93d3cu/a2xlcmsucnUvdWdj/L3VzZXJBdmF0YXIv/YmJhMWJmMTRhNTZk/OGIwNGEzODBhOWJi/MmZhMGU3MDAuanBn.webp\"\\n                :user-id=\"1024094\"\\n                :company-id=\"0\"\\n                item-author-url=\"/user/1024094/\"\\n                item-author-display-name=\"Arhimed0\"\\n                item-author-name=\"\"\\n                item-platform=\"\"\\n                item-date=\"2022-10-07 16:20:12\"\\n            ></user-activity-small>\\n        </div>\\n        <a href=\"https://www.klerk.ru/buh/news/536893/#comment__910343\">\\n            <div class=\"activity-item__message\">\\n                ага... зелёные человечки подтянулись....(это тут про них один из ВАшенских ...\\n            </div>\\n            <div class=\"activity-item__source\" >\\n                                    Новые регионы России планируют сделать свободной э...\\n                            </div>\\n        </a>\\n    </div>\\n    \\n            <div id=\"activitySite910342\" class=\"activity-item\">\\n        <div class=\"activity-item__header user \">\\n                                                    <user-activity-small\\n                avatar=\"https://i.klerk.ru/3VNppm5M0cgU9hYvcJihS9SCqDqvWIj0Zzwa76D79Cs/rs:fill/w:56/h:56/q:100/aHR0cHM6Ly93d3cu/a2xlcmsucnUvdWdj/L3VzZXJBdmF0YXIv/YjE3MjJkYWIyNWU1/OGIxNTZjODVkOTUx/YmQyZGZkZDkucG5n.webp\"\\n                :user-id=\"1951111\"\\n                :company-id=\"0\"\\n                item-author-url=\"/user/1951111/\"\\n                item-author-display-name=\"VikaV2193\"\\n                item-author-name=\"Виктория\"\\n                item-platform=\"\"\\n                item-date=\"2022-10-07 16:18:35\"\\n            ></user-activity-small>\\n        </div>\\n        <a href=\"https://www.klerk.ru/buh/news/536893/#comment__910342\">\\n            <div class=\"activity-item__message\">\\n                Чем больше рассуждений по этому поводу, тем хуже это выглядит ))...\\n            </div>\\n            <div class=\"activity-item__source\" >\\n                                    Новые регионы России планируют сделать свободной э...\\n                            </div>\\n        </a>\\n    </div>\\n    \\n                </div>\\n            </div>\\n        </vue-scrollbar>\\n    </noindex>\\n</div>\\n</div>\\n</aside> </div>\\n        <footer id=\"footer\" class=\"footer-other-page \">\\n        <div class=\"footer-bottom\">\\n    <div class=\"footer-bottom__users-online\">\\n        <div class=\"fg-container-fluid\">\\n            <users-online></users-online>\\n        </div>\\n    </div>\\n    <div class=\"footer-bottom__subscribe\">\\n        <div class=\"fg-container-fluid\">\\n            <klerk-subscribe-footer></klerk-subscribe-footer>\\n        </div>\\n    </div>\\n    <footer-menu></footer-menu>\\n    <ad-creative></ad-creative>\\n</div>\\n</footer><script src=\\'/frontendcompiled/js/main.23129c70d7a54688b48c.js\\'></script>\\n    <link href=\"/css/additionals.css?6\" rel=\"stylesheet\" type=\"text/css\"/>\\n    <link href=\"/html2016/styles/style_votng.css\" rel=\"stylesheet\" type=\"text/css\"/>\\n        <link href=\"/html2016/styles/style_policy.css\" rel=\"stylesheet\" type=\"text/css\"/>\\n    <link href=\"/html2016/styles/jquery.jscrollpane.css\" rel=\"stylesheet\" type=\"text/css\"/>\\n    <link href=\"/html2016/styles/swiper.css\" rel=\"stylesheet\" type=\"text/css\"/>\\n                        <link href=\"/css/rating.css\" rel=\"stylesheet\" type=\"text/css\"/>\\n    \\n                        <script src=\"/html2016/js/stickyfill.min.js\"></script>\\n    <script src=\"/html2016/js/scripts.js?v14\"></script>\\n    <script src=\"/html2016/js/jquery.mobile.custom.min.js\"></script>\\n    <script src=\"/html2016/js/jquery.touchSwipe.min.js\"></script>\\n    <script src=\"/html2016/js/responsive.js\"></script>\\n                <script src=\"/html5/js/additional/social-likes.min.js?t=1431627293\"></script>\\n    <script src=\"/html5/js/jquery/jquery.scrollTo-min.js?t=1422882651\"></script>\\n    <script src=\"/html5/js/additional/topic-ad.js\"></script>\\n    <script src=\"/html5/js/jquery/jquery.magnific-popup.min.js\"></script>\\n    <script src=\"/html5/js/jquery/jquery.lightbox-0.5.min.js\"></script>\\n        <script src=\"/js/jquery/jquery.jscrollpane.min.js?t=1431526284\"></script>\\n    <script src=\"/html5/js/jquery/imagesloaded.min.js?t=1412157615\"></script>\\n                    <script src=\"/html5/js/jquery/jquery.inputmask.min.js?t=1438524074\"></script>\\n    <script src=\"/html5/js/jquery/noty/jquery.noty.packaged.js\"></script>\\n    <script src=\"/html5/js/jquery/modernizr.custom.85129.js?1\"></script>\\n    <script src=\"/html5/js/sources/main.js?t=1459165763\"></script>\\n    <script src=\"/html5/js/sources/respond.min.js\"></script>\\n    <script src=\"/html5/js/sources/toggle.js?t=1441618262\"></script>\\n    <script src=\"/html5/js/sources/x-calendar.js\"></script>\\n    <script src=\"/html5/js/sources/x-facebook.js\"></script>\\n    <script src=\"/html5/js/sources/x-likebutton.js?t=1453812920\"></script>\\n    \\n    <!-- Yandex.Metrika counter --> <script type=\"text/javascript\" > (function(m,e,t,r,i,k,a){m[i]=m[i]||function(){(m[i].a=m[i].a||[]).push(arguments)}; m[i].l=1*new Date();k=e.createElement(t),a=e.getElementsByTagName(t)[0],k.async=1,k.src=r,a.parentNode.insertBefore(k,a)}) (window, document, \"script\", \"https://mc.yandex.ru/metrika/tag.js\", \"ym\"); ym(11340277, \"init\", { clickmap:true, trackLinks:true, accurateTrackBounce:true, webvisor:true, trackHash:true }); </script> <noscript><div><img src=\"https://mc.yandex.ru/watch/11340277\" style=\"position:absolute; left:-9999px;\" alt=\"Счетчик Яндекс\" /></div></noscript> <!-- /Yandex.Metrika counter -->\\n\\n\\n    <link href=\"https://klad.klerk.ru/klad.css?4\" rel=\"stylesheet\" type=\"text/css\"/>\\n    <script async src=\"https://klad.klerk.ru/klad.js?4\"></script>\\n    \\n        <div id=\"slot-for-google\"></div>\\n        <script>\\n            YaAuthSuggest.init(\\n                {\\n                    client_id: \\'ae4d39de0a8949809c9279bc41649388\\',\\n                    response_type: \\'token\\',\\n                    redirect_uri: \\'https://www.klerk.ru/yindex.php/ya/set-token/\\'\\n                },\\n                \\'https://www.klerk.ru/yindex.php/ya/set-token\\'\\n            )\\n                .then(({handler}) => handler())\\n                .catch(function (error) {\\n                    document.getElementById(\\'slot-for-google\\').innerHTML =\\n                    `\\n            <div id=\"g_id_onload\"\\n                data-client_id=\"910152107255-u405p9cci9mefbmqn503vm4i4cuqo1l0.apps.googleusercontent.com\"\\n                data-login_uri=\"https://www.klerk.ru/yindex.php/user/auth?authclient=google\"\\n                data-ux_mode=\"popup\">\\n            </div>\\n    `\\n                });\\n        </script>\\n    \\n</body>\\n</html>'"
      ]
     },
     "execution_count": 35,
     "metadata": {},
     "output_type": "execute_result"
    }
   ],
   "source": [
    "rq.get('https://www.klerk.ru/buh/news/537015/').text"
   ]
  },
  {
   "cell_type": "code",
   "execution_count": 21,
   "metadata": {},
   "outputs": [],
   "source": [
    "from datetime import datetime"
   ]
  },
  {
   "cell_type": "code",
   "execution_count": 22,
   "metadata": {},
   "outputs": [
    {
     "ename": "TypeError",
     "evalue": "descriptor 'time' for 'datetime.datetime' objects doesn't apply to a 'int' object",
     "output_type": "error",
     "traceback": [
      "\u001b[0;31m---------------------------------------------------------------------------\u001b[0m",
      "\u001b[0;31mTypeError\u001b[0m                                 Traceback (most recent call last)",
      "Cell \u001b[0;32mIn [22], line 1\u001b[0m\n\u001b[0;32m----> 1\u001b[0m datetime\u001b[38;5;241m.\u001b[39mtime(\u001b[38;5;241m1665174708\u001b[39m)\n",
      "\u001b[0;31mTypeError\u001b[0m: descriptor 'time' for 'datetime.datetime' objects doesn't apply to a 'int' object"
     ]
    }
   ],
   "source": [
    "datetime.time(1665174708)"
   ]
  },
  {
   "cell_type": "code",
   "execution_count": 23,
   "metadata": {},
   "outputs": [],
   "source": [
    "import time"
   ]
  },
  {
   "cell_type": "code",
   "execution_count": null,
   "metadata": {},
   "outputs": [],
   "source": [
    "pip3 "
   ]
  },
  {
   "cell_type": "code",
   "execution_count": 29,
   "metadata": {},
   "outputs": [
    {
     "data": {
      "text/plain": [
       "datetime.datetime(1970, 1, 20, 6, 32, 55, 75000)"
      ]
     },
     "execution_count": 29,
     "metadata": {},
     "output_type": "execute_result"
    }
   ],
   "source": [
    "datetime.fromtimestamp(1665175075/1000.0)"
   ]
  }
 ],
 "metadata": {
  "kernelspec": {
   "display_name": "Python 3 (ipykernel)",
   "language": "python",
   "name": "python3"
  },
  "language_info": {
   "codemirror_mode": {
    "name": "ipython",
    "version": 3
   },
   "file_extension": ".py",
   "mimetype": "text/x-python",
   "name": "python",
   "nbconvert_exporter": "python",
   "pygments_lexer": "ipython3",
   "version": "3.8.10"
  }
 },
 "nbformat": 4,
 "nbformat_minor": 4
}
