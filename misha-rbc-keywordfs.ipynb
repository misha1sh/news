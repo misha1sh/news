{
 "cells": [
  {
   "cell_type": "markdown",
   "metadata": {
    "id": "Kx_mHZLiyNEx"
   },
   "source": [
    "# Парсер новостных текстов с сайтов РБК и Лента.ру"
   ]
  },
  {
   "cell_type": "markdown",
   "metadata": {},
   "source": [
    "## Импорт библиотек и описание классов"
   ]
  },
  {
   "cell_type": "code",
   "execution_count": 1,
   "metadata": {
    "_kg_hide-output": true
   },
   "outputs": [
    {
     "name": "stdout",
     "output_type": "stream",
     "text": [
      "Collecting bs4\n",
      "  Downloading bs4-0.0.1.tar.gz (1.1 kB)\n",
      "Requirement already satisfied: beautifulsoup4 in ./.local/lib/python3.8/site-packages (from bs4) (4.11.1)\n",
      "Requirement already satisfied: soupsieve>1.2 in ./.local/lib/python3.8/site-packages (from beautifulsoup4->bs4) (2.3.2.post1)\n",
      "Building wheels for collected packages: bs4\n",
      "  Building wheel for bs4 (setup.py) ... \u001b[?25ldone\n",
      "\u001b[?25h  Created wheel for bs4: filename=bs4-0.0.1-py3-none-any.whl size=1272 sha256=4cc297f2cb37d555da3978225372e0199185ffdf5b4bfbc4c3fd498c743adf6b\n",
      "  Stored in directory: /home/misha-sh/.cache/pip/wheels/75/78/21/68b124549c9bdc94f822c02fb9aa3578a669843f9767776bca\n",
      "Successfully built bs4\n",
      "Installing collected packages: bs4\n",
      "Successfully installed bs4-0.0.1\n",
      "Collecting openpyxl\n",
      "  Downloading openpyxl-3.0.10-py2.py3-none-any.whl (242 kB)\n",
      "\u001b[K     |████████████████████████████████| 242 kB 2.1 MB/s eta 0:00:01\n",
      "\u001b[?25hCollecting et-xmlfile\n",
      "  Downloading et_xmlfile-1.1.0-py3-none-any.whl (4.7 kB)\n",
      "Installing collected packages: et-xmlfile, openpyxl\n",
      "Successfully installed et-xmlfile-1.1.0 openpyxl-3.0.10\n"
     ]
    }
   ],
   "source": [
    "# Установка библиотек\n",
    "!pip install bs4\n",
    "!pip install openpyxl"
   ]
  },
  {
   "cell_type": "code",
   "execution_count": 19,
   "metadata": {},
   "outputs": [
    {
     "name": "stdout",
     "output_type": "stream",
     "text": [
      "Requirement already satisfied: lxml in ./.local/lib/python3.8/site-packages (4.9.1)\n"
     ]
    }
   ],
   "source": [
    "!pip3 install lxml"
   ]
  },
  {
   "cell_type": "code",
   "execution_count": 1,
   "metadata": {},
   "outputs": [],
   "source": [
    "# Импорт библиотек\n",
    "import requests as rq\n",
    "from bs4 import BeautifulSoup as bs\n",
    "import pandas as pd\n",
    "import numpy as np\n",
    "from datetime import datetime, timedelta\n",
    "from IPython import display"
   ]
  },
  {
   "cell_type": "markdown",
   "metadata": {},
   "source": [
    "Ниже описаны классы для извлечения данных. \n",
    "\n",
    "Используются поисковые движки сайтов, возвращающие по запросу json таблицы с информацией о статьях. \n",
    "\n",
    "При их использовании есть различные ограничения, например, на количество статей в запросе. Так на сайте РБК выдается максимум 100 статей, в то время как на Ленте.ру можно получить сразу 1000. По моим наблюдениям, запросы на Лента.ру ограничены временем, и соответственно, точное ограничение найти не получится. Более того, на Лента.ру сразу выдается текст статьи в json таблице, с РБК приходится дополнительно парсить текст со страниц.  "
   ]
  },
  {
   "cell_type": "markdown",
   "metadata": {},
   "source": [
    "### Парсер для РБК\n",
    "\n"
   ]
  },
  {
   "cell_type": "markdown",
   "metadata": {},
   "source": [
    "### Парсер для Лента.ру"
   ]
  },
  {
   "cell_type": "code",
   "execution_count": 3,
   "metadata": {
    "id": "xYqhPr1yRjQY"
   },
   "outputs": [],
   "source": [
    "class lentaRu_parser:\n",
    "    def __init__(self):\n",
    "        pass\n",
    "    \n",
    "    \n",
    "    def _get_url(self, param_dict: dict) -> str:\n",
    "        \"\"\"\n",
    "        Возвращает URL для запроса json таблицы со статьями\n",
    "\n",
    "        url = 'https://lenta.ru/search/v2/process?'\\\n",
    "        + 'from=0&'\\                       # Смещение\n",
    "        + 'size=1000&'\\                    # Кол-во статей\n",
    "        + 'sort=2&'\\                       # Сортировка по дате (2), по релевантности (1)\n",
    "        + 'title_only=0&'\\                 # Точная фраза в заголовке\n",
    "        + 'domain=1&'\\                     # ??\n",
    "        + 'modified%2Cformat=yyyy-MM-dd&'\\ # Формат даты\n",
    "        + 'type=1&'\\                       # Материалы. Все материалы (0). Новость (1)\n",
    "        + 'bloc=4&'\\                       # Рубрика. Экономика (4). Все рубрики (0)\n",
    "        + 'modified%2Cfrom=2020-01-01&'\\\n",
    "        + 'modified%2Cto=2020-11-01&'\\\n",
    "        + 'query='                         # Поисковой запрос\n",
    "        \"\"\"\n",
    "        hasType = int(param_dict['type']) != 0\n",
    "        hasBloc = int(param_dict['bloc']) != 0\n",
    "\n",
    "        url = 'https://lenta.ru/search/v2/process?'\\\n",
    "        + 'from={}&'.format(param_dict['from'])\\\n",
    "        + 'size={}&'.format(param_dict['size'])\\\n",
    "        + 'sort={}&'.format(param_dict['sort'])\\\n",
    "        + 'title_only={}&'.format(param_dict['title_only'])\\\n",
    "        + 'domain={}&'.format(param_dict['domain'])\\\n",
    "        + 'modified%2Cformat=yyyy-MM-dd&'\\\n",
    "        + 'type={}&'.format(param_dict['type']) * hasType\\\n",
    "        + 'bloc={}&'.format(param_dict['bloc']) * hasBloc\\\n",
    "        + 'modified%2Cfrom={}&'.format(param_dict['dateFrom'])\\\n",
    "        + 'modified%2Cto={}&'.format(param_dict['dateTo'])\\\n",
    "        + 'query={}'.format(param_dict['query'])\n",
    "        \n",
    "        return url\n",
    "\n",
    "\n",
    "    def _get_search_table(self, param_dict: dict) -> pd.DataFrame:\n",
    "        \"\"\"\n",
    "        Возвращает pd.DataFrame со списком статей\n",
    "        \"\"\"\n",
    "        url = self._get_url(param_dict)\n",
    "        r = rq.get(url)\n",
    "        search_table = pd.DataFrame(r.json()['matches'])\n",
    "        \n",
    "        return search_table\n",
    "\n",
    "    \n",
    "    def get_articles(self,\n",
    "                     param_dict,\n",
    "                     time_step = 37,\n",
    "                     save_every = 5, \n",
    "                     save_excel = True) -> pd.DataFrame:\n",
    "        \"\"\"\n",
    "        Функция для скачивания статей интервалами через каждые time_step дней\n",
    "        Делает сохранение таблицы через каждые save_every * time_step дней\n",
    "\n",
    "        param_dict: dict\n",
    "        ### Параметры запроса \n",
    "        ###### project - раздел поиска, например, rbcnews\n",
    "        ###### category - категория поиска, например, TopRbcRu_economics\n",
    "        ###### dateFrom - с даты\n",
    "        ###### dateTo - по дату\n",
    "        ###### offset - смещение поисковой выдачи\n",
    "        ###### limit - лимит статей, максимум 100\n",
    "        ###### query - поисковой запрос (ключевое слово), например, РБК\n",
    "\n",
    "        \"\"\"\n",
    "        param_copy = param_dict.copy()\n",
    "        time_step = timedelta(days=time_step)\n",
    "        dateFrom = datetime.strptime(param_copy['dateFrom'], '%Y-%m-%d')\n",
    "        dateTo = datetime.strptime(param_copy['dateTo'], '%Y-%m-%d')\n",
    "        if dateFrom > dateTo:\n",
    "            raise ValueError('dateFrom should be less than dateTo')\n",
    "        \n",
    "        out = pd.DataFrame()\n",
    "        save_counter = 0\n",
    "\n",
    "        while dateFrom <= dateTo:\n",
    "            param_copy['dateTo'] = (dateFrom + time_step).strftime('%Y-%m-%d')\n",
    "            if dateFrom + time_step > dateTo:\n",
    "                param_copy['dateTo'] = dateTo.strftime('%Y-%m-%d')\n",
    "            print('Parsing articles from '\\\n",
    "                  + param_copy['dateFrom'] +  ' to ' + param_copy['dateTo'])\n",
    "            out = out.append(self._get_search_table(param_copy), ignore_index=True)\n",
    "            dateFrom += time_step + timedelta(days=1)\n",
    "            param_copy['dateFrom'] = dateFrom.strftime('%Y-%m-%d')\n",
    "            save_counter += 1\n",
    "            if save_counter == save_every:\n",
    "                display.clear_output(wait=True)\n",
    "                out.to_excel(\"/tmp/checkpoint_table.xlsx\")\n",
    "                print('Checkpoint saved!')\n",
    "                save_counter = 0\n",
    "            \n",
    "        if save_excel:\n",
    "            out.to_excel(\"lenta_{}_{}.xlsx\".format(\n",
    "                param_dict['dateFrom'],\n",
    "                param_dict['dateTo']))\n",
    "        print('Finish')\n",
    "        \n",
    "        return out"
   ]
  },
  {
   "cell_type": "markdown",
   "metadata": {},
   "source": [
    "## Пример выгрузки данных"
   ]
  },
  {
   "cell_type": "markdown",
   "metadata": {},
   "source": [
    "### РБК\n",
    "\n",
    "* __project__ - проекты РБК. Возможные значения: [\"rbcnews\", \"rbctv\", \"rbcstyle\", \"sport\", \"realty\", \"crypto\", \"autonews\", \"quote\", \"bc3\", \"trends\"]\n",
    " \n",
    "* __category__ - рубрики: [\"TopRbcRu_economics\", \"TopRbcRu_auto\", \"TopRbcRu_business\", \"TopRbcRu_money\", \"TopRbcRu_realty\", \"TopRbcRu_society\", \"TopRbcRu_politics\", \"TopRbcRu_own_business\", \"TopRbcRu_specials\", \"TopRbcRu_technology_and_media\", \"TopRbcRu_finances\"]\n",
    "\n",
    "* __material__ - материалы: [\"video\", \"quiz\", \"interview\", \"research\", \"card\", \"opinion\", \"multimedia\", \"short_news\", \"olympics_online\", \"online\", \"investigation\", \"rating\", \"article_specproject\", \"article\", \"story\"]\n",
    "\n",
    "* __dateFrom__ - с даты \n",
    "\n",
    "* __dateTo__ - по дату \n",
    "\n",
    "* __offset__ - смещение поисковой выдачи (от 0 до 100)\n",
    "\n",
    "* __limit__ - лимит запроса, максимум 100 \n",
    "\n",
    "_Чтобы не специфировать параметр, оставляем поле пустым_"
   ]
  },
  {
   "cell_type": "code",
   "execution_count": 2,
   "metadata": {
    "id": "1xwhXhO0jLNJ"
   },
   "outputs": [],
   "source": [
    "class rbc_parser:\n",
    "    def __init__(self):\n",
    "        pass\n",
    "    \n",
    "    \n",
    "    def _get_url(self, param_dict: dict) -> str:\n",
    "        \"\"\"\n",
    "        Возвращает URL для запроса json таблицы со статьями\n",
    "        \"\"\"\n",
    "        url = 'https://www.rbc.ru/search2/ajax/?\\\n",
    "        project={0}&\\\n",
    "        category={1}&\\\n",
    "        dateFrom={2}&\\\n",
    "        dateTo={3}&\\\n",
    "        offset={4}&\\\n",
    "        limit={5}&\\\n",
    "        query={6}&\\\n",
    "        material={7}'.format(param_dict['project'],\n",
    "                            param_dict['category'],\n",
    "                            param_dict['dateFrom'],\n",
    "                            param_dict['dateTo'],\n",
    "                            param_dict['offset'],\n",
    "                            param_dict['limit'],\n",
    "                            param_dict['query'],\n",
    "                            param_dict['material'])\n",
    "        \n",
    "        return url\n",
    "    \n",
    "    \n",
    "    def _get_search_table(self, param_dict: dict,\n",
    "                          includeText: bool = True) -> pd.DataFrame:\n",
    "        \"\"\"\n",
    "        Возвращает pd.DataFrame со списком статей\n",
    "        \n",
    "        includeText: bool\n",
    "        ### Если True, статьи возвращаются с текстами\n",
    "        \"\"\"\n",
    "        url = self._get_url(param_dict)\n",
    "        r = rq.get(url)\n",
    "        search_table = pd.DataFrame(r.json()['items'])\n",
    "        if includeText and not search_table.empty:\n",
    "            get_text = lambda x: self._get_article_data(x['fronturl'])\n",
    "            search_table[['overview', 'text']] = search_table.apply(get_text,\n",
    "                                                                    axis=1).tolist()\n",
    "            \n",
    "        return search_table.sort_values('publish_date_t', ignore_index=True)\n",
    "    \n",
    "    \n",
    "    def _get_article_data(self, url: str):\n",
    "        \"\"\"\n",
    "        Возвращает описание и текст статьи по ссылке\n",
    "        \"\"\"\n",
    "        r = rq.get(url)\n",
    "        soup = bs(r.text, features=\"lxml\") # features=\"lxml\" чтобы не было warning\n",
    "        div_overview = soup.find('div', {'class': 'article__text__overview'})\n",
    "        if div_overview:\n",
    "            overview = div_overview.text.replace('<br />','\\n').strip()\n",
    "        else:\n",
    "            overview = None\n",
    "        p_text = soup.find_all('p')\n",
    "        if p_text:\n",
    "            text = ' '.join(map(lambda x:\n",
    "                                x.text.replace('<br />','\\n').strip(),\n",
    "                                p_text))\n",
    "        else:\n",
    "            text = None\n",
    "        \n",
    "        return overview, text \n",
    "    \n",
    "    def get_articles(self,\n",
    "                     param_dict,\n",
    "                     time_step = 7,\n",
    "                     save_every = 5,\n",
    "                     save_excel = True) -> pd.DataFrame:\n",
    "        \"\"\"\n",
    "        Функция для скачивания статей интервалами через каждые time_step дней\n",
    "        Делает сохранение таблицы через каждые save_every * time_step дней\n",
    "\n",
    "        param_dict: dict\n",
    "        ### Параметры запроса \n",
    "        ###### project - раздел поиска, например, rbcnews\n",
    "        ###### category - категория поиска, например, TopRbcRu_economics\n",
    "        ###### dateFrom - с даты\n",
    "        ###### dateTo - по дату\n",
    "        ###### offset - смещение поисковой выдачи\n",
    "        ###### limit - лимит статей, максимум 100\n",
    "        ###### query - поисковой запрос (ключевое слово), например, РБК\n",
    "\n",
    "        \"\"\"\n",
    "        param_copy = param_dict.copy()\n",
    "        time_step = timedelta(days=time_step)\n",
    "        dateFrom = datetime.strptime(param_copy['dateFrom'], '%d.%m.%Y')\n",
    "        dateTo = datetime.strptime(param_copy['dateTo'], '%d.%m.%Y')\n",
    "        if dateFrom > dateTo:\n",
    "            raise ValueError('dateFrom should be less than dateTo')\n",
    "        \n",
    "        out = pd.DataFrame()\n",
    "        save_counter = 0\n",
    "\n",
    "        while dateFrom <= dateTo:\n",
    "            param_copy['dateTo'] = (dateFrom + time_step).strftime(\"%d.%m.%Y\")\n",
    "            if dateFrom + time_step > dateTo:\n",
    "                param_copy['dateTo'] = dateTo.strftime(\"%d.%m.%Y\")\n",
    "            print('Parsing articles from ' + param_copy['dateFrom'] +  ' to ' + param_copy['dateTo'])\n",
    "            out = out.append(self._get_search_table(param_copy), ignore_index=True)\n",
    "            dateFrom += time_step + timedelta(days=1)\n",
    "            param_copy['dateFrom'] = dateFrom.strftime(\"%d.%m.%Y\")\n",
    "            save_counter += 1\n",
    "            if save_counter == save_every:\n",
    "                display.clear_output(wait=True)\n",
    "                out.to_excel(\"/tmp/checkpoint_table.xlsx\")\n",
    "                print('Checkpoint saved!')\n",
    "                save_counter = 0\n",
    "        \n",
    "        if save_excel:\n",
    "            out.to_excel(\"rbc_{}_{}.xlsx\".format(\n",
    "                param_dict['dateFrom'],\n",
    "                param_dict['dateTo']))\n",
    "        print('Finish')\n",
    "        \n",
    "        return out"
   ]
  },
  {
   "cell_type": "code",
   "execution_count": 3,
   "metadata": {
    "id": "3thQqZuQOMd9",
    "outputId": "8932d6c2-671d-481c-c37c-dc27f63d08d0"
   },
   "outputs": [
    {
     "name": "stdout",
     "output_type": "stream",
     "text": [
      "РБК - param_dict: {'query': 'РБК', 'project': 'rbcnews', 'category': 'TopRbcRu_economics', 'dateFrom': '01.01.2021', 'dateTo': '28.02.2021', 'offset': '0', 'limit': '100', 'material': ''}\n"
     ]
    }
   ],
   "source": [
    "# Задаем параметры запросы и складываем в param_dict\n",
    "use_parser = \"РБК\"\n",
    "\n",
    "query = 'РБК'\n",
    "project = \"rbcnews\"\n",
    "category = \"TopRbcRu_economics\"\n",
    "material = \"\"\n",
    "dateFrom = '2021-01-01'\n",
    "dateTo = \"2021-02-28\"\n",
    "offset = 0\n",
    "limit = 100\n",
    "\n",
    "if use_parser == \"РБК\":\n",
    "    param_dict = {'query'   : query, \n",
    "                  'project' : project,\n",
    "                  'category': category,\n",
    "                  'dateFrom': datetime.\n",
    "                  strptime(dateFrom, '%Y-%m-%d').\n",
    "                  strftime('%d.%m.%Y'),\n",
    "                  'dateTo'  : datetime.\n",
    "                  strptime(dateTo, '%Y-%m-%d').\n",
    "                  strftime('%d.%m.%Y'),\n",
    "                  'offset'  : str(offset),\n",
    "                  'limit'   : str(limit),\n",
    "                  'material': material}\n",
    "\n",
    "print(use_parser, \"- param_dict:\", param_dict)"
   ]
  },
  {
   "cell_type": "code",
   "execution_count": 5,
   "metadata": {
    "id": "isXrJKyHYZzM",
    "outputId": "007020ee-29bf-4297-e042-1a3579c4ed58"
   },
   "outputs": [
    {
     "name": "stdout",
     "output_type": "stream",
     "text": [
      "10\n"
     ]
    },
    {
     "data": {
      "text/plain": [
       "'«Мемориал» (признан в России\\xa0иноагентом в России и ликвидирован) стал одним из лауреатов Нобелевской премии мира 2022 года. Менее чем за год до этого правозащитный центр и просветительское общество были ликвидированы по решению судов. История «Мемориала» началась во время перестройки и гласности, у истоков организации стоял академик Сахаров. Кто и зачем создавал «Мемориал» и как работала организация\\xa0— в материале РБК На фото:  учредительная конференция добровольного историко- просветительского общества «Мемориал», 28 января 1989 года. Конференцию открыл почетный председатель академик Андрей Сахаров. История «Мемориала» началась с появления в Москве инициативной группы, которая ставила своей целью увековечение памяти жертв политических репрессий. Подобные группы стали появляться и в других частях СССР. В 1988 году председателем стал академик Андрей Сахаров, за два года до этого вернувшийся вместе с женой Еленой Боннэр из ссылки в Горький (ныне Нижний Новгород). Общественный совет избирали путем уличного опроса. Официальной регистрации у «Мемориала» на тот момент не было. В 1989 году членом «Мемориала» стал будущий первый президент России Борис Ельцин, впоследствии он вошел в общественный совет организации На фото: траурная процессия во время похорон Сахарова, Москва, 18 декабря 1989 года. Регистрация межреспубликанского «Мемориала» (а позднее и международного) состоялась в апреле 1991 года, уже после смерти Сахарова. Вдова академика Елена Боннэр рассказывала в интервью, что после его смерти в декабре 1989 года генсек Михаил Горбачев спросил у нее, как увековечить память Сахарова. На это она ответила, что нужно зарегистрировать «Мемориал». В 1991 году был принят закон о реабилитации жертв политических репрессий, в разработке которого принимала участие организация. Позднее «Мемориал» разросся до международного содружества организаций из России, Германии, Казахстана, Украины, Чехии, Бельгии, Италии и других стран Среди инициатив «Мемориала»\\xa0— акция «Возвращение имен». Мероприятие стали проводить с 2007 года, ежегодно 29 октября\\xa0— в канун Дня памяти жертв политических репрессий. Каждый из участников зачитывает вслух список из нескольких имен, вместе с информацией о профессии, возрасте и дате гибели человека. В Москве акция традиционно проходила с 10 утра до 10 вечера у Соловецкого камня на Лубянке (на фото акция в 2018 году)\\xa0— памятника жертвам террора, открытого в 1990 году также по инициативе «Мемориала». Во время\\xa0пандемии акция перешла в онлайн-формат На фото: установка памятных знаков на стене «Дома специалистов» по Лесному проспекту, дом 61 в Санкт-Петербурге, 19 декабря 2021 года. Еще один проект организации\\xa0— «Последний адрес». В рамках этой инициативы на домах, откуда последний раз уходили погибшие во время репрессий люди, устанавливаются памятные знаки с краткой информацией\\xa0— имя, возраст, дата расстрела, дата реабилитации. Сведения берутся из базы «Мемориала». По данным с официального сайта проекта «Последний адрес», в Москве установлены 659 таких табличек, в Санкт-Петербурге\\xa0— 410, во множестве других городов значительно меньше. Летом 2022 года стало известно о демонтаже памятных знаков с московского дома на 3-й Тверской-Ямской улице\\xa0— в префектуре тогда пояснили, что не все жильцы дома дали согласие на их установку В 2009 году была похищена и убита член грозненского отделения «Мемориала» Наталья Эстемирова. Она занималась расследованиями, правозащитной работой и помогала в поиске пропавших людей. После этого работа грозненского «Мемориала» была приостановлена, власти Чечни выразили сожаление о таком решении организации и назвали его политизированным. Через несколько месяцев работу восстановил новый глава филиала Оюб Титиев В 2018 году Оюб Титиев стал фигурантом уголовного дела. 9 января его автомобиль остановила полиция, при осмотре в машине нашли пакет с веществом «со специфическим запахом марихуаны». Титиев говорил, что наркотики ему подбросили. Его приговорили к четырем годам колонии по обвинению в хранении наркотиков в особо крупном размере. В 2019 году он вышел на свободу по УДО и заявил, что не планирует далее работать в Чечне Еще одним обвиняемым\\xa0— по другому уголовному делу\\xa0— стал глава карельского «Мемориала» Юрий Дмитриев, который еще в начале 1990-х обнаружил в своем регионе несколько крупных захоронений жертв сталинских репрессий, в том числе\\xa0— расстрельный полигон Сандармох. Уголовное дело против него возбудили в 2016 году по нескольким статьям УК, в том числе о хранении оружия и детской порнографии. Сам он утверждал, что делал фотографии своей несовершеннолетней приемной дочери с медицинскими целями, так как из детдома она попала к нему ослабленной, и фотографии он прикреплял к ее дневнику здоровья. На первом процессе Дмитриева оправдали по большинству обвинений, назначив срок только за хранение оружия\\xa0— 3,5 года колонии. В 2018 году дело отправили на пересмотр\\xa0— по словам адвокатов, из-за письма от лица его подопечной. В 2021 году суд приговорил его к 15 годам тюрьмы по обвинению в развратных действиях и порнографии На фото: у здания Верховного суда в день рассмотрения требования прокуратуры о ликвидации «Мемориала», 28 декабря 2021 года. В 2014 году юрлица «Мемориала» попали в реестр НКО-иноагентов, в 2016 году туда включили и международный «Мемориал». В декабре 2021 года Верховный суд его ликвидировал. Поводом стали неоднократные нарушения закона об иноагентах, в том числе в части маркировки материалов. Прокуратура на прениях сторон обвинила организацию в спекуляции на теме политрепрессий и создании «лживого образа СССР как террористического государства». На следующий день Мосгорсуд ликвидировал правозащитный центр «Мемориал». В поддержку «Мемориала» и его структур высказались многие общественные деятели в России и за рубежом. Среди них\\xa0— нобелевские лауреаты Михаил Горбачев и Дмитрий Муратов, писатель и артист Стивен Фрай, драматург Том Стоппард, журналист Владимир Познер, несколько десятков академиков и членов-корреспондентов РАН. В президентском Совете по правам человека назвали ликвидацию «Мемориала» чрезвычайной мерой На фото: логотип «Мемориала» вместе с фотографиями лауреатов Нобелевской премии мира предыдущих лет в Норвежском Нобелевском институте, 7 октября 2022 года. 7 октября 2022 года были объявлены лауреаты Нобелевской премии мира, среди них\\xa0— «Мемориал». Премию также присудили белорусскому правозащитнику Алесю Беляцкому и украинскому центру гражданских свобод. Комитет пояснил, что хотел воздать должное «трем выдающимся борцам за права человека, демократию и мирное сосуществование в соседних странах\\xa0— Белоруссии, России и Украине».'"
      ]
     },
     "execution_count": 5,
     "metadata": {},
     "output_type": "execute_result"
    }
   ],
   "source": [
    "# Пример того, как выглядит json таблица запроса по параметрам.\n",
    "# Действует ограничение в 100 статей на 1 запрос (параметром limit)\n",
    "assert use_parser == \"РБК\"\n",
    "parser = rbc_parser()\n",
    "tbl = parser._get_search_table(param_dict,\n",
    "                               includeText = True) # Парсить текст статей\n",
    "print(len(tbl))\n",
    "tbl.head()\n",
    "tbl['text'][0]"
   ]
  },
  {
   "cell_type": "code",
   "execution_count": null,
   "metadata": {},
   "outputs": [
    {
     "name": "stdout",
     "output_type": "stream",
     "text": [
      "Parsing articles from 01.01.2021 to 08.01.2021\n"
     ]
    },
    {
     "name": "stderr",
     "output_type": "stream",
     "text": [
      "/tmp/ipykernel_5304/2151416731.py:105: FutureWarning: The frame.append method is deprecated and will be removed from pandas in a future version. Use pandas.concat instead.\n",
      "  out = out.append(self._get_search_table(param_copy), ignore_index=True)\n"
     ]
    },
    {
     "name": "stdout",
     "output_type": "stream",
     "text": [
      "Parsing articles from 09.01.2021 to 16.01.2021\n"
     ]
    },
    {
     "name": "stderr",
     "output_type": "stream",
     "text": [
      "/tmp/ipykernel_5304/2151416731.py:105: FutureWarning: The frame.append method is deprecated and will be removed from pandas in a future version. Use pandas.concat instead.\n",
      "  out = out.append(self._get_search_table(param_copy), ignore_index=True)\n"
     ]
    },
    {
     "name": "stdout",
     "output_type": "stream",
     "text": [
      "Parsing articles from 17.01.2021 to 24.01.2021\n"
     ]
    },
    {
     "name": "stderr",
     "output_type": "stream",
     "text": [
      "/tmp/ipykernel_5304/2151416731.py:105: FutureWarning: The frame.append method is deprecated and will be removed from pandas in a future version. Use pandas.concat instead.\n",
      "  out = out.append(self._get_search_table(param_copy), ignore_index=True)\n"
     ]
    },
    {
     "name": "stdout",
     "output_type": "stream",
     "text": [
      "Parsing articles from 25.01.2021 to 01.02.2021\n"
     ]
    },
    {
     "name": "stderr",
     "output_type": "stream",
     "text": [
      "/tmp/ipykernel_5304/2151416731.py:105: FutureWarning: The frame.append method is deprecated and will be removed from pandas in a future version. Use pandas.concat instead.\n",
      "  out = out.append(self._get_search_table(param_copy), ignore_index=True)\n"
     ]
    },
    {
     "name": "stdout",
     "output_type": "stream",
     "text": [
      "Parsing articles from 02.02.2021 to 09.02.2021\n"
     ]
    }
   ],
   "source": [
    "# Пример работы программы итеративного сбора большого количества текстов статей\n",
    "# Работает, конечно, очень долго :(\n",
    "table = parser.get_articles(param_dict=param_dict,\n",
    "                             time_step = 7, # Шаг - 7 дней, можно больше,\n",
    "                                            # но есть риск отсечения статей в неделях, гдестатей больше 100\n",
    "                             save_every = 5, # Сохранять чекпойнт каждые 5 шагов\n",
    "                             save_excel = True) # Сохранить итоговый файл\n",
    "print(len(table))\n",
    "table.head()"
   ]
  },
  {
   "cell_type": "markdown",
   "metadata": {},
   "source": [
    "### Лента.ру\n",
    "\n",
    "* __query__ - поисковой запрос (ключевое слово)\n",
    "\n",
    "* __offset__ - cмещение поисковой выдачи (от 0 до __size__)\n",
    "\n",
    "* __size__ - количество статей. Ограничено время запроса, точного лимита нет. 1000 работает почти всегда \n",
    "\n",
    "* __sort__ - сортировка по дате: (2) - по убыванию, (3) - по возрастанию; по релевантности (1) \n",
    "\n",
    "* __title_only__ - точная фраза в заголовке (1)\n",
    "\n",
    "* __domain__ - ? \n",
    "\n",
    "* __material__ - материалы: Все материалы (0). Новость (1). [\"0\", \"1\", \"2\", \"3\", \"4\", ...]\n",
    "\n",
    "* __block__ - рубрика: Экономика (4). Все рубрики (0). [\"0\", \"1\", \"2\", \"3\", \"4\", ...]\n",
    "\n",
    "* __dateFrom__ - с даты\n",
    "\n",
    "* __dateTo__ - по дату\n",
    "\n",
    "_Чтобы не специфировать параметр, оставляем поле пустым_"
   ]
  },
  {
   "cell_type": "code",
   "execution_count": 95,
   "metadata": {},
   "outputs": [
    {
     "name": "stdout",
     "output_type": "stream",
     "text": [
      "LentaRu - param_dict: {'query': '', 'from': '0', 'size': '1000', 'dateFrom': '2020-01-01', 'dateTo': '2020-03-31', 'sort': '3', 'title_only': '0', 'type': '0', 'bloc': '4', 'domain': '1'}\n"
     ]
    }
   ],
   "source": [
    "# Задаем тут параметры\n",
    "use_parser = \"LentaRu\"\n",
    "\n",
    "query = ''\n",
    "offset = 0\n",
    "size = 1000\n",
    "sort = \"3\"\n",
    "title_only = \"0\"\n",
    "domain = \"1\"\n",
    "material = \"0\"\n",
    "bloc = \"4\"\n",
    "dateFrom = '2020-01-01'\n",
    "dateTo = \"2020-03-31\"\n",
    "\n",
    "if use_parser == \"LentaRu\":\n",
    "    param_dict = {'query'     : query, \n",
    "                  'from'      : str(offset),\n",
    "                  'size'      : str(size),\n",
    "                  'dateFrom'  : dateFrom,\n",
    "                  'dateTo'    : dateTo,\n",
    "                  'sort'      : sort,\n",
    "                  'title_only': title_only,\n",
    "                  'type'      : material, \n",
    "                  'bloc'      : bloc,\n",
    "                  'domain'    : domain}\n",
    "\n",
    "print(use_parser, \"- param_dict:\", param_dict)"
   ]
  },
  {
   "cell_type": "code",
   "execution_count": 96,
   "metadata": {
    "id": "_P68Sk0BpsOa",
    "outputId": "42443f0c-5e20-4494-e8a4-164a10e14316"
   },
   "outputs": [
    {
     "name": "stdout",
     "output_type": "stream",
     "text": [
      "Parsing articles from 2020-01-01 to 2020-02-07\n",
      "Parsing articles from 2020-02-08 to 2020-03-16\n",
      "Parsing articles from 2020-03-17 to 2020-03-31\n",
      "Finish\n",
      "1946\n"
     ]
    },
    {
     "data": {
      "text/html": [
       "<div>\n",
       "<style scoped>\n",
       "    .dataframe tbody tr th:only-of-type {\n",
       "        vertical-align: middle;\n",
       "    }\n",
       "\n",
       "    .dataframe tbody tr th {\n",
       "        vertical-align: top;\n",
       "    }\n",
       "\n",
       "    .dataframe thead th {\n",
       "        text-align: right;\n",
       "    }\n",
       "</style>\n",
       "<table border=\"1\" class=\"dataframe\">\n",
       "  <thead>\n",
       "    <tr style=\"text-align: right;\">\n",
       "      <th></th>\n",
       "      <th>docid</th>\n",
       "      <th>url</th>\n",
       "      <th>title</th>\n",
       "      <th>modified</th>\n",
       "      <th>lastmodtime</th>\n",
       "      <th>type</th>\n",
       "      <th>domain</th>\n",
       "      <th>status</th>\n",
       "      <th>part</th>\n",
       "      <th>bloc</th>\n",
       "      <th>tags</th>\n",
       "      <th>image_url</th>\n",
       "      <th>pubdate</th>\n",
       "      <th>text</th>\n",
       "      <th>rightcol</th>\n",
       "      <th>snippet</th>\n",
       "    </tr>\n",
       "  </thead>\n",
       "  <tbody>\n",
       "    <tr>\n",
       "      <th>0</th>\n",
       "      <td>943747</td>\n",
       "      <td>https://lenta.ru/news/2020/01/01/org/</td>\n",
       "      <td>В России утвердили стандарты органической еды</td>\n",
       "      <td>1577838649</td>\n",
       "      <td>1577838649</td>\n",
       "      <td>1</td>\n",
       "      <td>1</td>\n",
       "      <td>0</td>\n",
       "      <td>0</td>\n",
       "      <td>4</td>\n",
       "      <td>[7, 8]</td>\n",
       "      <td>https://icdn.lenta.ru/images/2019/12/31/13/201...</td>\n",
       "      <td>1577838649</td>\n",
       "      <td>Фото: Rupert Oberhäuser / Globallookpress.com ...</td>\n",
       "      <td>Вступил в силу принятый в 2018 году закон</td>\n",
       "      <td>Фото: Rupert Oberhäuser / ... для производител...</td>\n",
       "    </tr>\n",
       "    <tr>\n",
       "      <th>1</th>\n",
       "      <td>943634</td>\n",
       "      <td>https://lenta.ru/news/2020/01/01/theaters/</td>\n",
       "      <td>Российские театры освободили от налогов</td>\n",
       "      <td>1577840882</td>\n",
       "      <td>1577840883</td>\n",
       "      <td>1</td>\n",
       "      <td>1</td>\n",
       "      <td>0</td>\n",
       "      <td>0</td>\n",
       "      <td>4</td>\n",
       "      <td>[7]</td>\n",
       "      <td>https://icdn.lenta.ru/images/2019/12/30/20/201...</td>\n",
       "      <td>1577840882</td>\n",
       "      <td>Фото: Константин Кокошкин / «Коммерсантъ» Росс...</td>\n",
       "      <td>Обнулить базу удастся при условии строго следо...</td>\n",
       "      <td>Фото: Константин Кокошкин / «Коммерсантъ»... п...</td>\n",
       "    </tr>\n",
       "    <tr>\n",
       "      <th>2</th>\n",
       "      <td>943811</td>\n",
       "      <td>https://lenta.ru/news/2020/01/01/tariff/</td>\n",
       "      <td>Покупать в интернете за границей стало сложнее</td>\n",
       "      <td>1577847420</td>\n",
       "      <td>1577958238</td>\n",
       "      <td>1</td>\n",
       "      <td>1</td>\n",
       "      <td>0</td>\n",
       "      <td>0</td>\n",
       "      <td>4</td>\n",
       "      <td>[7]</td>\n",
       "      <td>https://icdn.lenta.ru/images/2019/12/31/17/201...</td>\n",
       "      <td>1577847420</td>\n",
       "      <td>Фото: Depositphotos Покупать в интернете за гр...</td>\n",
       "      <td>Порог беспошлинного ввоза снижен до 200 евро з...</td>\n",
       "      <td>Фото: Depositphotos Покупать в интернете ..., ...</td>\n",
       "    </tr>\n",
       "    <tr>\n",
       "      <th>3</th>\n",
       "      <td>943816</td>\n",
       "      <td>https://lenta.ru/news/2020/01/01/gas/</td>\n",
       "      <td>На Украине подорожал газ</td>\n",
       "      <td>1577850424</td>\n",
       "      <td>1577850425</td>\n",
       "      <td>1</td>\n",
       "      <td>1</td>\n",
       "      <td>0</td>\n",
       "      <td>0</td>\n",
       "      <td>4</td>\n",
       "      <td>[7, 8, 198]</td>\n",
       "      <td>https://icdn.lenta.ru/images/2019/12/31/18/201...</td>\n",
       "      <td>1577850424</td>\n",
       "      <td>Фото: Sean Gallup / Getty Images Цена на газ д...</td>\n",
       "      <td>Стоимость тысячи кубометров для населения дост...</td>\n",
       "      <td>Фото: Sean Gallup / Getty Images Цена на ...,3...</td>\n",
       "    </tr>\n",
       "    <tr>\n",
       "      <th>4</th>\n",
       "      <td>943729</td>\n",
       "      <td>https://lenta.ru/news/2020/01/01/self/</td>\n",
       "      <td>В России стало больше самозанятых</td>\n",
       "      <td>1577854128</td>\n",
       "      <td>1577854128</td>\n",
       "      <td>1</td>\n",
       "      <td>1</td>\n",
       "      <td>0</td>\n",
       "      <td>0</td>\n",
       "      <td>4</td>\n",
       "      <td>[7]</td>\n",
       "      <td>https://icdn.lenta.ru/images/2019/12/31/11/201...</td>\n",
       "      <td>1577854128</td>\n",
       "      <td>Фото: Олег Харсеев / «Коммерсантъ» В России ст...</td>\n",
       "      <td>Режим распространили на 19 новых регионов</td>\n",
       "      <td>Фото: Олег Харсеев / «Коммерсантъ» В ... распр...</td>\n",
       "    </tr>\n",
       "  </tbody>\n",
       "</table>\n",
       "</div>"
      ],
      "text/plain": [
       "    docid                                         url  \\\n",
       "0  943747       https://lenta.ru/news/2020/01/01/org/   \n",
       "1  943634  https://lenta.ru/news/2020/01/01/theaters/   \n",
       "2  943811    https://lenta.ru/news/2020/01/01/tariff/   \n",
       "3  943816       https://lenta.ru/news/2020/01/01/gas/   \n",
       "4  943729      https://lenta.ru/news/2020/01/01/self/   \n",
       "\n",
       "                                            title    modified  lastmodtime  \\\n",
       "0   В России утвердили стандарты органической еды  1577838649   1577838649   \n",
       "1         Российские театры освободили от налогов  1577840882   1577840883   \n",
       "2  Покупать в интернете за границей стало сложнее  1577847420   1577958238   \n",
       "3                        На Украине подорожал газ  1577850424   1577850425   \n",
       "4               В России стало больше самозанятых  1577854128   1577854128   \n",
       "\n",
       "   type  domain  status  part  bloc         tags  \\\n",
       "0     1       1       0     0     4       [7, 8]   \n",
       "1     1       1       0     0     4          [7]   \n",
       "2     1       1       0     0     4          [7]   \n",
       "3     1       1       0     0     4  [7, 8, 198]   \n",
       "4     1       1       0     0     4          [7]   \n",
       "\n",
       "                                           image_url     pubdate  \\\n",
       "0  https://icdn.lenta.ru/images/2019/12/31/13/201...  1577838649   \n",
       "1  https://icdn.lenta.ru/images/2019/12/30/20/201...  1577840882   \n",
       "2  https://icdn.lenta.ru/images/2019/12/31/17/201...  1577847420   \n",
       "3  https://icdn.lenta.ru/images/2019/12/31/18/201...  1577850424   \n",
       "4  https://icdn.lenta.ru/images/2019/12/31/11/201...  1577854128   \n",
       "\n",
       "                                                text  \\\n",
       "0  Фото: Rupert Oberhäuser / Globallookpress.com ...   \n",
       "1  Фото: Константин Кокошкин / «Коммерсантъ» Росс...   \n",
       "2  Фото: Depositphotos Покупать в интернете за гр...   \n",
       "3  Фото: Sean Gallup / Getty Images Цена на газ д...   \n",
       "4  Фото: Олег Харсеев / «Коммерсантъ» В России ст...   \n",
       "\n",
       "                                            rightcol  \\\n",
       "0          Вступил в силу принятый в 2018 году закон   \n",
       "1  Обнулить базу удастся при условии строго следо...   \n",
       "2  Порог беспошлинного ввоза снижен до 200 евро з...   \n",
       "3  Стоимость тысячи кубометров для населения дост...   \n",
       "4          Режим распространили на 19 новых регионов   \n",
       "\n",
       "                                             snippet  \n",
       "0  Фото: Rupert Oberhäuser / ... для производител...  \n",
       "1  Фото: Константин Кокошкин / «Коммерсантъ»... п...  \n",
       "2  Фото: Depositphotos Покупать в интернете ..., ...  \n",
       "3  Фото: Sean Gallup / Getty Images Цена на ...,3...  \n",
       "4  Фото: Олег Харсеев / «Коммерсантъ» В ... распр...  "
      ]
     },
     "execution_count": 96,
     "metadata": {},
     "output_type": "execute_result"
    }
   ],
   "source": [
    "# Тоже будем собирать итеративно, правда можно ставить time_step побольше, т.к.\n",
    "# больше лимит на запрос статей. И Работает быстрее :)\n",
    "assert use_parser == \"LentaRu\"\n",
    "parser = lentaRu_parser()\n",
    "tbl = parser.get_articles(param_dict=param_dict,\n",
    "                         time_step = 37,\n",
    "                         save_every = 5, \n",
    "                         save_excel = True)\n",
    "print(len(tbl.index))\n",
    "tbl.head()"
   ]
  }
 ],
 "metadata": {
  "kernelspec": {
   "display_name": "Python 3 (ipykernel)",
   "language": "python",
   "name": "python3"
  },
  "language_info": {
   "codemirror_mode": {
    "name": "ipython",
    "version": 3
   },
   "file_extension": ".py",
   "mimetype": "text/x-python",
   "name": "python",
   "nbconvert_exporter": "python",
   "pygments_lexer": "ipython3",
   "version": "3.10.6"
  }
 },
 "nbformat": 4,
 "nbformat_minor": 4
}
