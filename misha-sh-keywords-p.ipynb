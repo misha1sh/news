{
 "cells": [
  {
   "cell_type": "code",
   "execution_count": 1,
   "id": "f4192b6b-b06e-445a-ac63-ed1dfd266fc0",
   "metadata": {},
   "outputs": [
    {
     "ename": "NameError",
     "evalue": "name 'importer' is not defined",
     "output_type": "error",
     "traceback": [
      "\u001b[0;31m---------------------------------------------------------------------------\u001b[0m",
      "\u001b[0;31mNameError\u001b[0m                                 Traceback (most recent call last)",
      "Cell \u001b[0;32mIn [1], line 1\u001b[0m\n\u001b[0;32m----> 1\u001b[0m \u001b[38;5;28;01mimport\u001b[39;00m \u001b[38;5;21;01mimporter\u001b[39;00m\n\u001b[1;32m      2\u001b[0m data_from_parser \u001b[38;5;241m=\u001b[39m importer\u001b[38;5;241m.\u001b[39mload()\n\u001b[1;32m      5\u001b[0m \u001b[38;5;28;01mfrom\u001b[39;00m \u001b[38;5;21;01mdigester\u001b[39;00m \u001b[38;5;28;01mimport\u001b[39;00m get_digest\n",
      "File \u001b[0;32m~/news/importer.py:55\u001b[0m\n\u001b[1;32m     46\u001b[0m \u001b[38;5;28;01mdef\u001b[39;00m \u001b[38;5;21mload\u001b[39m():\n\u001b[1;32m     47\u001b[0m     \u001b[38;5;28;01mreturn\u001b[39;00m {\n\u001b[1;32m     48\u001b[0m         \u001b[38;5;124m\"\u001b[39m\u001b[38;5;124mcfo\u001b[39m\u001b[38;5;124m\"\u001b[39m: load_cfo(),\n\u001b[1;32m     49\u001b[0m         \u001b[38;5;124m\"\u001b[39m\u001b[38;5;124mcons\u001b[39m\u001b[38;5;124m\"\u001b[39m: load_cons(),\n\u001b[1;32m     50\u001b[0m         \u001b[38;5;124m\"\u001b[39m\u001b[38;5;124mklerk\u001b[39m\u001b[38;5;124m\"\u001b[39m: load_klerk()\n\u001b[1;32m     51\u001b[0m     }\n\u001b[0;32m---> 55\u001b[0m data_from_parser \u001b[38;5;241m=\u001b[39m \u001b[43mimporter\u001b[49m\u001b[38;5;241m.\u001b[39mload()\n\u001b[1;32m     56\u001b[0m \u001b[38;5;28;01mdef\u001b[39;00m \u001b[38;5;21mget_data_for_person\u001b[39m(person_type):\n\u001b[1;32m     57\u001b[0m     \u001b[38;5;28;01mif\u001b[39;00m person_type \u001b[38;5;241m==\u001b[39m \u001b[38;5;124m\"\u001b[39m\u001b[38;5;124mceo\u001b[39m\u001b[38;5;124m\"\u001b[39m:\n",
      "\u001b[0;31mNameError\u001b[0m: name 'importer' is not defined"
     ]
    }
   ],
   "source": [
    "import importer\n",
    "data_from_parser = importer.load()\n",
    "\n",
    "\n",
    "from digester import get_digest\n",
    "get_digest(data_from_parser, person_type=\"buh\", days=30, count=3)"
   ]
  },
  {
   "cell_type": "code",
   "execution_count": null,
   "id": "8d426eb4-8426-4843-a489-3e949db27f24",
   "metadata": {},
   "outputs": [],
   "source": []
  },
  {
   "cell_type": "code",
   "execution_count": 3,
   "id": "88fb53f8-4c19-4b80-a266-948132f4edae",
   "metadata": {},
   "outputs": [
    {
     "data": {
      "text/plain": [
       "[{'url': 'https://www.klerk.ru/buh/news/536733/',\n",
       "  'site': 'klerk',\n",
       "  'title': 'У живущих за рубежом выходцев из новых регионов России есть месяц на замену гражданства',\n",
       "  'text': '\\n\\r Вчера Госдума приняла законы, согласно которым жители новых субъектов со дня принятия регионов в состав России признаются гражданами РФ.\\r  Им можно подать заявление об отказе от российского гражданства, на это дается месяц.\\r Об этом заявил замглавы МИД РФ Евгений Иванов, пишут «Известия».\\r Конституционный комитет Совфеда 4 октября поддержал и рекомендовал одобрить законы о принятии Донецкой и Луганской народных республик (ДНР и ЛНР), а также Херсонской и Запорожской областей в состав РФ.\\r Согласно законам, жители новых субъектов со дня принятия регионов в состав Российской Федерации, то есть с 30 сентября, признаются гражданами РФ. Тем, у кого еще нет паспорта РФ, гражданство будут выдавать по заявлению и после присяги, сообщалось на сайте Госдумы.\\r Совет Федерации рассмотрит законы о принятии новых регионов в состав РФ сегодня.\\n\\n\\n',\n",
       "  'description': 'Жители ДНР и ЛНР, а также Херсонской и Запорожской областей, которые сейчас находятся за рубежом, должны в течение одного месяца определиться, останутся они с гражданством РФ или будут его менять.',\n",
       "  'timestamp': 1664877240.0},\n",
       " {'url': 'https://www.klerk.ru/buh/news/537154/',\n",
       "  'site': 'klerk',\n",
       "  'title': '🚩 Получить аккредитацию IT-компания может с учетом выручки и зарплаты, без учета зарплаты или без учета выручки',\n",
       "  'text': '\\n\\r Один вариант предполагает наличие ПО в реестре российского ПО, другой — для стартапов.\\r Новый порядок аккредитации утвержден постановлением Правительства от 30.09.2022 № 1729.\\r Смотрите в нашей таблице условия для трех вариантов аккредитации.Норма ПП № 1729Условие для варианта № 1Условие для варианта № 2Условие для варианта № 3 (стартап, компания создана не более 3 лет назад и имеет доход до 1 млн. руб).\\r     Подпункт а пункта 4\\r     Основной ОКВЭД из перечня\\r     Подпункт б пункта 4\\r     Среднемесячная зарплата в РСВ за последний квартал не ниже средней зарплаты по РФ или региону\\r     -\\r     Среднемесячная зарплата в РСВ за последний квартал не ниже средней зарплаты по РФ или региону\\r     Подпункт в пункта 4\\r     Доля профильных доходов по итогам предыдущего года более 30%\\r     -\\r     Пункт 7\\r     -\\r     Компания является правообладателем программы из реестра российского ПО и имеет от нее доход\\r     -\\r     Пункт 8\\r     -\\r     -\\r     Компания включена в реестр стартапов (если он есть в регионе)\\r     Подпункт г пункта 4\\r     У компании есть сайт и на нем размещена необходимая информация\\r     Подпункт д пункта 4\\r     Компания направила в ИФНС заявление о согласии на раскрытие налоговой тайны\\r     Подпункт б пункта 17\\r     Нет прямого или косвенного участия (не менее 50%) РФ, субъекта РФ, муниципалитета\\r     Подпункт г пункта 17\\r     Организация не является банком, страховой компанией, небанковской кредитной организацией, некредитной финансовой организацией\\r     Подпункт д пункта 17\\r     Компания не имеет недоимку по налогам более 3 тыс. рублей\\r     Подпункт е пункта 17\\r     У руководителя компании нет неснятой или непогашенной судимости\\r     \\r     \\r     \\r     \\r     \\r Более подробно об этих условиях читайте в материале «Новый порядок аккредитации IT-компаний: таблица с условиями».\\n',\n",
       "  'description': 'Для первого варианта аккредитации кроме нужного кода ОКВЭД, отсутствия налоговых долгов и судимости у директора, а также наличия сайта, IT-компания еще должна иметь 30% профильных доходов и платить сотрудникам хорошую зарплату. Но есть еще 2 варианта',\n",
       "  'timestamp': 1665231240.0}]"
      ]
     },
     "execution_count": 3,
     "metadata": {},
     "output_type": "execute_result"
    }
   ],
   "source": [
    "res"
   ]
  },
  {
   "cell_type": "code",
   "execution_count": 8,
   "id": "800c1846-bbd9-423f-8d4a-6fe86bbc6fba",
   "metadata": {},
   "outputs": [
    {
     "data": {
      "text/plain": [
       "[{'url': 'https://www.klerk.ru/buh/news/536857/',\n",
       "  'site': 'klerk',\n",
       "  'title': 'Кредитные каникулы может оформить не только мобилизованный, но и братья, сестры, родители и дети',\n",
       "  'text': '\\n\\r На брифинге Минтруда сообщили, что право на кредитные каникулы имеют не только мобилизованные граждане, но и члены его семьи, указано на официальном сайте Правительства.\\r  К членам семьи мобилизованного относятся супруги, дети, лица на иждивении (родители, братья и сестры).\\r Иждивение придется доказать документально.\\r На все кредиты, которые были получены мобилизованным или членом его семьи до 21 сентября, можно оформить кредитные каникулы.\\r Кредитные каникулы предоставляются на весь срок мобилизации и плюс 30 дней после возвращения.\\n\\n\\n',\n",
       "  'description': 'Закон о кредитных каникулах позволяет оформить их не только мобилизованному гражданину, но членам его семьи.',\n",
       "  'timestamp': 1664984640.0},\n",
       " {'url': 'https://www.klerk.ru/buh/news/536968/',\n",
       "  'site': 'klerk',\n",
       "  'title': 'Если у автомобиля обнаружится производственный дефект, то владельцу пришлют уведомление на Госуслуги. Минцифры запустил новый сервис для автовладельцев',\n",
       "  'text': '\\n\\r Если у автомобиля обнаружится производственный брак, то его владелец получит уведомление на Госуслугах, сообщается в официальном Telegram-канале Минцифры.\\r Сервис запустили Минцифры совместно с Росстандартом.Отзыв автомобилей – это процедура проверки и исправления дефектов, которые обнаружил производитель после продажи авто.\\r Для устранения неисправностей автопроизводители отзывают автомобили у владельцев.\\r Чтобы получить такое уведомление, нужно:\\r  Иметь подтвержденную запись на Госуслугах;\\r  Иметь проверенные ГИБДД данные об автомобиле в личном кабинете.\\r В уведомлении будет указано, по какой причине отзывают автомобиль и куда нужно обратиться за ремонтом.\\n\\n\\n',\n",
       "  'description': 'На портале Госуслуг запустили сервис, который проинформирует автовладельцев об отзывных компаниях.',\n",
       "  'timestamp': 1665068400.0}]"
      ]
     },
     "execution_count": 8,
     "metadata": {},
     "output_type": "execute_result"
    }
   ],
   "source": [
    "res"
   ]
  },
  {
   "cell_type": "code",
   "execution_count": null,
   "id": "5f7a8bde-1d20-469b-be9c-62f5e0c01848",
   "metadata": {},
   "outputs": [],
   "source": []
  },
  {
   "cell_type": "code",
   "execution_count": null,
   "id": "fc7c548d-e849-46f8-b791-5279f02f54eb",
   "metadata": {},
   "outputs": [],
   "source": []
  },
  {
   "cell_type": "code",
   "execution_count": 6,
   "id": "083b76ff-e3c9-460f-be28-60813be84ee8",
   "metadata": {},
   "outputs": [
    {
     "ename": "NameError",
     "evalue": "name 'keyword_groups_before' is not defined",
     "output_type": "error",
     "traceback": [
      "\u001b[0;31m---------------------------------------------------------------------------\u001b[0m",
      "\u001b[0;31mNameError\u001b[0m                                 Traceback (most recent call last)",
      "Cell \u001b[0;32mIn [6], line 1\u001b[0m\n\u001b[0;32m----> 1\u001b[0m most_popular_keywords(keywords_diff(keyword_groups_before[\u001b[38;5;241m1\u001b[39m], \n\u001b[1;32m      2\u001b[0m                                     keywords_mean(keyword_groups_before[\u001b[38;5;241m2\u001b[39m:])), \u001b[38;5;241m20\u001b[39m)\n",
      "\u001b[0;31mNameError\u001b[0m: name 'keyword_groups_before' is not defined"
     ]
    }
   ],
   "source": [
    "\n",
    "most_popular_keywords(keywords_diff(keyword_groups_before[1], \n",
    "                                    keywords_mean(keyword_groups_before[2:])), 20)"
   ]
  },
  {
   "cell_type": "code",
   "execution_count": null,
   "id": "08553284-63e0-4133-b3ff-7c6277471acb",
   "metadata": {},
   "outputs": [],
   "source": []
  },
  {
   "cell_type": "code",
   "execution_count": 4,
   "id": "8d025d6e-f510-46c1-92b8-9310fb4dd3f9",
   "metadata": {},
   "outputs": [
    {
     "ename": "NameError",
     "evalue": "name 'data_before' is not defined",
     "output_type": "error",
     "traceback": [
      "\u001b[0;31m---------------------------------------------------------------------------\u001b[0m",
      "\u001b[0;31mNameError\u001b[0m                                 Traceback (most recent call last)",
      "Cell \u001b[0;32mIn [4], line 8\u001b[0m\n\u001b[1;32m      5\u001b[0m     keywords_groups \u001b[38;5;241m=\u001b[39m Parallel(n_jobs\u001b[38;5;241m=\u001b[39m\u001b[38;5;241m16\u001b[39m)(delayed(keywords_calc)(i[\u001b[38;5;124m'\u001b[39m\u001b[38;5;124mtext\u001b[39m\u001b[38;5;124m'\u001b[39m]) \u001b[38;5;28;01mfor\u001b[39;00m i \u001b[38;5;129;01min\u001b[39;00m data)\n\u001b[1;32m      6\u001b[0m     \u001b[38;5;28;01mreturn\u001b[39;00m keywords_groups\n\u001b[0;32m----> 8\u001b[0m keyword_groups_before \u001b[38;5;241m=\u001b[39m keywords_groups_calc(data_before)\n\u001b[1;32m      9\u001b[0m keyword_groups_after \u001b[38;5;241m=\u001b[39m keywords_groups_calc(data_after)\n\u001b[1;32m     11\u001b[0m idfs \u001b[38;5;241m=\u001b[39m idf_precalc([keyword_groups_before, keyword_groups_after])\n",
      "\u001b[0;31mNameError\u001b[0m: name 'data_before' is not defined"
     ]
    }
   ],
   "source": [
    "\n",
    "    \n",
    "keyword_groups_before = keywords_groups_calc(data_before)\n",
    "keyword_groups_after = keywords_groups_calc(data_after)\n",
    "\n",
    "idfs = idf_precalc([keyword_groups_before, keyword_groups_after])\n",
    "\n",
    "keyword_groups_before = tf_idf(keyword_groups_before, idfs)\n",
    "keyword_groups_after = tf_idf(keyword_groups_after, idfs)\n",
    "\n",
    "most_popular_keywords(keywords_diff(keywords_mean(keyword_groups_before), \n",
    "                                    keywords_mean(keyword_groups_after)), 20)"
   ]
  },
  {
   "cell_type": "code",
   "execution_count": 7,
   "id": "9a6a325a-6f16-46a2-9ec0-9ec3a28016ad",
   "metadata": {},
   "outputs": [
    {
     "ename": "NameError",
     "evalue": "name 'data_before' is not defined",
     "output_type": "error",
     "traceback": [
      "\u001b[0;31m---------------------------------------------------------------------------\u001b[0m",
      "\u001b[0;31mNameError\u001b[0m                                 Traceback (most recent call last)",
      "Cell \u001b[0;32mIn [7], line 1\u001b[0m\n\u001b[0;32m----> 1\u001b[0m keyword_groups_before \u001b[38;5;241m=\u001b[39m keywords_groups_calc(data_before)\n\u001b[1;32m      2\u001b[0m keyword_groups_after \u001b[38;5;241m=\u001b[39m keywords_groups_calc(data_after)\n\u001b[1;32m      4\u001b[0m \u001b[38;5;66;03m# keywords = keywords_sum(keyword_groups)\u001b[39;00m\n\u001b[1;32m      5\u001b[0m \u001b[38;5;66;03m# most_popular_keywords(keywords, 5)\u001b[39;00m\n\u001b[1;32m      6\u001b[0m \n\u001b[1;32m      7\u001b[0m \u001b[38;5;66;03m# most_popular_keywords(keywords_diff(keyword_groups[0], keywords_mean(keyword_groups[1:])), 5)\u001b[39;00m\n\u001b[1;32m      8\u001b[0m \u001b[38;5;66;03m# most_popular_keywords(keywords_diff(keyword_groups[0], keywords_mean(keyword_groups[60:])), 5)\u001b[39;00m\n",
      "\u001b[0;31mNameError\u001b[0m: name 'data_before' is not defined"
     ]
    }
   ],
   "source": [
    "keyword_groups_before = keywords_groups_calc(data_before)\n",
    "keyword_groups_after = keywords_groups_calc(data_after)\n",
    "\n",
    "# keywords = keywords_sum(keyword_groups)\n",
    "# most_popular_keywords(keywords, 5)\n",
    "\n",
    "# most_popular_keywords(keywords_diff(keyword_groups[0], keywords_mean(keyword_groups[1:])), 5)\n",
    "# most_popular_keywords(keywords_diff(keyword_groups[0], keywords_mean(keyword_groups[60:])), 5)\n",
    "\n",
    "most_popular_keywords(keywords_diff(keywords_mean(keywords_norm(keyword_groups_before)), \n",
    "                                    keywords_mean(keywords_norm(keyword_groups_after))), 20)"
   ]
  },
  {
   "cell_type": "code",
   "execution_count": 95,
   "id": "c9e8dbae-05f0-4d07-94fc-bee5e02245e3",
   "metadata": {},
   "outputs": [
    {
     "data": {
      "text/plain": [
       "[{'word': 'мобилизации', 'short': 'мобилизац', 'count': 0.24858733530481625},\n",
       " {'word': 'мобилизованные',\n",
       "  'short': 'мобилизова',\n",
       "  'count': 0.2124897607841504},\n",
       " {'word': 'Сотрудники', 'short': 'сотрудник', 'count': 0.12521693253918667},\n",
       " {'word': 'службе', 'short': 'служб', 'count': 0.1125966651394616},\n",
       " {'word': 'отсрочку', 'short': 'отсрочк', 'count': 0.10762630680161606},\n",
       " {'word': 'Минцифры', 'short': 'минцифр', 'count': 0.10662668166104378},\n",
       " {'word': 'повестку', 'short': 'повестк', 'count': 0.10430810668221639},\n",
       " {'word': 'РФ', 'short': 'рф', 'count': 0.07951184972302053},\n",
       " {'word': 'семей', 'short': 'сем', 'count': 0.07694336845905009},\n",
       " {'word': 'заявление', 'short': 'заявлен', 'count': 0.07133436072583892},\n",
       " {'word': 'лет', 'short': 'лет', 'count': 0.0674885806711372},\n",
       " {'word': 'военкомат', 'short': 'военкомат', 'count': 0.06644730448304108},\n",
       " {'word': 'учета', 'short': 'учет', 'count': 0.058297582850875364},\n",
       " {'word': 'призыва', 'short': 'призыв', 'count': 0.057950490788176656},\n",
       " {'word': 'студентов', 'short': 'студент', 'count': 0.05552084634928569},\n",
       " {'word': 'аккредитации', 'short': 'аккредитац', 'count': 0.05529870742915851},\n",
       " {'word': 'опубликован', 'short': 'опубликова', 'count': 0.05100864953420245},\n",
       " {'word': 'местах', 'short': 'мест', 'count': 0.050467185916392446},\n",
       " {'word': 'образование', 'short': 'образован', 'count': 0.049564746553375824},\n",
       " {'word': 'портале', 'short': 'портал', 'count': 0.04781540255737432}]"
      ]
     },
     "execution_count": 95,
     "metadata": {},
     "output_type": "execute_result"
    }
   ],
   "source": [
    "keyword_groups_before = keywords_groups_calc(data_before)\n",
    "keyword_groups_after = keywords_groups_calc(data_after)\n",
    "\n",
    "most_popular_keywords(keywords_diff(keywords_mean(keyword_groups_before), \n",
    "                                    keywords_mean(keyword_groups_after)), 20)\n",
    "\n"
   ]
  },
  {
   "cell_type": "code",
   "execution_count": null,
   "id": "0cec18c2-7879-497c-b387-9fbd619e61bd",
   "metadata": {},
   "outputs": [],
   "source": []
  },
  {
   "cell_type": "code",
   "execution_count": null,
   "id": "ba4974ea-7ca9-4231-b200-49e4a1129332",
   "metadata": {},
   "outputs": [],
   "source": []
  },
  {
   "cell_type": "code",
   "execution_count": null,
   "id": "b2e592da-8479-434b-94c0-296ba7e1fd41",
   "metadata": {},
   "outputs": [],
   "source": []
  },
  {
   "cell_type": "code",
   "execution_count": null,
   "id": "9130f5f1-b198-43f0-a1e0-55fa3f19aa4e",
   "metadata": {},
   "outputs": [],
   "source": []
  },
  {
   "cell_type": "code",
   "execution_count": null,
   "id": "1cc1bef0-264b-45f3-9fbc-1f317f026749",
   "metadata": {},
   "outputs": [],
   "source": []
  },
  {
   "cell_type": "code",
   "execution_count": null,
   "id": "25255df9-e640-4cf6-9e40-58da9ffbca50",
   "metadata": {},
   "outputs": [],
   "source": []
  },
  {
   "cell_type": "code",
   "execution_count": null,
   "id": "18c5e874-9c6b-4c2b-aa92-8b117198613c",
   "metadata": {},
   "outputs": [],
   "source": []
  },
  {
   "cell_type": "code",
   "execution_count": 3,
   "id": "503f2abe-1e3d-4068-8716-070f8b3ff85b",
   "metadata": {},
   "outputs": [
    {
     "data": {
      "text/plain": [
       "930"
      ]
     },
     "execution_count": 3,
     "metadata": {},
     "output_type": "execute_result"
    }
   ],
   "source": [
    "from cfo_parser import get_cfo_days\n",
    "from parsers.kelrk_parser import parse_klerk_news\n",
    "\n",
    "# data = get_cfo_days(30)\n",
    "data = parse_klerk_news(30)\n",
    "len(data)\n",
    "for i in data:\n",
    "    i[\"timestap\"] /= 1000"
   ]
  },
  {
   "cell_type": "code",
   "execution_count": null,
   "id": "8822edbe-aedd-40aa-bba1-50c841cea155",
   "metadata": {},
   "outputs": [],
   "source": []
  },
  {
   "cell_type": "code",
   "execution_count": 3,
   "id": "4d936f17-7725-41c9-9fd9-394fbb2777e5",
   "metadata": {},
   "outputs": [
    {
     "name": "stdout",
     "output_type": "stream",
     "text": [
      "cfo 1280\n",
      "cons 100\n",
      "klerk 4504\n"
     ]
    }
   ],
   "source": []
  },
  {
   "cell_type": "code",
   "execution_count": null,
   "id": "91095bdf-61c3-488b-a666-ee5f8c9cb89d",
   "metadata": {},
   "outputs": [],
   "source": []
  },
  {
   "cell_type": "code",
   "execution_count": null,
   "id": "86011397-144c-45bb-8071-bfe265468c1c",
   "metadata": {},
   "outputs": [],
   "source": []
  },
  {
   "cell_type": "code",
   "execution_count": null,
   "id": "fb2698f3-ac73-4a03-acd0-2a0a984f151c",
   "metadata": {},
   "outputs": [],
   "source": []
  },
  {
   "cell_type": "code",
   "execution_count": 332,
   "id": "ef4fa15d-326a-4418-aa50-cb0272f361e6",
   "metadata": {},
   "outputs": [
    {
     "data": {
      "text/plain": [
       "(23, 5861)"
      ]
     },
     "execution_count": 332,
     "metadata": {},
     "output_type": "execute_result"
    }
   ],
   "source": [
    "import time\n",
    "import datetime\n",
    "\n",
    "data = data_cfo + data_cons + data_klerk\n",
    "idfs = idf_precalc([ keywords_groups_calc(data) ])\n",
    "\n",
    "time_begin = time.time() - datetime.timedelta(days=1).total_seconds()\n",
    "data_before = list(filter(lambda i: time_begin <= i[\"timestamp\"], data))\n",
    "data_after = list(filter(lambda i: time_begin > i[\"timestamp\"], data))\n",
    "\n",
    "len(data_before), len(data_after)"
   ]
  },
  {
   "cell_type": "code",
   "execution_count": null,
   "id": "03cd440e-ce24-4c04-8cf0-e83d9da575e6",
   "metadata": {},
   "outputs": [],
   "source": []
  },
  {
   "cell_type": "code",
   "execution_count": null,
   "id": "6b929eca-ffdc-4ac7-88dd-b331d68fd463",
   "metadata": {},
   "outputs": [],
   "source": []
  },
  {
   "cell_type": "code",
   "execution_count": 333,
   "id": "54e7cdc0-fbf4-41ec-8eff-a8f277507d41",
   "metadata": {},
   "outputs": [
    {
     "data": {
      "text/plain": [
       "113"
      ]
     },
     "execution_count": 333,
     "metadata": {},
     "output_type": "execute_result"
    }
   ],
   "source": []
  },
  {
   "cell_type": "code",
   "execution_count": 334,
   "id": "d426dbee-d56c-43d5-9e78-c3881e9d78f9",
   "metadata": {},
   "outputs": [
    {
     "data": {
      "application/vnd.jupyter.widget-view+json": {
       "model_id": "5f4ee9e99e93458ba78c411bd1d57329",
       "version_major": 2,
       "version_minor": 0
      },
      "text/plain": [
       "  0%|          | 0/113 [00:00<?, ?it/s]"
      ]
     },
     "metadata": {},
     "output_type": "display_data"
    },
    {
     "name": "stdout",
     "output_type": "stream",
     "text": [
      "oprimal_clustering 408\n"
     ]
    },
    {
     "data": {
      "text/plain": [
       "Counter({-1: 102, 0: 11})"
      ]
     },
     "execution_count": 334,
     "metadata": {},
     "output_type": "execute_result"
    }
   ],
   "source": [
    "from tqdm.notebook import tqdm\n",
    "import math\n",
    "def dist(d1, d2):\n",
    "    s = 0\n",
    "    for w in d1[\"short\"] & d2[\"short\"]:\n",
    "        # s += 1.\n",
    "        # s += math.log2(d1[\"long\"][w][\"count\"] * d2[\"long\"][w][\"count\"] + 10)\n",
    "        s += d1[\"long\"][w][\"count\"] * d2[\"long\"][w][\"count\"]\n",
    "    return max(500 - s, 0)\n",
    "        # return math.log2(max(300 - s, 0) + 1)\n",
    "\n",
    "\n",
    "\n",
    "distances = []\n",
    "for i in tqdm(range(len(popular_keywords))):\n",
    "    document = popular_keywords[i]\n",
    "    d = []\n",
    "    for j in range(len(popular_keywords)):\n",
    "        if i == j:\n",
    "            d.append(0)\n",
    "        elif i > j:\n",
    "            d.append(distances[j][i])\n",
    "        else:\n",
    "            document2 = popular_keywords[j]\n",
    "            d.append(dist(document, document2))\n",
    "    distances.append(d)\n",
    "    \n",
    "# from sklearn.cluster import DBSCAN\n",
    "# import numpy as np\n",
    "# distances = np.array(distances)\n",
    "# clustering = DBSCAN(eps=3, min_samples=2, metric='precomputed').fit(distances)\n",
    "# labels = clustering.labels_\n",
    "import collections\n",
    "import hdbscan\n",
    "import numpy as np\n",
    "clusterer = hdbscan.HDBSCAN(metric='precomputed')\n",
    "distances = np.array(distances)\n",
    "clustering = clusterer.fit(distances)\n",
    "\n",
    "def clustering_score(labels):\n",
    "    score = 0\n",
    "    counter = collections.Counter(labels)\n",
    "    for label, count in counter.most_common(100):\n",
    "        if label == -1: continue\n",
    "        if count > 10 and count < 30:\n",
    "            score += 2\n",
    "        score += 1\n",
    "    return score\n",
    "    \n",
    "clustering_scores = []\n",
    "for i in range(0, 500):\n",
    "    labels = clustering.single_linkage_tree_.get_clusters(i, min_cluster_size=3)\n",
    "    score = clustering_score(labels)\n",
    "    clustering_scores.append(score)\n",
    "    \n",
    "i = np.argmax(clustering_scores)\n",
    "print(\"oprimal_clustering\", i)\n",
    "labels = clustering.single_linkage_tree_.get_clusters(i, min_cluster_size=3)\n",
    "    \n",
    "counter = collections.Counter(labels)\n",
    "counter"
   ]
  },
  {
   "cell_type": "code",
   "execution_count": null,
   "id": "6a6ac25e-0c72-4a27-b971-5e54744320a4",
   "metadata": {},
   "outputs": [],
   "source": []
  },
  {
   "cell_type": "code",
   "execution_count": null,
   "id": "1bf7ea50-e399-48c8-ab79-f5db2c100730",
   "metadata": {},
   "outputs": [],
   "source": []
  },
  {
   "cell_type": "code",
   "execution_count": 336,
   "id": "cf1e141c-052e-47fa-b550-c464b53413f0",
   "metadata": {},
   "outputs": [
    {
     "name": "stdout",
     "output_type": "stream",
     "text": [
      "cluster:  0  count= 11\n",
      "Кредитные каникулы может оформить не только мобилизованный, но и братья, сестры, родители и дети https://www.klerk.ru/buh/news/536857/\n",
      "✅ Заработали поправки в Трудовой кодекс для мобилизованных https://www.klerk.ru/buh/news/537107/\n",
      "Если вы утратили трудоспособность, у вас болеют родственники или в регионе стихийное бедствие, вы можете не явиться в военкомат https://www.klerk.ru/buh/news/536964/\n"
     ]
    },
    {
     "data": {
      "text/plain": [
       "{'мобилизова': 367.36004214423394,\n",
       " 'повестк': 304.76824754208445,\n",
       " 'член': 297.12765226534765,\n",
       " 'сем': 277.92648351600036,\n",
       " 'граждан': 268.5085247615393,\n",
       " 'окончан': 202.4077508741768,\n",
       " 'коп': 140.76234962447765,\n",
       " 'служб': 137.7057913908593,\n",
       " 'родител': 136.60058609264664,\n",
       " 'обстоятельств': 134.1175016015779}"
      ]
     },
     "metadata": {},
     "output_type": "display_data"
    },
    {
     "data": {
      "text/plain": [
       "[{'word': 'мобилизованные', 'short': 'мобилизова', 'count': 2.847576310999853},\n",
       " {'word': 'повестки', 'short': 'повестк', 'count': 2.591651132620666},\n",
       " {'word': 'окончания', 'short': 'окончан', 'count': 2.5507280790122837},\n",
       " {'word': 'Члены', 'short': 'член', 'count': 2.478557554456839},\n",
       " {'word': 'граждане', 'short': 'граждан', 'count': 2.4127276383627385},\n",
       " {'word': 'семей', 'short': 'сем', 'count': 2.3973834154908378},\n",
       " {'word': 'службе', 'short': 'служб', 'count': 2.1980267862000855},\n",
       " {'word': '21', 'short': '21', 'count': 2.1573202720987155},\n",
       " {'word': '07.10.2022', 'short': '07.10.2022', 'count': 1.963989473251103},\n",
       " {'word': 'копию', 'short': 'коп', 'count': 1.8681476415220075}]"
      ]
     },
     "metadata": {},
     "output_type": "display_data"
    },
    {
     "name": "stdout",
     "output_type": "stream",
     "text": [
      "\n",
      "\n"
     ]
    }
   ],
   "source": [
    "def dist_most_common(d):\n",
    "    s = 0\n",
    "    from collections import defaultdict\n",
    "    words = defaultdict(lambda:0)\n",
    "    for i in range(len(d)):\n",
    "        for j in range(i + 1, len(d)):\n",
    "            d1 = d[i]\n",
    "            d2 = d[j]\n",
    "            for w in d1[\"short\"] & d2[\"short\"]:\n",
    "                words[w] += d1[\"long\"][w][\"count\"] * d2[\"long\"][w][\"count\"]\n",
    "                \n",
    "    words = list(words.items())\n",
    "    words.sort(key=lambda w: -w[1])\n",
    "    return words[:10]\n",
    "\n",
    "for label, count in counter.most_common(8):\n",
    "    if label == -1:\n",
    "        continue\n",
    "    print(\"cluster: \", label, \" count=\", count)\n",
    "    ddocs = []\n",
    "    ddocs_i = []\n",
    "    dpopular_keywords = []\n",
    "    for i in range(len(keyword_groups)):\n",
    "        if labels[i] == label:\n",
    "            ddocs.append(keyword_groups[i])\n",
    "            ddocs_i.append(i)\n",
    "            dpopular_keywords.append(popular_keywords[i])\n",
    "            \n",
    "    distances_i = []\n",
    "    for i in ddocs_i:\n",
    "        d = 0\n",
    "        for j in ddocs_i:\n",
    "            d += distances[i][j]\n",
    "        distances_i.append((d, i))\n",
    "    distances_i.sort(key=lambda i: i[0])     \n",
    "    for score, i in distances_i[:3]:\n",
    "        art = data_news[i]\n",
    "        print(art[\"title\"], art[\"url\"])\n",
    "    \n",
    "    display(dict(dist_most_common(dpopular_keywords)))\n",
    "    display(most_popular_keywords(keywords_mean(ddocs), 10))\n",
    "    \n",
    "    print()\n",
    "    print()    "
   ]
  },
  {
   "cell_type": "code",
   "execution_count": 337,
   "id": "dc7d2c88-1b87-4783-bc2f-26899ab7ae0d",
   "metadata": {},
   "outputs": [
    {
     "data": {
      "text/plain": [
       "<matplotlib.image.AxesImage at 0x7f0c732818a0>"
      ]
     },
     "execution_count": 337,
     "metadata": {},
     "output_type": "execute_result"
    },
    {
     "data": {
      "image/png": "[encoded data removed]",
      "text/plain": [
       "<Figure size 480x480 with 1 Axes>"
      ]
     },
     "metadata": {},
     "output_type": "display_data"
    }
   ],
   "source": [
    "import matplotlib.pyplot as plt\n",
    "plt.matshow(distances)"
   ]
  },
  {
   "cell_type": "code",
   "execution_count": null,
   "id": "8317a017-f31b-44d8-9c86-ae90d7ad7d08",
   "metadata": {},
   "outputs": [],
   "source": []
  },
  {
   "cell_type": "code",
   "execution_count": null,
   "id": "b61900c6-793e-463e-9192-6f48092b0716",
   "metadata": {},
   "outputs": [],
   "source": []
  },
  {
   "cell_type": "code",
   "execution_count": null,
   "id": "453873a7-5fb6-4aaa-b65a-54c217d6331b",
   "metadata": {},
   "outputs": [],
   "source": []
  },
  {
   "cell_type": "code",
   "execution_count": null,
   "id": "5706679e-3b1b-4c2c-bde1-d1184591d60c",
   "metadata": {},
   "outputs": [],
   "source": []
  },
  {
   "cell_type": "code",
   "execution_count": null,
   "id": "05aa1941-9897-4f9c-a48e-3100d62d4149",
   "metadata": {},
   "outputs": [],
   "source": []
  }
 ],
 "metadata": {
  "kernelspec": {
   "display_name": "Python 3 (ipykernel)",
   "language": "python",
   "name": "python3"
  },
  "language_info": {
   "codemirror_mode": {
    "name": "ipython",
    "version": 3
   },
   "file_extension": ".py",
   "mimetype": "text/x-python",
   "name": "python",
   "nbconvert_exporter": "python",
   "pygments_lexer": "ipython3",
   "version": "3.10.6"
  }
 },
 "nbformat": 4,
 "nbformat_minor": 5
}
