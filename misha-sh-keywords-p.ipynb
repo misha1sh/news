{
 "cells": [
  {
   "cell_type": "code",
   "execution_count": null,
   "id": "50a089f9-2f1e-4d29-9a68-6978d841086d",
   "metadata": {},
   "outputs": [],
   "source": []
  },
  {
   "cell_type": "code",
   "execution_count": 4,
   "id": "1631b47c-0b8f-4e70-ae96-e31ff4ec87ca",
   "metadata": {},
   "outputs": [
    {
     "name": "stdout",
     "output_type": "stream",
     "text": [
      "РБК - param_dict: {'query': 'РБК', 'project': 'rbcnews', 'category': 'TopRbcRu_economics', 'dateFrom': '01.01.2021', 'dateTo': '05.01.2021', 'offset': '0', 'limit': '100', 'material': ''}\n",
      "Parsing articles from  0\n",
      "https://www.rbc.ru/v10/search/ajax/?project=rbcnews&category=TopRbcRu_economics&dateFrom=01.01.2021&dateTo=05.01.2021&offset=0&limit=100&query=РБК&material=\n"
     ]
    },
    {
     "name": "stderr",
     "output_type": "stream",
     "text": [
      "/home/misha-sh/rbc_parser.py:101: FutureWarning: The frame.append method is deprecated and will be removed from pandas in a future version. Use pandas.concat instead.\n",
      "  out = out.append(new_arcticles, ignore_index=True)\n"
     ]
    },
    {
     "name": "stdout",
     "output_type": "stream",
     "text": [
      "Parsing articles from  10\n",
      "https://www.rbc.ru/v10/search/ajax/?project=rbcnews&category=TopRbcRu_economics&dateFrom=01.01.2021&dateTo=05.01.2021&offset=10&limit=100&query=РБК&material=\n",
      "Finish\n",
      "20\n"
     ]
    },
    {
     "name": "stderr",
     "output_type": "stream",
     "text": [
      "/home/misha-sh/rbc_parser.py:101: FutureWarning: The frame.append method is deprecated and will be removed from pandas in a future version. Use pandas.concat instead.\n",
      "  out = out.append(new_arcticles, ignore_index=True)\n"
     ]
    },
    {
     "data": {
      "text/plain": [
       "(20,\n",
       " 'Минюст признал писателя Дмитрия Глуховского, автора романов «Метро 2033» и «Текст», и рэпера Oxxxymi')"
      ]
     },
     "execution_count": 4,
     "metadata": {},
     "output_type": "execute_result"
    }
   ],
   "source": [
    "from rbc_parser import rbc_parser\n",
    "from datetime import datetime, timedelta\n",
    "\n",
    "# Задаем параметры запросы и складываем в param_dict\n",
    "use_parser = \"РБК\"\n",
    "\n",
    "query = 'РБК'\n",
    "project = \"rbcnews\"\n",
    "category = \"TopRbcRu_economics\"\n",
    "material = \"\"\n",
    "dateFrom = '2021-01-01'\n",
    "# dateTo = \"2021-02-28\"\n",
    "dateTo = \"2021-01-05\"\n",
    "offset = 0\n",
    "limit = 100\n",
    "\n",
    "if use_parser == \"РБК\":\n",
    "    param_dict = {'query'   : query, \n",
    "                  'project' : project,\n",
    "                  'category': category,\n",
    "                  'dateFrom': datetime.\n",
    "                  strptime(dateFrom, '%Y-%m-%d').\n",
    "                  strftime('%d.%m.%Y'),\n",
    "                  'dateTo'  : datetime.\n",
    "                  strptime(dateTo, '%Y-%m-%d').\n",
    "                  strftime('%d.%m.%Y'),\n",
    "                  'offset'  : str(offset),\n",
    "                  'limit'   : str(limit),\n",
    "                  'material': material}\n",
    "\n",
    "print(use_parser, \"- param_dict:\", param_dict)\n",
    "\n",
    "# Пример того, как выглядит json таблица запроса по параметрам.\n",
    "# Действует ограничение в 100 статей на 1 запрос (параметром limit)\n",
    "assert use_parser == \"РБК\"\n",
    "parser = rbc_parser()\n",
    "# tbl = parser._get_search_table(param_dict,\n",
    "#                                includeText = True) # Парсить текст статей\n",
    "tbl = parser.get_articles2(param_dict,\n",
    "                          count=10) # Парсить текст статей\n",
    "print(len(tbl))\n",
    "tbl.head()\n",
    "len(tbl), tbl['text'][0][:100]"
   ]
  },
  {
   "cell_type": "code",
   "execution_count": null,
   "id": "91a560ff-fdfb-43e6-8803-62d07cd565de",
   "metadata": {},
   "outputs": [],
   "source": []
  },
  {
   "cell_type": "code",
   "execution_count": null,
   "id": "012e9533-e1c2-488d-9c0e-45d436188146",
   "metadata": {},
   "outputs": [],
   "source": []
  },
  {
   "cell_type": "code",
   "execution_count": 92,
   "id": "c86b13c2-dc7a-4c0f-a2f9-a79d228c4b7a",
   "metadata": {},
   "outputs": [
    {
     "name": "stderr",
     "output_type": "stream",
     "text": [
      "[nltk_data] Downloading package stopwords to /home/misha-\n",
      "[nltk_data]     sh/nltk_data...\n",
      "[nltk_data]   Package stopwords is already up-to-date!\n",
      "[nltk_data] Downloading package punkt to /home/misha-sh/nltk_data...\n",
      "[nltk_data]   Package punkt is already up-to-date!\n"
     ]
    },
    {
     "data": {
      "text/plain": [
       "{'тест': {'word': 'тест', 'short': 'тест', 'count': 1}}"
      ]
     },
     "execution_count": 92,
     "metadata": {},
     "output_type": "execute_result"
    }
   ],
   "source": [
    "# tokenize stopwords lemmatizer/stemmer(snowball)\n",
    "\n",
    "import nltk\n",
    "nltk.download('stopwords')\n",
    "nltk.download('punkt')\n",
    "\n",
    "from nltk.corpus import stopwords\n",
    "from nltk.stem import SnowballStemmer\n",
    "from nltk.tokenize import sent_tokenize, word_tokenize\n",
    "from nltk.tokenize import RegexpTokenizer\n",
    "import pymorphy2\n",
    "import string\n",
    "\n",
    "ru_stopwords = set(stopwords.words(\"russian\") + list(string.punctuation + '»' + '—' +  '«'))\n",
    "only_words_tokenizer = RegexpTokenizer(r'\\w+')\n",
    "snowball = SnowballStemmer(language=\"russian\")\n",
    "morph = pymorphy2.MorphAnalyzer()\n",
    "\n",
    "def tokenize(text):\n",
    "    # text = only_words_tokenizer.tokenize(text) \n",
    "    text = word_tokenize(text, language=\"russian\")\n",
    "    res = []\n",
    "    for word in text:\n",
    "        if word not in ru_stopwords and len(word) > 1:\n",
    "            res.append(word)\n",
    "    return res\n",
    "\n",
    "def keywords_calc(text):\n",
    "    words = tokenize(text)\n",
    "    res = {}\n",
    "    for word in words:\n",
    "        short = snowball.stem(word)\n",
    "        if short not in res:\n",
    "            normal = morph.parse(word)\n",
    "            if len(normal) == 0:\n",
    "                continue\n",
    "            normal = normal[0]\n",
    "            if normal.tag.POS == \"INFN\" or normal.tag.POS == \"VERB\" or normal.tag.POS == \"ADJF\":\n",
    "                continue\n",
    "            \n",
    "            res[short] = { \n",
    "                \"word\": word, #normal.normal_form if normal.score > 0.5 else word,\n",
    "                \"short\": short,\n",
    "                \"count\": 0\n",
    "            }\n",
    "        res[short][\"count\"] += 1\n",
    "            \n",
    "    return res\n",
    "\n",
    "# keywords_calc(tbl['text'][0][:200])\n",
    "keywords_calc(\"ходить думать тест сообщает\")"
   ]
  },
  {
   "cell_type": "code",
   "execution_count": 86,
   "id": "c4044a3e-f8d7-4adc-9c59-6a6b0e92e025",
   "metadata": {},
   "outputs": [],
   "source": [
    "import math\n",
    "def idf_precalc(keyword_groups_list):\n",
    "    from collections import defaultdict\n",
    "    df_counts = defaultdict(lambda: 0)\n",
    "    documents_count = 0\n",
    "    for documents in keyword_groups_list:\n",
    "        for document in documents:\n",
    "            documents_count += 1\n",
    "            for key in document:\n",
    "                df_counts[key] += 1\n",
    "    \n",
    "    idf_counts = {}\n",
    "    for word in df_counts:\n",
    "        idf_counts[word] = math.log2(documents_count / df_counts[word])\n",
    "        # idf_counts[word] = math.log2(math.log2(documents_count / df_counts[word]))\n",
    "            \n",
    "    return idf_counts\n",
    "\n",
    "def tf_idf(documents, idfs):\n",
    "    res = []\n",
    "    for document in documents:\n",
    "        total_words_count = 0\n",
    "        for key in document:\n",
    "            total_words_count += document[key][\"count\"]\n",
    "        \n",
    "        rres = {}\n",
    "        for key in document:\n",
    "            rres[key] = document[key].copy()\n",
    "            rres[key][\"count\"] = 1 * idfs[key]\n",
    "            # rres[key][\"count\"] = rres[key][\"count\"] / total_words_count * idfs[key]\n",
    "            \n",
    "        res.append(rres)\n",
    "    return res\n",
    "\n",
    "# idfs = idf_precalc([keyword_groups_before, keyword_groups_after])\n",
    "# most_popular_keywords(keywords_sum(tf_idf(keyword_groups_before, idfs)), 10)"
   ]
  },
  {
   "cell_type": "code",
   "execution_count": 87,
   "id": "f4192b6b-b06e-445a-ac63-ed1dfd266fc0",
   "metadata": {},
   "outputs": [],
   "source": [
    "def keywords_sum(documents):\n",
    "    res = {}\n",
    "    for document in documents:\n",
    "        for key in document:\n",
    "            if key not in res:\n",
    "                res[key] = document[key].copy()\n",
    "            else:\n",
    "                res[key][\"count\"] += document[key][\"count\"]\n",
    "    return res\n",
    "\n",
    "\n",
    "def keywords_norm(documents):\n",
    "    rres = []\n",
    "    for document in documents:\n",
    "        res = {}\n",
    "        for key in document:\n",
    "            res[key] = document[key].copy()\n",
    "            res[key][\"count\"] = 1\n",
    "        rres.append(res)\n",
    "        \n",
    "    return rres\n",
    "\n",
    "def keywords_mean(documents):\n",
    "    res = keywords_sum(documents)\n",
    "    for key in res:\n",
    "        res[key][\"count\"] /= len(documents)\n",
    "    return res\n",
    "\n",
    "def most_popular_keywords(document, count):\n",
    "    res = []\n",
    "    for key in document:\n",
    "        res.append(document[key])\n",
    "    res.sort(key=lambda k: -k[\"count\"])\n",
    "    return res[:count]\n",
    "\n",
    "\n",
    "# left - right\n",
    "def keywords_diff(left, right):\n",
    "    res = left.copy()\n",
    "    for key in right:\n",
    "        if key not in res:\n",
    "            res[key] = right[key] \n",
    "            res[key][\"count\"] = -res[key][\"count\"]\n",
    "        else:\n",
    "            res[key][\"count\"] -= right[key][\"count\"]\n",
    "    return res\n"
   ]
  },
  {
   "cell_type": "code",
   "execution_count": null,
   "id": "8d426eb4-8426-4843-a489-3e949db27f24",
   "metadata": {},
   "outputs": [],
   "source": []
  },
  {
   "cell_type": "code",
   "execution_count": null,
   "id": "fc7c548d-e849-46f8-b791-5279f02f54eb",
   "metadata": {},
   "outputs": [],
   "source": []
  },
  {
   "cell_type": "code",
   "execution_count": 88,
   "id": "083b76ff-e3c9-460f-be28-60813be84ee8",
   "metadata": {},
   "outputs": [
    {
     "data": {
      "text/plain": [
       "[{'word': 'несерьезный', 'short': 'несерьезн', 'count': 9.861086905995395},\n",
       " {'word': 'АБ-4-19/12938',\n",
       "  'short': 'аб-4-19/12938',\n",
       "  'count': 9.861086905995395},\n",
       " {'word': '09.03.2021', 'short': '09.03.2021', 'count': 8.861086905995395},\n",
       " {'word': 'АБ-4-19/2990', 'short': 'аб-4-19/2990', 'count': 8.861086905995395},\n",
       " {'word': '5.1', 'short': '5.1', 'count': 8.84143926318831},\n",
       " {'word': '29.09.2022', 'short': '29.09.2022', 'count': 8.84143926318831},\n",
       " {'word': 'сверки', 'short': 'сверк', 'count': 8.276124405274238},\n",
       " {'word': 'Верховный', 'short': 'верховн', 'count': 7.5224422727241995},\n",
       " {'word': 'п.1', 'short': 'п.1', 'count': 7.505725734340368},\n",
       " {'word': 'нормальный', 'short': 'нормальн', 'count': 7.2438577781998506},\n",
       " {'word': 'выпустила', 'short': 'выпуст', 'count': 7.2438577781998506},\n",
       " {'word': '32', 'short': '32', 'count': 7.038091779982274},\n",
       " {'word': 'пп.', 'short': 'пп.', 'count': 6.769808587955543},\n",
       " {'word': 'нормативный', 'short': 'нормативн', 'count': 6.466662593689982},\n",
       " {'word': 'положено', 'short': 'полож', 'count': 6.078687358304133},\n",
       " {'word': 'Там', 'short': 'там', 'count': 5.888185264817175},\n",
       " {'word': 'отменил', 'short': 'отмен', 'count': 5.757120841144034},\n",
       " {'word': 'равно', 'short': 'равн', 'count': 5.735218583161385},\n",
       " {'word': 'п.', 'short': 'п.', 'count': 5.705137808718354},\n",
       " {'word': 'акт', 'short': 'акт', 'count': 5.658407619994045}]"
      ]
     },
     "execution_count": 88,
     "metadata": {},
     "output_type": "execute_result"
    }
   ],
   "source": [
    "\n",
    "most_popular_keywords(keywords_diff(keyword_groups_before[1], \n",
    "                                    keywords_mean(keyword_groups_before[2:])), 20)"
   ]
  },
  {
   "cell_type": "code",
   "execution_count": null,
   "id": "08553284-63e0-4133-b3ff-7c6277471acb",
   "metadata": {},
   "outputs": [],
   "source": []
  },
  {
   "cell_type": "code",
   "execution_count": 93,
   "id": "8d025d6e-f510-46c1-92b8-9310fb4dd3f9",
   "metadata": {},
   "outputs": [
    {
     "data": {
      "text/plain": [
       "[{'word': 'мобилизации', 'short': 'мобилизац', 'count': 0.4951839524167462},\n",
       " {'word': 'мобилизованные',\n",
       "  'short': 'мобилизова',\n",
       "  'count': 0.3922006618111935},\n",
       " {'word': 'Минцифры', 'short': 'минцифр', 'count': 0.29546572090821843},\n",
       " {'word': 'отсрочку', 'short': 'отсрочк', 'count': 0.29110744037655506},\n",
       " {'word': 'службе', 'short': 'служб', 'count': 0.27268124329042775},\n",
       " {'word': 'повестку', 'short': 'повестк', 'count': 0.26796184758568603},\n",
       " {'word': 'военкомат', 'short': 'военкомат', 'count': 0.260389442990471},\n",
       " {'word': 'Объясняем.рф',\n",
       "  'short': 'объясняем.рф',\n",
       "  'count': 0.2535191151160029},\n",
       " {'word': 'призыва', 'short': 'призыв', 'count': 0.2214796134705838},\n",
       " {'word': 'IT-компаний', 'short': 'IT-компан', 'count': 0.22071425698529773},\n",
       " {'word': 'Сотрудники', 'short': 'сотрудник', 'count': 0.20885739510032758},\n",
       " {'word': 'семей', 'short': 'сем', 'count': 0.2058571480280455},\n",
       " {'word': 'Минобороны', 'short': 'миноборон', 'count': 0.197158818224731},\n",
       " {'word': 'опубликован', 'short': 'опубликова', 'count': 0.19468434473328194},\n",
       " {'word': 'аккредитации', 'short': 'аккредитац', 'count': 0.19182087810036397},\n",
       " {'word': 'портале', 'short': 'портал', 'count': 0.19167680451070818},\n",
       " {'word': 'платы', 'short': 'плат', 'count': 0.18711310621734756},\n",
       " {'word': 'гражданин', 'short': 'гражданин', 'count': 0.18514046584496793},\n",
       " {'word': 'студентов', 'short': 'студент', 'count': 0.16295439612681123},\n",
       " {'word': 'аккредитованным',\n",
       "  'short': 'аккредитова',\n",
       "  'count': 0.1610361459067406}]"
      ]
     },
     "execution_count": 93,
     "metadata": {},
     "output_type": "execute_result"
    }
   ],
   "source": [
    "from joblib import Parallel, delayed\n",
    "\n",
    "\n",
    "def keywords_groups_calc(data):\n",
    "    keywords_groups = Parallel(n_jobs=16)(delayed(keywords_calc)(i['text']) for i in data)\n",
    "    return keywords_groups\n",
    "    \n",
    "keyword_groups_before = keywords_groups_calc(data_before)\n",
    "keyword_groups_after = keywords_groups_calc(data_after)\n",
    "\n",
    "idfs = idf_precalc([keyword_groups_before, keyword_groups_after])\n",
    "\n",
    "keyword_groups_before = tf_idf(keyword_groups_before, idfs)\n",
    "keyword_groups_after = tf_idf(keyword_groups_after, idfs)\n",
    "\n",
    "most_popular_keywords(keywords_diff(keywords_mean(keyword_groups_before), \n",
    "                                    keywords_mean(keyword_groups_after)), 20)"
   ]
  },
  {
   "cell_type": "code",
   "execution_count": 94,
   "id": "9a6a325a-6f16-46a2-9ec0-9ec3a28016ad",
   "metadata": {},
   "outputs": [
    {
     "data": {
      "text/plain": [
       "[{'word': 'мобилизации', 'short': 'мобилизац', 'count': 0.15873214211337416},\n",
       " {'word': 'мобилизованные',\n",
       "  'short': 'мобилизова',\n",
       "  'count': 0.10740416788148888},\n",
       " {'word': 'службе', 'short': 'служб', 'count': 0.0702097824426951},\n",
       " {'word': 'Сотрудники', 'short': 'сотрудник', 'count': 0.06868257736682078},\n",
       " {'word': 'отсрочку', 'short': 'отсрочк', 'count': 0.0671137212434226},\n",
       " {'word': 'Минцифры', 'short': 'минцифр', 'count': 0.06457300734446804},\n",
       " {'word': 'повестку', 'short': 'повестк', 'count': 0.055631915809349265},\n",
       " {'word': 'портале', 'short': 'портал', 'count': 0.053882571813347775},\n",
       " {'word': 'опубликован', 'short': 'опубликова', 'count': 0.05100864953420245},\n",
       " {'word': 'военкомат', 'short': 'военкомат', 'count': 0.050994765851694504},\n",
       " {'word': 'семей', 'short': 'сем', 'count': 0.04780151887486636},\n",
       " {'word': 'Объясняем.рф',\n",
       "  'short': 'объясняем.рф',\n",
       "  'count': 0.046357615894039736},\n",
       " {'word': 'призыва', 'short': 'призыв', 'count': 0.04470545767559387},\n",
       " {'word': 'октябрь', 'short': 'октябр', 'count': 0.039971121940383464},\n",
       " {'word': 'IT-компаний', 'short': 'IT-компан', 'count': 0.03984616879781193},\n",
       " {'word': 'заявление', 'short': 'заявлен', 'count': 0.03887431102225554},\n",
       " {'word': 'работников', 'short': 'работник', 'count': 0.036888944423618925},\n",
       " {'word': 'гражданин', 'short': 'гражданин', 'count': 0.035875435600538685},\n",
       " {'word': 'регионов', 'short': 'регион', 'count': 0.03357074430421925},\n",
       " {'word': 'платы', 'short': 'плат', 'count': 0.03333472170158412}]"
      ]
     },
     "execution_count": 94,
     "metadata": {},
     "output_type": "execute_result"
    }
   ],
   "source": [
    "keyword_groups_before = keywords_groups_calc(data_before)\n",
    "keyword_groups_after = keywords_groups_calc(data_after)\n",
    "\n",
    "# keywords = keywords_sum(keyword_groups)\n",
    "# most_popular_keywords(keywords, 5)\n",
    "\n",
    "# most_popular_keywords(keywords_diff(keyword_groups[0], keywords_mean(keyword_groups[1:])), 5)\n",
    "# most_popular_keywords(keywords_diff(keyword_groups[0], keywords_mean(keyword_groups[60:])), 5)\n",
    "\n",
    "most_popular_keywords(keywords_diff(keywords_mean(keywords_norm(keyword_groups_before)), \n",
    "                                    keywords_mean(keywords_norm(keyword_groups_after))), 20)"
   ]
  },
  {
   "cell_type": "code",
   "execution_count": 95,
   "id": "c9e8dbae-05f0-4d07-94fc-bee5e02245e3",
   "metadata": {},
   "outputs": [
    {
     "data": {
      "text/plain": [
       "[{'word': 'мобилизации', 'short': 'мобилизац', 'count': 0.24858733530481625},\n",
       " {'word': 'мобилизованные',\n",
       "  'short': 'мобилизова',\n",
       "  'count': 0.2124897607841504},\n",
       " {'word': 'Сотрудники', 'short': 'сотрудник', 'count': 0.12521693253918667},\n",
       " {'word': 'службе', 'short': 'служб', 'count': 0.1125966651394616},\n",
       " {'word': 'отсрочку', 'short': 'отсрочк', 'count': 0.10762630680161606},\n",
       " {'word': 'Минцифры', 'short': 'минцифр', 'count': 0.10662668166104378},\n",
       " {'word': 'повестку', 'short': 'повестк', 'count': 0.10430810668221639},\n",
       " {'word': 'РФ', 'short': 'рф', 'count': 0.07951184972302053},\n",
       " {'word': 'семей', 'short': 'сем', 'count': 0.07694336845905009},\n",
       " {'word': 'заявление', 'short': 'заявлен', 'count': 0.07133436072583892},\n",
       " {'word': 'лет', 'short': 'лет', 'count': 0.0674885806711372},\n",
       " {'word': 'военкомат', 'short': 'военкомат', 'count': 0.06644730448304108},\n",
       " {'word': 'учета', 'short': 'учет', 'count': 0.058297582850875364},\n",
       " {'word': 'призыва', 'short': 'призыв', 'count': 0.057950490788176656},\n",
       " {'word': 'студентов', 'short': 'студент', 'count': 0.05552084634928569},\n",
       " {'word': 'аккредитации', 'short': 'аккредитац', 'count': 0.05529870742915851},\n",
       " {'word': 'опубликован', 'short': 'опубликова', 'count': 0.05100864953420245},\n",
       " {'word': 'местах', 'short': 'мест', 'count': 0.050467185916392446},\n",
       " {'word': 'образование', 'short': 'образован', 'count': 0.049564746553375824},\n",
       " {'word': 'портале', 'short': 'портал', 'count': 0.04781540255737432}]"
      ]
     },
     "execution_count": 95,
     "metadata": {},
     "output_type": "execute_result"
    }
   ],
   "source": [
    "keyword_groups_before = keywords_groups_calc(data_before)\n",
    "keyword_groups_after = keywords_groups_calc(data_after)\n",
    "\n",
    "most_popular_keywords(keywords_diff(keywords_mean(keyword_groups_before), \n",
    "                                    keywords_mean(keyword_groups_after)), 20)\n",
    "\n"
   ]
  },
  {
   "cell_type": "code",
   "execution_count": null,
   "id": "0cec18c2-7879-497c-b387-9fbd619e61bd",
   "metadata": {},
   "outputs": [],
   "source": []
  },
  {
   "cell_type": "code",
   "execution_count": null,
   "id": "ba4974ea-7ca9-4231-b200-49e4a1129332",
   "metadata": {},
   "outputs": [],
   "source": []
  },
  {
   "cell_type": "code",
   "execution_count": null,
   "id": "b2e592da-8479-434b-94c0-296ba7e1fd41",
   "metadata": {},
   "outputs": [],
   "source": []
  },
  {
   "cell_type": "code",
   "execution_count": null,
   "id": "9130f5f1-b198-43f0-a1e0-55fa3f19aa4e",
   "metadata": {},
   "outputs": [],
   "source": []
  },
  {
   "cell_type": "code",
   "execution_count": null,
   "id": "1cc1bef0-264b-45f3-9fbc-1f317f026749",
   "metadata": {},
   "outputs": [],
   "source": []
  },
  {
   "cell_type": "code",
   "execution_count": null,
   "id": "25255df9-e640-4cf6-9e40-58da9ffbca50",
   "metadata": {},
   "outputs": [],
   "source": []
  },
  {
   "cell_type": "code",
   "execution_count": null,
   "id": "18c5e874-9c6b-4c2b-aa92-8b117198613c",
   "metadata": {},
   "outputs": [],
   "source": []
  },
  {
   "cell_type": "code",
   "execution_count": 3,
   "id": "503f2abe-1e3d-4068-8716-070f8b3ff85b",
   "metadata": {},
   "outputs": [
    {
     "data": {
      "text/plain": [
       "930"
      ]
     },
     "execution_count": 3,
     "metadata": {},
     "output_type": "execute_result"
    }
   ],
   "source": [
    "from cfo_parser import get_cfo_days\n",
    "from parsers.kelrk_parser import parse_klerk_news\n",
    "\n",
    "# data = get_cfo_days(30)\n",
    "data = parse_klerk_news(30)\n",
    "len(data)\n",
    "for i in data:\n",
    "    i[\"timestap\"] /= 1000"
   ]
  },
  {
   "cell_type": "code",
   "execution_count": 49,
   "id": "ef4fa15d-326a-4418-aa50-cb0272f361e6",
   "metadata": {},
   "outputs": [
    {
     "data": {
      "text/plain": [
       "(453, 477)"
      ]
     },
     "execution_count": 49,
     "metadata": {},
     "output_type": "execute_result"
    }
   ],
   "source": [
    "import time\n",
    "import datetime\n",
    "time_begin = time.time() - datetime.timedelta(days=15).total_seconds()\n",
    "data_before = list(filter(lambda i: time_begin <= i[\"timestap\"], data))\n",
    "data_after = list(filter(lambda i: time_begin > i[\"timestap\"], data))\n",
    "\n",
    "len(data_before), len(data_after)"
   ]
  },
  {
   "cell_type": "code",
   "execution_count": null,
   "id": "03cd440e-ce24-4c04-8cf0-e83d9da575e6",
   "metadata": {},
   "outputs": [],
   "source": []
  },
  {
   "cell_type": "code",
   "execution_count": null,
   "id": "6b929eca-ffdc-4ac7-88dd-b331d68fd463",
   "metadata": {},
   "outputs": [],
   "source": []
  },
  {
   "cell_type": "code",
   "execution_count": 160,
   "id": "54e7cdc0-fbf4-41ec-8eff-a8f277507d41",
   "metadata": {},
   "outputs": [],
   "source": [
    "time_begin = time.time() - datetime.timedelta(days=15).total_seconds()\n",
    "data_news = list(filter(lambda i: time_begin > i[\"timestap\"], data))\n",
    "\n",
    "keyword_groups = keywords_groups_calc(data_news)\n",
    "idfs = idf_precalc([keyword_groups_before, keyword_groups_after])\n",
    "\n",
    "keyword_groups = tf_idf(keyword_groups, idfs)\n",
    "mmean = keywords_mean(keyword_groups)\n",
    "\n",
    "popular_keywords = []\n",
    "for document in keyword_groups:\n",
    "    p = most_popular_keywords(keywords_diff(document, mmean), 50)\n",
    "    popular_keywords.append({\n",
    "        \"short\": set([i['short'] for i in p]), \n",
    "        \"long\": {\n",
    "            i['short']: i for i in p\n",
    "        }\n",
    "    })\n",
    "# popular_keywords[:3]"
   ]
  },
  {
   "cell_type": "code",
   "execution_count": 173,
   "id": "d426dbee-d56c-43d5-9e78-c3881e9d78f9",
   "metadata": {},
   "outputs": [
    {
     "data": {
      "application/vnd.jupyter.widget-view+json": {
       "model_id": "e6560495c6b544939101d912ae39a0c0",
       "version_major": 2,
       "version_minor": 0
      },
      "text/plain": [
       "  0%|          | 0/477 [00:00<?, ?it/s]"
      ]
     },
     "metadata": {},
     "output_type": "display_data"
    },
    {
     "data": {
      "text/plain": [
       "Counter({-1: 233,\n",
       "         0: 2,\n",
       "         1: 3,\n",
       "         2: 79,\n",
       "         3: 3,\n",
       "         4: 12,\n",
       "         5: 17,\n",
       "         6: 2,\n",
       "         7: 3,\n",
       "         8: 7,\n",
       "         9: 2,\n",
       "         10: 2,\n",
       "         11: 13,\n",
       "         12: 2,\n",
       "         13: 14,\n",
       "         14: 2,\n",
       "         15: 2,\n",
       "         16: 4,\n",
       "         17: 6,\n",
       "         18: 5,\n",
       "         19: 2,\n",
       "         20: 2,\n",
       "         21: 2,\n",
       "         22: 2,\n",
       "         23: 2,\n",
       "         24: 2,\n",
       "         25: 3,\n",
       "         26: 2,\n",
       "         27: 2,\n",
       "         28: 3,\n",
       "         29: 5,\n",
       "         30: 2,\n",
       "         31: 2,\n",
       "         32: 3,\n",
       "         33: 2,\n",
       "         34: 3,\n",
       "         35: 2,\n",
       "         36: 4,\n",
       "         37: 5,\n",
       "         38: 3,\n",
       "         39: 3,\n",
       "         40: 6,\n",
       "         41: 2})"
      ]
     },
     "execution_count": 173,
     "metadata": {},
     "output_type": "execute_result"
    }
   ],
   "source": [
    "from tqdm.notebook import tqdm\n",
    "\n",
    "def dist(d1, d2):\n",
    "    s = 0\n",
    "    for w in d1[\"short\"] & d2[\"short\"]:\n",
    "        s += d1[\"long\"][w][\"count\"] * d2[\"long\"][w][\"count\"]\n",
    "    return max(200 - s, 0)\n",
    "\n",
    "\n",
    "\n",
    "distances = []\n",
    "for i in tqdm(range(len(popular_keywords))):\n",
    "    document = popular_keywords[i]\n",
    "    d = []\n",
    "    for j in range(len(popular_keywords)):\n",
    "        if i == j:\n",
    "            d.append(0)\n",
    "        elif i > j:\n",
    "            d.append(distances[j][i])\n",
    "        else:\n",
    "            document2 = popular_keywords[j]\n",
    "            d.append(dist(document, document2))\n",
    "    distances.append(d)\n",
    "    \n",
    "from sklearn.cluster import DBSCAN\n",
    "import numpy as np\n",
    "distances = np.array(distances)\n",
    "clustering = DBSCAN(eps=3, min_samples=2, metric='precomputed').fit(distances)\n",
    "import collections\n",
    "counter = collections.Counter(clustering.labels_)\n",
    "counter"
   ]
  },
  {
   "cell_type": "code",
   "execution_count": null,
   "id": "dc7d2c88-1b87-4783-bc2f-26899ab7ae0d",
   "metadata": {},
   "outputs": [],
   "source": []
  },
  {
   "cell_type": "code",
   "execution_count": 200,
   "id": "cf1e141c-052e-47fa-b550-c464b53413f0",
   "metadata": {},
   "outputs": [
    {
     "name": "stdout",
     "output_type": "stream",
     "text": [
      "cluster:  2  count= 79\n",
      "💣 Ставку НДФЛ для работающих за границей дистанционщиков могут снизить с 30 до 13% https://www.klerk.ru/buh/news/534724/\n",
      "Замороженные зарубежные активы россиян могут обменять на акции иностранных инвесторов https://www.klerk.ru/buh/news/535771/\n",
      "Недружественные иностранцы могут попасть на российский рынок акций. Но с некоторыми условиями https://www.klerk.ru/buh/news/534734/\n"
     ]
    },
    {
     "data": {
      "text/plain": [
       "{'ндфл': 1530.9651348447717,\n",
       " 'минфин': 1494.8984139909808,\n",
       " 'бумаг': 1488.3781242500547,\n",
       " 'взнос': 1454.768159050196,\n",
       " 'комитет': 1368.2564585557532,\n",
       " 'разъяснен': 1284.8614019980575,\n",
       " 'форм': 1165.6115937377554,\n",
       " 'бухгалтер': 1068.4364386756165,\n",
       " 'уплат': 1005.1691380882477,\n",
       " 'письм': 977.4662610824308}"
      ]
     },
     "metadata": {},
     "output_type": "display_data"
    },
    {
     "data": {
      "text/plain": [
       "[{'word': 'взносов', 'short': 'взнос', 'count': 0.9108627444555908},\n",
       " {'word': 'Минфин', 'short': 'минфин', 'count': 0.8208506648116617},\n",
       " {'word': 'бухгалтеров', 'short': 'бухгалтер', 'count': 0.7987927240211623},\n",
       " {'word': 'бумаге', 'short': 'бумаг', 'count': 0.7924907417044055},\n",
       " {'word': 'форме', 'short': 'форм', 'count': 0.7403175319179741},\n",
       " {'word': 'дохода', 'short': 'доход', 'count': 0.7326672405116571},\n",
       " {'word': 'НДФЛ', 'short': 'ндфл', 'count': 0.7316495372106746},\n",
       " {'word': 'это', 'short': 'эт', 'count': 0.7253073109435502},\n",
       " {'word': 'счете', 'short': 'счет', 'count': 0.7214786042034351},\n",
       " {'word': 'налогов', 'short': 'налог', 'count': 0.6981504124519681}]"
      ]
     },
     "metadata": {},
     "output_type": "display_data"
    },
    {
     "name": "stdout",
     "output_type": "stream",
     "text": [
      "\n",
      "cluster:  5  count= 17\n",
      "Россияне скупают дешевую технику https://www.klerk.ru/buh/news/535068/\n",
      "Страны бывшего СССР стали больше поставлять товаров Россию. С запада https://www.klerk.ru/buh/news/535112/\n",
      "Apple представила iPhone 14. Его будут ввозить в Россию по параллельному импорту https://www.klerk.ru/buh/news/534737/\n"
     ]
    },
    {
     "data": {
      "text/plain": [
       "{'импорт': 408.1934878405194,\n",
       " 'чек': 369.21647825341535,\n",
       " 'рост': 292.68213719429986,\n",
       " 'июн': 281.2518371629036,\n",
       " 'поставок': 237.70851958833023,\n",
       " 'товар': 219.72451321972233,\n",
       " 'торговл': 184.04082081721197,\n",
       " 'цен': 179.72386571706912,\n",
       " '2022': 159.5884371928986,\n",
       " 'ввоз': 136.5262063859418}"
      ]
     },
     "metadata": {},
     "output_type": "display_data"
    },
    {
     "data": {
      "text/plain": [
       "[{'word': 'импорту', 'short': 'импорт', 'count': 1.8413407407727331},\n",
       " {'word': 'чек', 'short': 'чек', 'count': 1.7872283104633209},\n",
       " {'word': 'товаров', 'short': 'товар', 'count': 1.7531998761209884},\n",
       " {'word': 'июне', 'short': 'июн', 'count': 1.5599869443031154},\n",
       " {'word': 'росту', 'short': 'рост', 'count': 1.559492662852076},\n",
       " {'word': 'компаний', 'short': 'компан', 'count': 1.4965276203756934},\n",
       " {'word': 'поставок', 'short': 'поставок', 'count': 1.481009411651719},\n",
       " {'word': 'цены', 'short': 'цен', 'count': 1.4783511402437288},\n",
       " {'word': 'продаж', 'short': 'продаж', 'count': 1.3802792115903846},\n",
       " {'word': 'Россию', 'short': 'росс', 'count': 1.3605765579530404}]"
      ]
     },
     "metadata": {},
     "output_type": "display_data"
    },
    {
     "name": "stdout",
     "output_type": "stream",
     "text": [
      "\n",
      "cluster:  13  count= 14\n",
      "Сроки ввода новостроек в России сдвигаются. В среднем застройщики задерживают срок на 7 месяцев https://www.klerk.ru/buh/news/535486/\n",
      "Большая часть работодателей приглашает сотрудников из других регионов. Свои – без компетенций и мотивации https://www.klerk.ru/buh/news/535422/\n",
      "Люди все чаще выбирают коворкинги вместо работы из дома или офиса https://www.klerk.ru/buh/news/534990/\n"
     ]
    },
    {
     "data": {
      "text/plain": [
       "{'ваканс': 622.4355671058645,\n",
       " 'опрошен': 444.3056067696344,\n",
       " 'бух.джоб': 344.60826803937096,\n",
       " 'застройщик': 298.51987560663713,\n",
       " 'площад': 232.97288051987363,\n",
       " 'дольщик': 206.34155890460102,\n",
       " 'респондент': 206.34155890460102,\n",
       " 'популярн': 186.42213887337425,\n",
       " 'кв.': 184.61030081638265,\n",
       " 'стройк': 184.3492940148883}"
      ]
     },
     "metadata": {},
     "output_type": "display_data"
    },
    {
     "data": {
      "text/plain": [
       "[{'word': 'вакансии', 'short': 'ваканс', 'count': 2.760821687270338},\n",
       " {'word': 'опрошенных', 'short': 'опрошен', 'count': 2.3806829417816893},\n",
       " {'word': 'Бух.Джоб', 'short': 'бух.джоб', 'count': 2.165334920590776},\n",
       " {'word': 'застройщик', 'short': 'застройщик', 'count': 2.0153519954107972},\n",
       " {'word': 'площадью', 'short': 'площад', 'count': 1.78048054395909},\n",
       " {'word': 'дольщикам', 'short': 'дольщик', 'count': 1.7771731651936595},\n",
       " {'word': 'респондентов', 'short': 'респондент', 'count': 1.7771731651936595},\n",
       " {'word': 'популярность', 'short': 'популярн', 'count': 1.6892272701562427},\n",
       " {'word': 'кв.', 'short': 'кв.', 'count': 1.6809871371310905},\n",
       " {'word': 'стройке', 'short': 'стройк', 'count': 1.6798099752703544}]"
      ]
     },
     "metadata": {},
     "output_type": "display_data"
    },
    {
     "name": "stdout",
     "output_type": "stream",
     "text": [
      "\n",
      "cluster:  11  count= 13\n",
      "Сбер закрыл прием заявок на сельскую ипотеку. Весь бюджет на нее ушел всего за пять дней https://www.klerk.ru/buh/news/535673/\n",
      "Льготное кредитование малого и среднего бизнеса в Москве продлили https://www.klerk.ru/buh/news/535278/\n",
      "В банках отметили рост спроса на кредиты как со стороны населения, так и со стороны бизнеса https://www.klerk.ru/buh/news/535343/\n"
     ]
    },
    {
     "data": {
      "text/plain": [
       "{'кредитован': 791.7130601864578,\n",
       " 'ставк': 680.8958225319487,\n",
       " 'интерфакс': 640.6324182143316,\n",
       " 'кредит': 457.12501934521106,\n",
       " 'программ': 391.66331782479153,\n",
       " 'ипотек': 295.8642068705149,\n",
       " 'мал': 268.7172935447045,\n",
       " 'сумм': 267.76573169370874,\n",
       " 'млн': 198.4172223369055,\n",
       " 'кред': 183.8931708416775}"
      ]
     },
     "metadata": {},
     "output_type": "display_data"
    },
    {
     "data": {
      "text/plain": [
       "[{'word': 'кредитования', 'short': 'кредитован', 'count': 3.306343144844237},\n",
       " {'word': 'Ставка', 'short': 'ставк', 'count': 3.011702357385753},\n",
       " {'word': 'Интерфакс', 'short': 'интерфакс', 'count': 2.943928302524843},\n",
       " {'word': 'кредита', 'short': 'кредит', 'count': 2.4871609354608473},\n",
       " {'word': 'программе', 'short': 'программ', 'count': 2.3259037331841137},\n",
       " {'word': 'ипотека', 'short': 'ипотек', 'count': 2.092368327726842},\n",
       " {'word': 'малый', 'short': 'мал', 'count': 1.9940069017002076},\n",
       " {'word': 'сумму', 'short': 'сумм', 'count': 1.9798342869050272},\n",
       " {'word': 'кредит', 'short': 'кред', 'count': 1.7035907074314631},\n",
       " {'word': 'млн', 'short': 'млн', 'count': 1.6799086210332228}]"
      ]
     },
     "metadata": {},
     "output_type": "display_data"
    },
    {
     "name": "stdout",
     "output_type": "stream",
     "text": [
      "\n",
      "cluster:  4  count= 12\n",
      "Предприниматели будут проходить идентификацию на Wildberries через Госуслуги. Сейчас мошенники создают фейковые карточки товаров для развода https://www.klerk.ru/buh/news/535034/\n",
      "Мошенники получают реквизиты банковских карт через аккаунты в «Яндекс» и VK https://www.klerk.ru/buh/news/535427/\n",
      "Спектакль в двух действиях. Телефонные мошенники придумали новую схему https://www.klerk.ru/buh/news/535226/\n"
     ]
    },
    {
     "data": {
      "text/plain": [
       "{'мошенник': 1070.0582716537801,\n",
       " 'жертв': 787.4620494965977,\n",
       " 'якоб': 317.6402840477967,\n",
       " 'звонок': 204.6184334914796,\n",
       " 'полиц': 186.16493446024714,\n",
       " 'мошенничеств': 184.61030081638265,\n",
       " 'звонк': 184.3492940148883,\n",
       " 'кибербезопасн': 182.29383150322406,\n",
       " 'схем': 174.99315745616548,\n",
       " 'идентификац': 166.96070788834783}"
      ]
     },
     "metadata": {},
     "output_type": "display_data"
    },
    {
     "data": {
      "text/plain": [
       "[{'word': 'мошенников', 'short': 'мошенник', 'count': 4.0891567764093635},\n",
       " {'word': 'жертвами', 'short': 'жертв', 'count': 3.622808273066313},\n",
       " {'word': 'якобы', 'short': 'якоб', 'count': 2.425374801758079},\n",
       " {'word': 'звонок', 'short': 'звонок', 'count': 2.064693509911183},\n",
       " {'word': 'полицию', 'short': 'полиц', 'count': 1.9693917930114246},\n",
       " {'word': 'мошенничества',\n",
       "  'short': 'мошенничеств',\n",
       "  'count': 1.9611516599862722},\n",
       " {'word': 'звонка', 'short': 'звонк', 'count': 1.9597783044820802},\n",
       " {'word': 'кибербезопасности',\n",
       "  'short': 'кибербезопасн',\n",
       "  'count': 1.948791460448544},\n",
       " {'word': 'идентификацию',\n",
       "  'short': 'идентификац',\n",
       "  'count': 1.8650329972971649},\n",
       " {'word': 'схема', 'short': 'схем', 'count': 1.8005517624526988}]"
      ]
     },
     "metadata": {},
     "output_type": "display_data"
    },
    {
     "name": "stdout",
     "output_type": "stream",
     "text": [
      "\n"
     ]
    }
   ],
   "source": [
    "def dist_most_common(d):\n",
    "    s = 0\n",
    "    from collections import defaultdict\n",
    "    words = defaultdict(lambda:0)\n",
    "    for i in range(len(d)):\n",
    "        for j in range(i + 1, len(d)):\n",
    "            d1 = d[i]\n",
    "            d2 = d[j]\n",
    "            for w in d1[\"short\"] & d2[\"short\"]:\n",
    "                words[w] += d1[\"long\"][w][\"count\"] * d2[\"long\"][w][\"count\"]\n",
    "                \n",
    "    words = list(words.items())\n",
    "    words.sort(key=lambda w: -w[1])\n",
    "    return words[:10]\n",
    "\n",
    "for label, count in counter.most_common(6):\n",
    "    if label == -1:\n",
    "        continue\n",
    "    print(\"cluster: \", label, \" count=\", count)\n",
    "    ddocs = []\n",
    "    ddocs_i = []\n",
    "    dpopular_keywords = []\n",
    "    for i in range(len(keyword_groups)):\n",
    "        if clustering.labels_[i] == label:\n",
    "            ddocs.append(keyword_groups[i])\n",
    "            ddocs_i.append(i)\n",
    "            dpopular_keywords.append(popular_keywords[i])\n",
    "            \n",
    "    distances_i = []\n",
    "    for i in ddocs_i:\n",
    "        d = 0\n",
    "        for j in ddocs_i:\n",
    "            d += distances[i][j]\n",
    "        distances_i.append((d, i))\n",
    "    distances_i.sort(key=lambda i: i[0])     \n",
    "    for score, i in distances_i[:3]:\n",
    "        art = data_news[i]\n",
    "        print(art[\"title\"], art[\"url\"])\n",
    "    \n",
    "    display(dict(dist_most_common(dpopular_keywords)))\n",
    "    display(most_popular_keywords(keywords_mean(ddocs), 10))\n",
    "    \n",
    "    print()"
   ]
  },
  {
   "cell_type": "code",
   "execution_count": null,
   "id": "8317a017-f31b-44d8-9c86-ae90d7ad7d08",
   "metadata": {},
   "outputs": [],
   "source": []
  },
  {
   "cell_type": "code",
   "execution_count": null,
   "id": "b61900c6-793e-463e-9192-6f48092b0716",
   "metadata": {},
   "outputs": [],
   "source": []
  },
  {
   "cell_type": "code",
   "execution_count": null,
   "id": "453873a7-5fb6-4aaa-b65a-54c217d6331b",
   "metadata": {},
   "outputs": [],
   "source": []
  },
  {
   "cell_type": "code",
   "execution_count": null,
   "id": "5706679e-3b1b-4c2c-bde1-d1184591d60c",
   "metadata": {},
   "outputs": [],
   "source": []
  },
  {
   "cell_type": "code",
   "execution_count": null,
   "id": "05aa1941-9897-4f9c-a48e-3100d62d4149",
   "metadata": {},
   "outputs": [],
   "source": []
  }
 ],
 "metadata": {
  "kernelspec": {
   "display_name": "Python 3 (ipykernel)",
   "language": "python",
   "name": "python3"
  },
  "language_info": {
   "codemirror_mode": {
    "name": "ipython",
    "version": 3
   },
   "file_extension": ".py",
   "mimetype": "text/x-python",
   "name": "python",
   "nbconvert_exporter": "python",
   "pygments_lexer": "ipython3",
   "version": "3.10.6"
  }
 },
 "nbformat": 4,
 "nbformat_minor": 5
}
